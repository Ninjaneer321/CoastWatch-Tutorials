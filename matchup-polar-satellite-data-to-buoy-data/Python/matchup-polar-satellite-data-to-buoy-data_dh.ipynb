{
 "cells": [
  {
   "cell_type": "markdown",
   "metadata": {},
   "source": [
    "# Matching Satellite and Buoy Data\n",
    "\n",
    "In this exercise, you will combine satellite and buoy data by extracting satellite measurements around specific points defined by buoy locations and dates.  The focus of this exercise is on matching two data sources from different projections.  \n",
    "Similar tutorials for mid to lower latitudes can be found at [https://github.com/coastwatch-training/CoastWatch-Tutorials](https://github.com/coastwatch-training/CoastWatch-Tutorials?tab=readme-ov-file#readme).\n",
    "\n",
    "## This exercise demonstrates the following techniques:\n",
    "- Using ERDDAP to retrieve buoy data in CSV format and satellite data in netCDF format\n",
    "- Importing and manipulating data with the pandas and xarray libraries\n",
    "- Resampling data to lower-resolution time steps\n",
    "- Converting latitude and longitude coordinates to the polar stereographic projection\n"
   ]
  },
  {
   "cell_type": "markdown",
   "metadata": {},
   "source": [
    "### Data used in this exercise\n",
    "\n",
    "\n",
    "__[Ice Surface Temperature, NOAA-20 VIIRS, Near Real-Time, Polar Stereographic (North), 4-day](https://polarwatch.noaa.gov/erddap/info/noaacwVIIRSn20icesrftempNP06Daily4Day/index.html\n",
    ")__\n",
    "\n",
    "This dataset provides VIIRS sea ice surface temperature for the Arctic at a 750m resolution, collected by the NOAA-20 satellite. It includes near-real-time daily data and 4-day composites for the past three weeks. For this exercise, we will use 4-day composites data.  \n",
    "\n",
    "\n",
    "__[International Arctic Buoy Programme (IABP) Buoy Data, Daily](https://polarwatch.noaa.gov/erddap/info/iabpv2_buoys/index.html)__\n",
    "\n",
    "This data set is from the US International Arctic Buoy Programme and includes meteorological and oceanographic data from buoys. Dataset is updated daily and includes multiple variables.  For this exercise, we will extract surface temperature data. \n",
    "\n",
    "\n",
    "While both instruments measure surface temperatures, they do so at different locations and with different sensors.\n",
    "\n",
    "__Satellite Ice Surface Temperature (IST)__ is measured by the Visible Infrared Imaging Radiometer Suite (VIIRS) and captures the temperature of the surface layer of ice.\n",
    "\n",
    "__Buoy Surface Temperature (Ts)__ is measured from the bottom of the buoy hull. If the buoy is floating, the reported temperature is of the sea surface. If the buoy is frozen into the ice or sitting on top of it, the reported temperature is of the ground or ice. The freezing temperature of seawater is about -1.8°C, so temperature readings below this indicate ground or ice temperatures.\n",
    "\n",
    "More details can be found in the metadata section of the data products (click on the data links above).\n",
    "\n",
    "### Load packages\n",
    "\n",
    "\n"
   ]
  },
  {
   "cell_type": "code",
   "execution_count": 2,
   "metadata": {},
   "outputs": [],
   "source": [
    "import xarray as xr\n",
    "import pandas as pd\n",
    "import requests\n",
    "import io\n",
    "import pyproj\n",
    "import numpy as np\n",
    "\n",
    "import matplotlib.pyplot as plt\n",
    "import matplotlib.dates as mdates\n",
    "import seaborn as sns\n",
    "from sklearn.metrics import r2_score \n",
    "import cartopy.crs as ccrs # cartopy: geospatial data visualization\n",
    "import cartopy.feature as cfeature\n"
   ]
  },
  {
   "cell_type": "markdown",
   "metadata": {},
   "source": [
    "### Load buoy data (IABP) from PolarWatch ERDDAP data server\n",
    "* Construct ERDDAP URL to query the IABP buoy for: buoy_id, longitude, latitude, time, and surface temperature that filters for data where surface_temp exists and for the date range between 2023-08-01 and 2023-09-30.\n",
    "* Download the data into a Pandas dataframe."
   ]
  },
  {
   "cell_type": "code",
   "execution_count": 4,
   "metadata": {},
   "outputs": [
    {
     "data": {
      "text/html": [
       "<div>\n",
       "<style scoped>\n",
       "    .dataframe tbody tr th:only-of-type {\n",
       "        vertical-align: middle;\n",
       "    }\n",
       "\n",
       "    .dataframe tbody tr th {\n",
       "        vertical-align: top;\n",
       "    }\n",
       "\n",
       "    .dataframe thead th {\n",
       "        text-align: right;\n",
       "    }\n",
       "</style>\n",
       "<table border=\"1\" class=\"dataframe\">\n",
       "  <thead>\n",
       "    <tr style=\"text-align: right;\">\n",
       "      <th></th>\n",
       "      <th>buoy_id</th>\n",
       "      <th>longitude</th>\n",
       "      <th>latitude</th>\n",
       "      <th>time</th>\n",
       "      <th>surface_temp</th>\n",
       "    </tr>\n",
       "  </thead>\n",
       "  <tbody>\n",
       "    <tr>\n",
       "      <th>0</th>\n",
       "      <td>300234066034140</td>\n",
       "      <td>-28.5226</td>\n",
       "      <td>55.0168</td>\n",
       "      <td>2023-08-01 00:00:00+00:00</td>\n",
       "      <td>13.5</td>\n",
       "    </tr>\n",
       "    <tr>\n",
       "      <th>1</th>\n",
       "      <td>300234066034140</td>\n",
       "      <td>-28.5226</td>\n",
       "      <td>55.0168</td>\n",
       "      <td>2023-08-01 01:00:02+00:00</td>\n",
       "      <td>13.4</td>\n",
       "    </tr>\n",
       "    <tr>\n",
       "      <th>2</th>\n",
       "      <td>300234066034140</td>\n",
       "      <td>-28.5226</td>\n",
       "      <td>55.0168</td>\n",
       "      <td>2023-08-01 01:59:57+00:00</td>\n",
       "      <td>13.4</td>\n",
       "    </tr>\n",
       "  </tbody>\n",
       "</table>\n",
       "</div>"
      ],
      "text/plain": [
       "           buoy_id  longitude  latitude                      time  \\\n",
       "0  300234066034140   -28.5226   55.0168 2023-08-01 00:00:00+00:00   \n",
       "1  300234066034140   -28.5226   55.0168 2023-08-01 01:00:02+00:00   \n",
       "2  300234066034140   -28.5226   55.0168 2023-08-01 01:59:57+00:00   \n",
       "\n",
       "   surface_temp  \n",
       "0          13.5  \n",
       "1          13.4  \n",
       "2          13.4  "
      ]
     },
     "execution_count": 4,
     "metadata": {},
     "output_type": "execute_result"
    }
   ],
   "source": [
    "# Construct ERDDAP URL\n",
    "buoy_url = ''.join(['https://polarwatch.noaa.gov/erddap/tabledap/iabpv2_buoys.csv?',\n",
    "                    'buoy_id,longitude,latitude,time,surface_temp',\n",
    "                    '&has_surface_temp=\"yes\"&time>=2023-08-01&time<=2023-09-30'\n",
    "                    ])\n",
    "\n",
    "# Make a request to the ERDDAP server\n",
    "req = requests.get(buoy_url).content\n",
    "\n",
    "# The response from the web service is read as a CSV file into a pandas DataFrame. \n",
    "df = pd.read_csv(io.StringIO(req.decode('utf-8')), skiprows=[1], parse_dates=['time'])\n",
    "\n",
    "df.head(3)\n",
    "\n"
   ]
  },
  {
   "cell_type": "markdown",
   "metadata": {},
   "source": [
    "### Select one buoy and process data \n",
    "Select one buoy  (buoy id = \"300534062897730\"). The buoy records measurements at intervals of minutes, resulting in a high-resolution dataset. , \n",
    "* Downsample the buoy data to align it with the daily resolution of the satellite dataset.  \n",
    "* The time data is recorded in the UTC time zone. Pandas operations often encounter issues with time zones, so remove the time zone information for easier processing."
   ]
  },
  {
   "cell_type": "code",
   "execution_count": 5,
   "metadata": {},
   "outputs": [
    {
     "name": "stdout",
     "output_type": "stream",
     "text": [
      "# of timesteps before = 8523\n",
      "# of timesteps after = 60\n"
     ]
    },
    {
     "data": {
      "text/html": [
       "<div>\n",
       "<style scoped>\n",
       "    .dataframe tbody tr th:only-of-type {\n",
       "        vertical-align: middle;\n",
       "    }\n",
       "\n",
       "    .dataframe tbody tr th {\n",
       "        vertical-align: top;\n",
       "    }\n",
       "\n",
       "    .dataframe thead th {\n",
       "        text-align: right;\n",
       "    }\n",
       "</style>\n",
       "<table border=\"1\" class=\"dataframe\">\n",
       "  <thead>\n",
       "    <tr style=\"text-align: right;\">\n",
       "      <th></th>\n",
       "      <th>buoy_id</th>\n",
       "      <th>longitude</th>\n",
       "      <th>latitude</th>\n",
       "      <th>temp_buoy</th>\n",
       "    </tr>\n",
       "    <tr>\n",
       "      <th>time</th>\n",
       "      <th></th>\n",
       "      <th></th>\n",
       "      <th></th>\n",
       "      <th></th>\n",
       "    </tr>\n",
       "  </thead>\n",
       "  <tbody>\n",
       "    <tr>\n",
       "      <th>2023-08-01</th>\n",
       "      <td>3.005341e+14</td>\n",
       "      <td>-143.782008</td>\n",
       "      <td>86.385202</td>\n",
       "      <td>2.193916</td>\n",
       "    </tr>\n",
       "    <tr>\n",
       "      <th>2023-08-02</th>\n",
       "      <td>3.005341e+14</td>\n",
       "      <td>-143.104535</td>\n",
       "      <td>86.333932</td>\n",
       "      <td>1.520208</td>\n",
       "    </tr>\n",
       "  </tbody>\n",
       "</table>\n",
       "</div>"
      ],
      "text/plain": [
       "                 buoy_id   longitude   latitude  temp_buoy\n",
       "time                                                      \n",
       "2023-08-01  3.005341e+14 -143.782008  86.385202   2.193916\n",
       "2023-08-02  3.005341e+14 -143.104535  86.333932   1.520208"
      ]
     },
     "execution_count": 5,
     "metadata": {},
     "output_type": "execute_result"
    }
   ],
   "source": [
    "# Select one buoy (buoy id = \"300534062897730\")\n",
    "buoy_df = df.loc[df[\"buoy_id\"]== 300534062897730]\n",
    "\n",
    "print('# of timesteps before =', buoy_df.shape[0] )\n",
    "\n",
    "# The resampling will put time as the df index\n",
    "buoy_df_resampled = buoy_df.resample('D', on='time').mean()\n",
    "print('# of timesteps after =', buoy_df_resampled.shape[0] )\n",
    "\n",
    "# Remove the timezone (UTC, GMT).\n",
    "buoy_df_resampled = buoy_df_resampled.tz_localize(None)\n",
    "\n",
    "# Rename the variable\n",
    "buoy_df_resampled.rename(columns={\"surface_temp\": \"temp_buoy\"},\n",
    "                         errors=\"raise\",\n",
    "                         inplace=True)\n",
    "\n",
    "buoy_df_resampled.head(2)"
   ]
  },
  {
   "cell_type": "markdown",
   "metadata": {},
   "source": [
    "### Transform buoy coordinates to polar projection\n",
    "\n",
    "The buoy locations are provided in latitude and longitude coordinates. The satellite data is in polar stereographic projection, which provided location in columns and rows with units of meters. \n",
    "* Convert the buoy locations from latitude and longitude to the corresponding columns and rows values in the polar projection."
   ]
  },
  {
   "cell_type": "code",
   "execution_count": 6,
   "metadata": {},
   "outputs": [
    {
     "data": {
      "text/html": [
       "<div>\n",
       "<style scoped>\n",
       "    .dataframe tbody tr th:only-of-type {\n",
       "        vertical-align: middle;\n",
       "    }\n",
       "\n",
       "    .dataframe tbody tr th {\n",
       "        vertical-align: top;\n",
       "    }\n",
       "\n",
       "    .dataframe thead th {\n",
       "        text-align: right;\n",
       "    }\n",
       "</style>\n",
       "<table border=\"1\" class=\"dataframe\">\n",
       "  <thead>\n",
       "    <tr style=\"text-align: right;\">\n",
       "      <th></th>\n",
       "      <th>buoy_id</th>\n",
       "      <th>longitude</th>\n",
       "      <th>latitude</th>\n",
       "      <th>temp_buoy</th>\n",
       "      <th>cols</th>\n",
       "      <th>rows</th>\n",
       "    </tr>\n",
       "    <tr>\n",
       "      <th>time</th>\n",
       "      <th></th>\n",
       "      <th></th>\n",
       "      <th></th>\n",
       "      <th></th>\n",
       "      <th></th>\n",
       "      <th></th>\n",
       "    </tr>\n",
       "  </thead>\n",
       "  <tbody>\n",
       "    <tr>\n",
       "      <th>2023-08-01</th>\n",
       "      <td>3.005341e+14</td>\n",
       "      <td>-143.782008</td>\n",
       "      <td>86.385202</td>\n",
       "      <td>2.193916</td>\n",
       "      <td>-387113.857367</td>\n",
       "      <td>59803.924517</td>\n",
       "    </tr>\n",
       "    <tr>\n",
       "      <th>2023-08-02</th>\n",
       "      <td>3.005341e+14</td>\n",
       "      <td>-143.104535</td>\n",
       "      <td>86.333932</td>\n",
       "      <td>1.520208</td>\n",
       "      <td>-393297.704017</td>\n",
       "      <td>56006.315907</td>\n",
       "    </tr>\n",
       "  </tbody>\n",
       "</table>\n",
       "</div>"
      ],
      "text/plain": [
       "                 buoy_id   longitude   latitude  temp_buoy           cols  \\\n",
       "time                                                                        \n",
       "2023-08-01  3.005341e+14 -143.782008  86.385202   2.193916 -387113.857367   \n",
       "2023-08-02  3.005341e+14 -143.104535  86.333932   1.520208 -393297.704017   \n",
       "\n",
       "                    rows  \n",
       "time                      \n",
       "2023-08-01  59803.924517  \n",
       "2023-08-02  56006.315907  "
      ]
     },
     "execution_count": 6,
     "metadata": {},
     "output_type": "execute_result"
    }
   ],
   "source": [
    "# Define the projection using the PROJ4 string format\n",
    "proj4text = \"+proj=stere +lat_0=90 +lat_ts=70 +lon_0=-45 +k=1 +x_0=0 +y_0=0 +datum=WGS84 +units=m +no_defs\"\n",
    "\n",
    "# Initialize the projection object using pyproj with the given PROJ4 text\n",
    "proj = pyproj.Proj(proj4text)\n",
    "\n",
    "# Transform latitude and longitude to x, y coordinates\n",
    "# Longitude and latitude are passed as arrays, \n",
    "# pyproj returns the corresponding x (cols) and y (rows) values\n",
    "buoy_df_resampled['cols'], buoy_df_resampled['rows'] = proj(buoy_df_resampled['longitude'].values, \n",
    "                                                            buoy_df_resampled['latitude'].values)\n",
    "\n",
    "# Verify that the 'cols' and 'rows' columns were added to dataframe\n",
    "buoy_df_resampled.head(2)"
   ]
  },
  {
   "cell_type": "code",
   "execution_count": 7,
   "metadata": {},
   "outputs": [],
   "source": [
    "# Select the first buoy location to pull corresponding satellite data\n",
    "buoy_cols = buoy_df_resampled['cols'].iloc[0]\n",
    "buoy_rows = buoy_df_resampled['rows'].iloc[0]"
   ]
  },
  {
   "cell_type": "markdown",
   "metadata": {},
   "source": [
    "### Load satellite data from PolarWatch"
   ]
  },
  {
   "cell_type": "code",
   "execution_count": 8,
   "metadata": {},
   "outputs": [],
   "source": [
    "# Construct ERDDAP data request\n",
    "gridded_url = \"https://polarwatch.noaa.gov/erddap/griddap/noaacwVIIRSn20icesrftempNP06Daily4Day\"\n",
    "\n",
    "# Open and load data into xarray dataset\n",
    "srftemp_ds = xr.open_dataset(gridded_url)\n",
    "\n",
    "# The altitude dimension has a size of 1, remove it to reduce the dimensionality\n",
    "srftemp_ds = srftemp_ds.squeeze()"
   ]
  },
  {
   "cell_type": "markdown",
   "metadata": {},
   "source": [
    "### Select satellite data to match buoy location and dates\n",
    "\n",
    "Subset the satellite data using the buoy locations and dates."
   ]
  },
  {
   "cell_type": "code",
   "execution_count": 19,
   "metadata": {},
   "outputs": [],
   "source": [
    "buoy_cols = buoy_df_resampled['cols'].values\n",
    "buoy_rows = buoy_df_resampled['rows'].values\n",
    "buoy_times = buoy_df_resampled.index.values\n",
    "\n",
    "sat_temps =[]\n",
    "for ct, buoy_col in enumerate(buoy_cols):\n",
    "    sat_temp = srftemp_ds['IceSrfTemp'].sel(\n",
    "                     rows=buoy_rows[ct],\n",
    "                     cols=buoy_col, \n",
    "                     time=buoy_times[ct],\n",
    "                     method='nearest'\n",
    "                     )\n",
    "    \n",
    "    sat_temps.append(sat_temp.values.item())"
   ]
  },
  {
   "cell_type": "markdown",
   "metadata": {},
   "source": [
    "### Merge satellite ice temperature data with buoy  \n",
    "Merge the datasets by index (date). Not all buoy dates have corresponding satellite data. Unmatched dates will be filled with NaN values."
   ]
  },
  {
   "cell_type": "code",
   "execution_count": 76,
   "metadata": {},
   "outputs": [
    {
     "data": {
      "text/html": [
       "<div>\n",
       "<style scoped>\n",
       "    .dataframe tbody tr th:only-of-type {\n",
       "        vertical-align: middle;\n",
       "    }\n",
       "\n",
       "    .dataframe tbody tr th {\n",
       "        vertical-align: top;\n",
       "    }\n",
       "\n",
       "    .dataframe thead th {\n",
       "        text-align: right;\n",
       "    }\n",
       "</style>\n",
       "<table border=\"1\" class=\"dataframe\">\n",
       "  <thead>\n",
       "    <tr style=\"text-align: right;\">\n",
       "      <th></th>\n",
       "      <th>buoy_id</th>\n",
       "      <th>longitude</th>\n",
       "      <th>latitude</th>\n",
       "      <th>temp_buoy</th>\n",
       "      <th>cols</th>\n",
       "      <th>rows</th>\n",
       "      <th>temp_sat</th>\n",
       "    </tr>\n",
       "    <tr>\n",
       "      <th>time</th>\n",
       "      <th></th>\n",
       "      <th></th>\n",
       "      <th></th>\n",
       "      <th></th>\n",
       "      <th></th>\n",
       "      <th></th>\n",
       "      <th></th>\n",
       "    </tr>\n",
       "  </thead>\n",
       "  <tbody>\n",
       "    <tr>\n",
       "      <th>2023-08-01</th>\n",
       "      <td>3.005341e+14</td>\n",
       "      <td>-143.782008</td>\n",
       "      <td>86.385202</td>\n",
       "      <td>2.193916</td>\n",
       "      <td>-387113.857367</td>\n",
       "      <td>59803.924517</td>\n",
       "      <td>-0.413336</td>\n",
       "    </tr>\n",
       "    <tr>\n",
       "      <th>2023-08-02</th>\n",
       "      <td>3.005341e+14</td>\n",
       "      <td>-143.104535</td>\n",
       "      <td>86.333932</td>\n",
       "      <td>1.520208</td>\n",
       "      <td>-393297.704017</td>\n",
       "      <td>56006.315907</td>\n",
       "      <td>NaN</td>\n",
       "    </tr>\n",
       "    <tr>\n",
       "      <th>2023-08-03</th>\n",
       "      <td>3.005341e+14</td>\n",
       "      <td>-142.195432</td>\n",
       "      <td>86.271987</td>\n",
       "      <td>0.803264</td>\n",
       "      <td>-400800.933610</td>\n",
       "      <td>50600.465317</td>\n",
       "      <td>NaN</td>\n",
       "    </tr>\n",
       "  </tbody>\n",
       "</table>\n",
       "</div>"
      ],
      "text/plain": [
       "                 buoy_id   longitude   latitude  temp_buoy           cols  \\\n",
       "time                                                                        \n",
       "2023-08-01  3.005341e+14 -143.782008  86.385202   2.193916 -387113.857367   \n",
       "2023-08-02  3.005341e+14 -143.104535  86.333932   1.520208 -393297.704017   \n",
       "2023-08-03  3.005341e+14 -142.195432  86.271987   0.803264 -400800.933610   \n",
       "\n",
       "                    rows  temp_sat  \n",
       "time                                \n",
       "2023-08-01  59803.924517 -0.413336  \n",
       "2023-08-02  56006.315907       NaN  \n",
       "2023-08-03  50600.465317       NaN  "
      ]
     },
     "execution_count": 76,
     "metadata": {},
     "output_type": "execute_result"
    }
   ],
   "source": [
    "merged_df = buoy_df_resampled\n",
    "\n",
    "merged_df['temp_sat'] = np.array(sat_temps) - 273.15\n",
    "\n",
    "merged_df.head(3)"
   ]
  },
  {
   "cell_type": "markdown",
   "metadata": {},
   "source": [
    "### Visualize matched dataSets\n",
    "Visualize the matched buoy and satellite datasets to assess the data alignment. "
   ]
  },
  {
   "cell_type": "code",
   "execution_count": 79,
   "metadata": {},
   "outputs": [
    {
     "data": {
      "text/plain": [
       "<matplotlib.legend.Legend at 0x1a5a19db0>"
      ]
     },
     "execution_count": 79,
     "metadata": {},
     "output_type": "execute_result"
    },
    {
     "data": {
      "image/png": "[encoded data removed]",
      "text/plain": [
       "<Figure size 1000x500 with 1 Axes>"
      ]
     },
     "metadata": {},
     "output_type": "display_data"
    }
   ],
   "source": [
    "plt.figure(figsize = (10, 5)) \n",
    "# Plot the SeaWiFS data\n",
    "plt.plot_date(merged_df.index, merged_df.temp_buoy, \n",
    "              'o', markersize=3, \n",
    "              label='Buoy Surface Temperature', c='red', \n",
    "              linestyle='-', linewidth=1) \n",
    "\n",
    "# Add MODIS data\n",
    "plt.plot_date(merged_df.index, merged_df.temp_sat,  \n",
    "              's', markersize=3, \n",
    "              label='VIIRS Sea Ice Surface Temperature', c='blue', \n",
    "              linestyle='-', linewidth=0) \n",
    "\n",
    "#plt.ylim([0, 3])\n",
    "plt.ylabel('Temperature (degrees C)') \n",
    "plt.xticks(rotation=45)\n",
    "plt.legend()"
   ]
  }
 ],
 "metadata": {
  "kernelspec": {
   "display_name": "Python 3 (ipykernel)",
   "language": "python",
   "name": "python3"
  },
  "language_info": {
   "codemirror_mode": {
    "name": "ipython",
    "version": 3
   },
   "file_extension": ".py",
   "mimetype": "text/x-python",
   "name": "python",
   "nbconvert_exporter": "python",
   "pygments_lexer": "ipython3",
   "version": "3.10.12"
  }
 },
 "nbformat": 4,
 "nbformat_minor": 2
}
