{
 "cells": [
  {
   "cell_type": "markdown",
   "metadata": {},
   "source": [
    "# Comparing chlorophyll data from two different sensors\n",
    "> Updated August 2023 <br/>"
   ]
  },
  {
   "cell_type": "markdown",
   "metadata": {},
   "source": [
    "Different ocean color sensors have been launched since 1997 to provide continuous global ocean color data. In the effort to provide long-term trend measurement values, newer sensors continued to be launched in replacement of the older.  Due to differences in sensor design and calibration, measurement values such as chlorophyll-a concentration values do not match during their periods of overlap, making it challenging to study long-term trends. \n",
    "\n",
    "### Objective\n",
    "\n",
    "This tutorial will demonstrate how to compare mean chlorophyll-a concentration data from two sensors during overlapping time coverage.\n",
    "\n",
    "\n",
    "### The tutorial demonstrates the following techniques\n",
    "-   Downloading and saving a netcdf file from CoastWatch ERDDAP data server\n",
    "-   Accessing and examining satellite data and metadata\n",
    "-   Performing data wrangling including grouping, averaging, reformatting dates, etc.\n",
    "-   Visualizing data on a map\n",
    "-   Plotting two cholorphyll time series from the two sensors\n",
    "\n",
    "### Datasets used\n",
    "\n",
    "- Color Producing Agent (CPA) Chlorophyll daily data from MODIS sensor of Lake Erie (2002-2017) \n",
    "\n",
    "- Chlorophyll a from VIIRS (2018-2020)\n"
   ]
  },
  {
   "cell_type": "markdown",
   "metadata": {},
   "source": [
    "## Import Packages"
   ]
  },
  {
   "cell_type": "code",
   "execution_count": 1,
   "metadata": {
    "ExecuteTime": {
     "end_time": "2023-08-23T22:08:49.622476Z",
     "start_time": "2023-08-23T22:08:49.152772Z"
    }
   },
   "outputs": [],
   "source": [
    "import urllib.request \n",
    "import xarray as xr \n",
    "import netCDF4 as nc\n",
    "import pandas as pd \n",
    "import numpy as np \n",
    "from matplotlib import pyplot as plt \n",
    "from matplotlib.colors import LinearSegmentedColormap \n",
    "import warnings\n",
    "warnings.filterwarnings('ignore')"
   ]
  },
  {
   "cell_type": "markdown",
   "metadata": {
    "ExecuteTime": {
     "end_time": "2023-08-23T22:13:39.167012Z",
     "start_time": "2023-08-23T22:13:39.153533Z"
    }
   },
   "source": [
    "## Download Lake Erie dailly MODIS data\n",
    "\n",
    "We will download chlorophyll daily data from MODIS sensor from CoastWatch ERDDAP data server.  \n",
    "(Dataset ID: **LE_CHL_MODIS_Daily**)\n",
    "\n",
    "You should always examine the dataset in ERDDAP to check the date range, names of the variables and dataset ID, to make sure your griddap calls are correct.\n",
    "\n",
    "CoastWatch MODIS Chlorophyll data page : \n",
    "https://coastwatch.glerl.noaa.gov/erddap/griddap/LE_CHL_MODIS_Daily.html\n",
    "\n",
    "\n",
    "\n",
    "### Review of the ERDDAP data request URL\n",
    "For our first exercise, we will download MODIS choloraphyll-a data with the following conditions:\n",
    "* dates between August 2002 - August 2017  \n",
    "\n",
    "\n",
    "* bounding coordinates with latitudes (41.005 to 42.995 ) and longitudes (-83.495 to -78.505) degrees respectively.\n",
    "\n",
    "__The ERDDAP data request URL for this data subset is presented below.__ \n",
    "\n",
    "```\n",
    "https://coastwatch.glerl.noaa.gov/erddap/griddap/LE_CHL_MODIS_Daily.nc?chlorophyll%5B(2002-08-07T19:05:00Z):1:(2017-10-22T18:00:00Z)%5D%5B(41.0051550293714):1:(42.9950003885447)%5D%5B(-83.4950003885448):1:(-78.505388156246)%5D\n",
    "```\n",
    "\n",
    "__The following table shows the component parts of the ERDDAP data request URL.__  \n",
    "\n",
    "| Name   | Value| Description |\n",
    "| ---:        |    :----   |          :--- |\n",
    "| **base_url**    |    https://coastwatch.glerl.noaa.gov/erddap/griddap/  | ERDDAP URL for gridded datasets\n",
    "| **datasetID** | LE_CHL_MODIS_Daily   | Unique ID for dataset from PolarWatch ERDDAP\n",
    "| **file_type**  | .nc        | format of file to download (netCDF) |\n",
    "| **query_start**   | ?        | Details of the query follow the ?  \n",
    "| **variable_name**   | chlorophyll        | Variable from the dataset \n",
    "| **date_range**   | [(2002-08-07T19:05:00Z):1:(2017-10-22T18:00:00Z)]      |  Temporal range (2021-01-01)\n",
    "| **spatial_range**   | [(41.0051550293714):1:(42.9950003885447)][(-83.4950003885448):1:(-78.505388156246)]  |  Lat and Lon ranges \n"
   ]
  },
  {
   "cell_type": "code",
   "execution_count": 3,
   "metadata": {
    "ExecuteTime": {
     "end_time": "2023-08-23T22:27:01.408544Z",
     "start_time": "2023-08-23T22:22:25.785590Z"
    },
    "scrolled": true
   },
   "outputs": [
    {
     "data": {
      "text/plain": [
       "('e_chl_modis.nc', <http.client.HTTPMessage at 0x127c0abd0>)"
      ]
     },
     "execution_count": 3,
     "metadata": {},
     "output_type": "execute_result"
    }
   ],
   "source": [
    "# Set ERDDAP URL \n",
    "url='https://coastwatch.glerl.noaa.gov/erddap/griddap/LE_CHL_MODIS_Daily.nc?chlorophyll%5B(2002-08-07T19:05:00Z):1:(2017-10-22T18:00:00Z)%5D%5B(41.0051550293714):1:(42.9950003885447)%5D%5B(-83.4950003885448):1:(-78.505388156246)%5D'\n",
    "\n",
    "# Send data request to the ERDDAP URL and save to a file\n",
    "urllib.request.urlretrieve(url, \"e_chl_modis.nc\")"
   ]
  },
  {
   "cell_type": "code",
   "execution_count": 7,
   "metadata": {
    "ExecuteTime": {
     "end_time": "2023-08-23T22:28:16.421623Z",
     "start_time": "2023-08-23T22:28:16.404378Z"
    }
   },
   "outputs": [],
   "source": [
    "# Load the data using xarray\n",
    "e_m_ds = xr.open_dataset('e_chl_modis.nc',decode_cf=False)"
   ]
  },
  {
   "cell_type": "markdown",
   "metadata": {},
   "source": [
    "## Examine the downloaded data and metadata\n",
    "\n",
    "Once the data are downloaded, it is important to examine the dataset structure, dimensions, coordinates, and variables to get information about the data for any data wranging work."
   ]
  },
  {
   "cell_type": "code",
   "execution_count": 8,
   "metadata": {
    "ExecuteTime": {
     "end_time": "2023-08-23T22:28:18.071831Z",
     "start_time": "2023-08-23T22:28:18.056989Z"
    }
   },
   "outputs": [
    {
     "data": {
      "text/plain": [
       "Coordinates:\n",
       "  * time       (time) float64 1.029e+09 1.029e+09 ... 1.509e+09 1.509e+09\n",
       "  * latitude   (latitude) float64 41.01 41.02 41.03 41.04 ... 42.98 42.99 43.0\n",
       "  * longitude  (longitude) float64 -83.5 -83.49 -83.48 ... -78.53 -78.52 -78.51"
      ]
     },
     "execution_count": 8,
     "metadata": {},
     "output_type": "execute_result"
    }
   ],
   "source": [
    "# Examine coordinates of the data\n",
    "e_m_ds.coords"
   ]
  },
  {
   "cell_type": "code",
   "execution_count": 9,
   "metadata": {
    "ExecuteTime": {
     "end_time": "2023-08-23T22:28:22.759510Z",
     "start_time": "2023-08-23T22:28:22.738964Z"
    }
   },
   "outputs": [
    {
     "data": {
      "text/html": [
       "<div><svg style=\"position: absolute; width: 0; height: 0; overflow: hidden\">\n",
       "<defs>\n",
       "<symbol id=\"icon-database\" viewBox=\"0 0 32 32\">\n",
       "<path d=\"M16 0c-8.837 0-16 2.239-16 5v4c0 2.761 7.163 5 16 5s16-2.239 16-5v-4c0-2.761-7.163-5-16-5z\"></path>\n",
       "<path d=\"M16 17c-8.837 0-16-2.239-16-5v6c0 2.761 7.163 5 16 5s16-2.239 16-5v-6c0 2.761-7.163 5-16 5z\"></path>\n",
       "<path d=\"M16 26c-8.837 0-16-2.239-16-5v6c0 2.761 7.163 5 16 5s16-2.239 16-5v-6c0 2.761-7.163 5-16 5z\"></path>\n",
       "</symbol>\n",
       "<symbol id=\"icon-file-text2\" viewBox=\"0 0 32 32\">\n",
       "<path d=\"M28.681 7.159c-0.694-0.947-1.662-2.053-2.724-3.116s-2.169-2.030-3.116-2.724c-1.612-1.182-2.393-1.319-2.841-1.319h-15.5c-1.378 0-2.5 1.121-2.5 2.5v27c0 1.378 1.122 2.5 2.5 2.5h23c1.378 0 2.5-1.122 2.5-2.5v-19.5c0-0.448-0.137-1.23-1.319-2.841zM24.543 5.457c0.959 0.959 1.712 1.825 2.268 2.543h-4.811v-4.811c0.718 0.556 1.584 1.309 2.543 2.268zM28 29.5c0 0.271-0.229 0.5-0.5 0.5h-23c-0.271 0-0.5-0.229-0.5-0.5v-27c0-0.271 0.229-0.5 0.5-0.5 0 0 15.499-0 15.5 0v7c0 0.552 0.448 1 1 1h7v19.5z\"></path>\n",
       "<path d=\"M23 26h-14c-0.552 0-1-0.448-1-1s0.448-1 1-1h14c0.552 0 1 0.448 1 1s-0.448 1-1 1z\"></path>\n",
       "<path d=\"M23 22h-14c-0.552 0-1-0.448-1-1s0.448-1 1-1h14c0.552 0 1 0.448 1 1s-0.448 1-1 1z\"></path>\n",
       "<path d=\"M23 18h-14c-0.552 0-1-0.448-1-1s0.448-1 1-1h14c0.552 0 1 0.448 1 1s-0.448 1-1 1z\"></path>\n",
       "</symbol>\n",
       "</defs>\n",
       "</svg>\n",
       "<style>/* CSS stylesheet for displaying xarray objects in jupyterlab.\n",
       " *\n",
       " */\n",
       "\n",
       ":root {\n",
       "  --xr-font-color0: var(--jp-content-font-color0, rgba(0, 0, 0, 1));\n",
       "  --xr-font-color2: var(--jp-content-font-color2, rgba(0, 0, 0, 0.54));\n",
       "  --xr-font-color3: var(--jp-content-font-color3, rgba(0, 0, 0, 0.38));\n",
       "  --xr-border-color: var(--jp-border-color2, #e0e0e0);\n",
       "  --xr-disabled-color: var(--jp-layout-color3, #bdbdbd);\n",
       "  --xr-background-color: var(--jp-layout-color0, white);\n",
       "  --xr-background-color-row-even: var(--jp-layout-color1, white);\n",
       "  --xr-background-color-row-odd: var(--jp-layout-color2, #eeeeee);\n",
       "}\n",
       "\n",
       "html[theme=dark],\n",
       "body[data-theme=dark],\n",
       "body.vscode-dark {\n",
       "  --xr-font-color0: rgba(255, 255, 255, 1);\n",
       "  --xr-font-color2: rgba(255, 255, 255, 0.54);\n",
       "  --xr-font-color3: rgba(255, 255, 255, 0.38);\n",
       "  --xr-border-color: #1F1F1F;\n",
       "  --xr-disabled-color: #515151;\n",
       "  --xr-background-color: #111111;\n",
       "  --xr-background-color-row-even: #111111;\n",
       "  --xr-background-color-row-odd: #313131;\n",
       "}\n",
       "\n",
       ".xr-wrap {\n",
       "  display: block !important;\n",
       "  min-width: 300px;\n",
       "  max-width: 700px;\n",
       "}\n",
       "\n",
       ".xr-text-repr-fallback {\n",
       "  /* fallback to plain text repr when CSS is not injected (untrusted notebook) */\n",
       "  display: none;\n",
       "}\n",
       "\n",
       ".xr-header {\n",
       "  padding-top: 6px;\n",
       "  padding-bottom: 6px;\n",
       "  margin-bottom: 4px;\n",
       "  border-bottom: solid 1px var(--xr-border-color);\n",
       "}\n",
       "\n",
       ".xr-header > div,\n",
       ".xr-header > ul {\n",
       "  display: inline;\n",
       "  margin-top: 0;\n",
       "  margin-bottom: 0;\n",
       "}\n",
       "\n",
       ".xr-obj-type,\n",
       ".xr-array-name {\n",
       "  margin-left: 2px;\n",
       "  margin-right: 10px;\n",
       "}\n",
       "\n",
       ".xr-obj-type {\n",
       "  color: var(--xr-font-color2);\n",
       "}\n",
       "\n",
       ".xr-sections {\n",
       "  padding-left: 0 !important;\n",
       "  display: grid;\n",
       "  grid-template-columns: 150px auto auto 1fr 20px 20px;\n",
       "}\n",
       "\n",
       ".xr-section-item {\n",
       "  display: contents;\n",
       "}\n",
       "\n",
       ".xr-section-item input {\n",
       "  display: none;\n",
       "}\n",
       "\n",
       ".xr-section-item input + label {\n",
       "  color: var(--xr-disabled-color);\n",
       "}\n",
       "\n",
       ".xr-section-item input:enabled + label {\n",
       "  cursor: pointer;\n",
       "  color: var(--xr-font-color2);\n",
       "}\n",
       "\n",
       ".xr-section-item input:enabled + label:hover {\n",
       "  color: var(--xr-font-color0);\n",
       "}\n",
       "\n",
       ".xr-section-summary {\n",
       "  grid-column: 1;\n",
       "  color: var(--xr-font-color2);\n",
       "  font-weight: 500;\n",
       "}\n",
       "\n",
       ".xr-section-summary > span {\n",
       "  display: inline-block;\n",
       "  padding-left: 0.5em;\n",
       "}\n",
       "\n",
       ".xr-section-summary-in:disabled + label {\n",
       "  color: var(--xr-font-color2);\n",
       "}\n",
       "\n",
       ".xr-section-summary-in + label:before {\n",
       "  display: inline-block;\n",
       "  content: '►';\n",
       "  font-size: 11px;\n",
       "  width: 15px;\n",
       "  text-align: center;\n",
       "}\n",
       "\n",
       ".xr-section-summary-in:disabled + label:before {\n",
       "  color: var(--xr-disabled-color);\n",
       "}\n",
       "\n",
       ".xr-section-summary-in:checked + label:before {\n",
       "  content: '▼';\n",
       "}\n",
       "\n",
       ".xr-section-summary-in:checked + label > span {\n",
       "  display: none;\n",
       "}\n",
       "\n",
       ".xr-section-summary,\n",
       ".xr-section-inline-details {\n",
       "  padding-top: 4px;\n",
       "  padding-bottom: 4px;\n",
       "}\n",
       "\n",
       ".xr-section-inline-details {\n",
       "  grid-column: 2 / -1;\n",
       "}\n",
       "\n",
       ".xr-section-details {\n",
       "  display: none;\n",
       "  grid-column: 1 / -1;\n",
       "  margin-bottom: 5px;\n",
       "}\n",
       "\n",
       ".xr-section-summary-in:checked ~ .xr-section-details {\n",
       "  display: contents;\n",
       "}\n",
       "\n",
       ".xr-array-wrap {\n",
       "  grid-column: 1 / -1;\n",
       "  display: grid;\n",
       "  grid-template-columns: 20px auto;\n",
       "}\n",
       "\n",
       ".xr-array-wrap > label {\n",
       "  grid-column: 1;\n",
       "  vertical-align: top;\n",
       "}\n",
       "\n",
       ".xr-preview {\n",
       "  color: var(--xr-font-color3);\n",
       "}\n",
       "\n",
       ".xr-array-preview,\n",
       ".xr-array-data {\n",
       "  padding: 0 5px !important;\n",
       "  grid-column: 2;\n",
       "}\n",
       "\n",
       ".xr-array-data,\n",
       ".xr-array-in:checked ~ .xr-array-preview {\n",
       "  display: none;\n",
       "}\n",
       "\n",
       ".xr-array-in:checked ~ .xr-array-data,\n",
       ".xr-array-preview {\n",
       "  display: inline-block;\n",
       "}\n",
       "\n",
       ".xr-dim-list {\n",
       "  display: inline-block !important;\n",
       "  list-style: none;\n",
       "  padding: 0 !important;\n",
       "  margin: 0;\n",
       "}\n",
       "\n",
       ".xr-dim-list li {\n",
       "  display: inline-block;\n",
       "  padding: 0;\n",
       "  margin: 0;\n",
       "}\n",
       "\n",
       ".xr-dim-list:before {\n",
       "  content: '(';\n",
       "}\n",
       "\n",
       ".xr-dim-list:after {\n",
       "  content: ')';\n",
       "}\n",
       "\n",
       ".xr-dim-list li:not(:last-child):after {\n",
       "  content: ',';\n",
       "  padding-right: 5px;\n",
       "}\n",
       "\n",
       ".xr-has-index {\n",
       "  font-weight: bold;\n",
       "}\n",
       "\n",
       ".xr-var-list,\n",
       ".xr-var-item {\n",
       "  display: contents;\n",
       "}\n",
       "\n",
       ".xr-var-item > div,\n",
       ".xr-var-item label,\n",
       ".xr-var-item > .xr-var-name span {\n",
       "  background-color: var(--xr-background-color-row-even);\n",
       "  margin-bottom: 0;\n",
       "}\n",
       "\n",
       ".xr-var-item > .xr-var-name:hover span {\n",
       "  padding-right: 5px;\n",
       "}\n",
       "\n",
       ".xr-var-list > li:nth-child(odd) > div,\n",
       ".xr-var-list > li:nth-child(odd) > label,\n",
       ".xr-var-list > li:nth-child(odd) > .xr-var-name span {\n",
       "  background-color: var(--xr-background-color-row-odd);\n",
       "}\n",
       "\n",
       ".xr-var-name {\n",
       "  grid-column: 1;\n",
       "}\n",
       "\n",
       ".xr-var-dims {\n",
       "  grid-column: 2;\n",
       "}\n",
       "\n",
       ".xr-var-dtype {\n",
       "  grid-column: 3;\n",
       "  text-align: right;\n",
       "  color: var(--xr-font-color2);\n",
       "}\n",
       "\n",
       ".xr-var-preview {\n",
       "  grid-column: 4;\n",
       "}\n",
       "\n",
       ".xr-index-preview {\n",
       "  grid-column: 2 / 5;\n",
       "  color: var(--xr-font-color2);\n",
       "}\n",
       "\n",
       ".xr-var-name,\n",
       ".xr-var-dims,\n",
       ".xr-var-dtype,\n",
       ".xr-preview,\n",
       ".xr-attrs dt {\n",
       "  white-space: nowrap;\n",
       "  overflow: hidden;\n",
       "  text-overflow: ellipsis;\n",
       "  padding-right: 10px;\n",
       "}\n",
       "\n",
       ".xr-var-name:hover,\n",
       ".xr-var-dims:hover,\n",
       ".xr-var-dtype:hover,\n",
       ".xr-attrs dt:hover {\n",
       "  overflow: visible;\n",
       "  width: auto;\n",
       "  z-index: 1;\n",
       "}\n",
       "\n",
       ".xr-var-attrs,\n",
       ".xr-var-data,\n",
       ".xr-index-data {\n",
       "  display: none;\n",
       "  background-color: var(--xr-background-color) !important;\n",
       "  padding-bottom: 5px !important;\n",
       "}\n",
       "\n",
       ".xr-var-attrs-in:checked ~ .xr-var-attrs,\n",
       ".xr-var-data-in:checked ~ .xr-var-data,\n",
       ".xr-index-data-in:checked ~ .xr-index-data {\n",
       "  display: block;\n",
       "}\n",
       "\n",
       ".xr-var-data > table {\n",
       "  float: right;\n",
       "}\n",
       "\n",
       ".xr-var-name span,\n",
       ".xr-var-data,\n",
       ".xr-index-name div,\n",
       ".xr-index-data,\n",
       ".xr-attrs {\n",
       "  padding-left: 25px !important;\n",
       "}\n",
       "\n",
       ".xr-attrs,\n",
       ".xr-var-attrs,\n",
       ".xr-var-data,\n",
       ".xr-index-data {\n",
       "  grid-column: 1 / -1;\n",
       "}\n",
       "\n",
       "dl.xr-attrs {\n",
       "  padding: 0;\n",
       "  margin: 0;\n",
       "  display: grid;\n",
       "  grid-template-columns: 125px auto;\n",
       "}\n",
       "\n",
       ".xr-attrs dt,\n",
       ".xr-attrs dd {\n",
       "  padding: 0;\n",
       "  margin: 0;\n",
       "  float: left;\n",
       "  padding-right: 10px;\n",
       "  width: auto;\n",
       "}\n",
       "\n",
       ".xr-attrs dt {\n",
       "  font-weight: normal;\n",
       "  grid-column: 1;\n",
       "}\n",
       "\n",
       ".xr-attrs dt:hover span {\n",
       "  display: inline-block;\n",
       "  background: var(--xr-background-color);\n",
       "  padding-right: 10px;\n",
       "}\n",
       "\n",
       ".xr-attrs dd {\n",
       "  grid-column: 2;\n",
       "  white-space: pre-wrap;\n",
       "  word-break: break-all;\n",
       "}\n",
       "\n",
       ".xr-icon-database,\n",
       ".xr-icon-file-text2,\n",
       ".xr-no-icon {\n",
       "  display: inline-block;\n",
       "  vertical-align: middle;\n",
       "  width: 1em;\n",
       "  height: 1.5em !important;\n",
       "  stroke-width: 0;\n",
       "  stroke: currentColor;\n",
       "  fill: currentColor;\n",
       "}\n",
       "</style><pre class='xr-text-repr-fallback'>&lt;xarray.DataArray &#x27;time&#x27; (time: 506)&gt;\n",
       "array([1.028747e+09, 1.028830e+09, 1.028919e+09, ..., 1.508440e+09,\n",
       "       1.508523e+09, 1.508695e+09])\n",
       "Coordinates:\n",
       "  * time     (time) float64 1.029e+09 1.029e+09 ... 1.509e+09 1.509e+09\n",
       "Attributes:\n",
       "    _CoordinateAxisType:  Time\n",
       "    actual_range:         [1.0287471e+09 1.5086952e+09]\n",
       "    axis:                 T\n",
       "    fraction_digits:      0\n",
       "    ioos_category:        Time\n",
       "    long_name:            Easten Time\n",
       "    standard_name:        time\n",
       "    time_origin:          01-JAN-1970 00:00:00\n",
       "    units:                seconds since 1970-01-01T00:00:00Z</pre><div class='xr-wrap' style='display:none'><div class='xr-header'><div class='xr-obj-type'>xarray.DataArray</div><div class='xr-array-name'>'time'</div><ul class='xr-dim-list'><li><span class='xr-has-index'>time</span>: 506</li></ul></div><ul class='xr-sections'><li class='xr-section-item'><div class='xr-array-wrap'><input id='section-72345998-96b9-464a-9773-9bd114893d6e' class='xr-array-in' type='checkbox' checked><label for='section-72345998-96b9-464a-9773-9bd114893d6e' title='Show/hide data repr'><svg class='icon xr-icon-database'><use xlink:href='#icon-database'></use></svg></label><div class='xr-array-preview xr-preview'><span>1.029e+09 1.029e+09 1.029e+09 ... 1.508e+09 1.509e+09 1.509e+09</span></div><div class='xr-array-data'><pre>array([1.028747e+09, 1.028830e+09, 1.028919e+09, ..., 1.508440e+09,\n",
       "       1.508523e+09, 1.508695e+09])</pre></div></div></li><li class='xr-section-item'><input id='section-cf3d59ec-0f63-404d-b82e-dca5401b8d7c' class='xr-section-summary-in' type='checkbox'  checked><label for='section-cf3d59ec-0f63-404d-b82e-dca5401b8d7c' class='xr-section-summary' >Coordinates: <span>(1)</span></label><div class='xr-section-inline-details'></div><div class='xr-section-details'><ul class='xr-var-list'><li class='xr-var-item'><div class='xr-var-name'><span class='xr-has-index'>time</span></div><div class='xr-var-dims'>(time)</div><div class='xr-var-dtype'>float64</div><div class='xr-var-preview xr-preview'>1.029e+09 1.029e+09 ... 1.509e+09</div><input id='attrs-20af2adf-9e42-4262-9ffe-ac57ea2cbc79' class='xr-var-attrs-in' type='checkbox' ><label for='attrs-20af2adf-9e42-4262-9ffe-ac57ea2cbc79' title='Show/Hide attributes'><svg class='icon xr-icon-file-text2'><use xlink:href='#icon-file-text2'></use></svg></label><input id='data-b9a11dec-0acc-435e-a667-0e37a6819366' class='xr-var-data-in' type='checkbox'><label for='data-b9a11dec-0acc-435e-a667-0e37a6819366' title='Show/Hide data repr'><svg class='icon xr-icon-database'><use xlink:href='#icon-database'></use></svg></label><div class='xr-var-attrs'><dl class='xr-attrs'><dt><span>_CoordinateAxisType :</span></dt><dd>Time</dd><dt><span>actual_range :</span></dt><dd>[1.0287471e+09 1.5086952e+09]</dd><dt><span>axis :</span></dt><dd>T</dd><dt><span>fraction_digits :</span></dt><dd>0</dd><dt><span>ioos_category :</span></dt><dd>Time</dd><dt><span>long_name :</span></dt><dd>Easten Time</dd><dt><span>standard_name :</span></dt><dd>time</dd><dt><span>time_origin :</span></dt><dd>01-JAN-1970 00:00:00</dd><dt><span>units :</span></dt><dd>seconds since 1970-01-01T00:00:00Z</dd></dl></div><div class='xr-var-data'><pre>array([1.028747e+09, 1.028830e+09, 1.028919e+09, ..., 1.508440e+09,\n",
       "       1.508523e+09, 1.508695e+09])</pre></div></li></ul></div></li><li class='xr-section-item'><input id='section-3a4c073f-d452-4798-9ff2-d1511f07619d' class='xr-section-summary-in' type='checkbox'  ><label for='section-3a4c073f-d452-4798-9ff2-d1511f07619d' class='xr-section-summary' >Indexes: <span>(1)</span></label><div class='xr-section-inline-details'></div><div class='xr-section-details'><ul class='xr-var-list'><li class='xr-var-item'><div class='xr-index-name'><div>time</div></div><div class='xr-index-preview'>PandasIndex</div><div></div><input id='index-656f82b5-e251-4e52-88a0-0fcc5e248ece' class='xr-index-data-in' type='checkbox'/><label for='index-656f82b5-e251-4e52-88a0-0fcc5e248ece' title='Show/Hide index repr'><svg class='icon xr-icon-database'><use xlink:href='#icon-database'></use></svg></label><div class='xr-index-data'><pre>PandasIndex(Float64Index([1028747100.0, 1028830200.0, 1028919300.0, 1029002400.0,\n",
       "              1029607500.0, 1029868500.0, 1030301700.0, 1030473600.0,\n",
       "              1030645800.0, 1030817700.0,\n",
       "              ...\n",
       "              1506968700.0, 1507057500.0, 1507229700.0, 1507573800.0,\n",
       "              1508178900.0, 1508262000.0, 1508351100.0, 1508439900.0,\n",
       "              1508523000.0, 1508695200.0],\n",
       "             dtype=&#x27;float64&#x27;, name=&#x27;time&#x27;, length=506))</pre></div></li></ul></div></li><li class='xr-section-item'><input id='section-1b29ea73-5469-4050-ba1d-74ba93019386' class='xr-section-summary-in' type='checkbox'  checked><label for='section-1b29ea73-5469-4050-ba1d-74ba93019386' class='xr-section-summary' >Attributes: <span>(9)</span></label><div class='xr-section-inline-details'></div><div class='xr-section-details'><dl class='xr-attrs'><dt><span>_CoordinateAxisType :</span></dt><dd>Time</dd><dt><span>actual_range :</span></dt><dd>[1.0287471e+09 1.5086952e+09]</dd><dt><span>axis :</span></dt><dd>T</dd><dt><span>fraction_digits :</span></dt><dd>0</dd><dt><span>ioos_category :</span></dt><dd>Time</dd><dt><span>long_name :</span></dt><dd>Easten Time</dd><dt><span>standard_name :</span></dt><dd>time</dd><dt><span>time_origin :</span></dt><dd>01-JAN-1970 00:00:00</dd><dt><span>units :</span></dt><dd>seconds since 1970-01-01T00:00:00Z</dd></dl></div></li></ul></div></div>"
      ],
      "text/plain": [
       "<xarray.DataArray 'time' (time: 506)>\n",
       "array([1.028747e+09, 1.028830e+09, 1.028919e+09, ..., 1.508440e+09,\n",
       "       1.508523e+09, 1.508695e+09])\n",
       "Coordinates:\n",
       "  * time     (time) float64 1.029e+09 1.029e+09 ... 1.509e+09 1.509e+09\n",
       "Attributes:\n",
       "    _CoordinateAxisType:  Time\n",
       "    actual_range:         [1.0287471e+09 1.5086952e+09]\n",
       "    axis:                 T\n",
       "    fraction_digits:      0\n",
       "    ioos_category:        Time\n",
       "    long_name:            Easten Time\n",
       "    standard_name:        time\n",
       "    time_origin:          01-JAN-1970 00:00:00\n",
       "    units:                seconds since 1970-01-01T00:00:00Z"
      ]
     },
     "execution_count": 9,
     "metadata": {},
     "output_type": "execute_result"
    }
   ],
   "source": [
    "# Examine time variable\n",
    "e_m_ds.time"
   ]
  },
  {
   "cell_type": "code",
   "execution_count": 10,
   "metadata": {
    "ExecuteTime": {
     "end_time": "2023-08-23T22:28:37.600590Z",
     "start_time": "2023-08-23T22:28:37.593525Z"
    }
   },
   "outputs": [
    {
     "data": {
      "text/plain": [
       "Data variables:\n",
       "    chlorophyll  (time, latitude, longitude) float64 ..."
      ]
     },
     "execution_count": 10,
     "metadata": {},
     "output_type": "execute_result"
    }
   ],
   "source": [
    "# Examine data variables\n",
    "e_m_ds.data_vars"
   ]
  },
  {
   "cell_type": "code",
   "execution_count": 9,
   "metadata": {},
   "outputs": [
    {
     "data": {
      "text/plain": [
       "(506, 200, 500)"
      ]
     },
     "execution_count": 9,
     "metadata": {},
     "output_type": "execute_result"
    }
   ],
   "source": [
    "# Examine the variable chlorophyll shape (dimension)\n",
    "# Based on e_m_ds.coords, the dim corresponds to (time, latitude, longitude)\n",
    "e_m_ds.chlorophyll.shape"
   ]
  },
  {
   "cell_type": "markdown",
   "metadata": {},
   "source": [
    "## Reformat and clean data for data analysis\n",
    "\n",
    "Once the data structure and data set are examined, the next step is to reformat and aggregate data into a format for the data analysis. "
   ]
  },
  {
   "cell_type": "code",
   "execution_count": 1,
   "metadata": {
    "ExecuteTime": {
     "end_time": "2023-08-24T18:02:48.247255Z",
     "start_time": "2023-08-24T18:02:48.012316Z"
    }
   },
   "outputs": [
    {
     "ename": "NameError",
     "evalue": "name 'nc' is not defined",
     "output_type": "error",
     "traceback": [
      "\u001b[0;31m---------------------------------------------------------------------------\u001b[0m",
      "\u001b[0;31mNameError\u001b[0m                                 Traceback (most recent call last)",
      "Cell \u001b[0;32mIn[1], line 2\u001b[0m\n\u001b[1;32m      1\u001b[0m \u001b[38;5;66;03m# Create datetime from time and time unit provided from the data\u001b[39;00m\n\u001b[0;32m----> 2\u001b[0m e_m_dates\u001b[38;5;241m=\u001b[39mnc\u001b[38;5;241m.\u001b[39mnum2date(e_m_ds\u001b[38;5;241m.\u001b[39mtime,e_m_ds\u001b[38;5;241m.\u001b[39mtime\u001b[38;5;241m.\u001b[39munits, only_use_cftime_datetimes\u001b[38;5;241m=\u001b[39m\u001b[38;5;28;01mFalse\u001b[39;00m, \n\u001b[1;32m      3\u001b[0m                         only_use_python_datetimes\u001b[38;5;241m=\u001b[39m\u001b[38;5;28;01mTrue\u001b[39;00m )\n\u001b[1;32m      4\u001b[0m \u001b[38;5;66;03m# Examine the results\u001b[39;00m\n\u001b[1;32m      5\u001b[0m e_m_dates\n",
      "\u001b[0;31mNameError\u001b[0m: name 'nc' is not defined"
     ]
    }
   ],
   "source": [
    "# Create datetime array from time and time unit provided from the data\n",
    "e_m_dates=nc.num2date(e_m_ds.time,e_m_ds.time.units, only_use_cftime_datetimes=False, \n",
    "                        only_use_python_datetimes=True )\n",
    "# Examine the results\n",
    "e_m_dates"
   ]
  },
  {
   "cell_type": "code",
   "execution_count": 20,
   "metadata": {
    "ExecuteTime": {
     "end_time": "2023-08-23T22:39:35.465800Z",
     "start_time": "2023-08-23T22:39:35.449010Z"
    }
   },
   "outputs": [
    {
     "data": {
      "text/plain": [
       "-999.0"
      ]
     },
     "execution_count": 20,
     "metadata": {},
     "output_type": "execute_result"
    }
   ],
   "source": [
    "# Examine _FillValue from the metadata\n",
    "e_m_ds.chlorophyll.attrs['_FillValue']"
   ]
  },
  {
   "cell_type": "code",
   "execution_count": 21,
   "metadata": {
    "ExecuteTime": {
     "end_time": "2023-08-23T22:39:46.634324Z",
     "start_time": "2023-08-23T22:39:46.547713Z"
    },
    "scrolled": true
   },
   "outputs": [
    {
     "data": {
      "text/plain": [
       "-999.0"
      ]
     },
     "execution_count": 21,
     "metadata": {},
     "output_type": "execute_result"
    }
   ],
   "source": [
    "# In chlorophyll array, replace -999 with nan\n",
    "nan_e_m_ds_chlorophyll = e_m_ds.chlorophyll.where(e_m_ds.chlorophyll.values != e_m_ds.chlorophyll.attrs['_FillValue'])\n",
    "\n",
    "#print(nan_e_m_ds_chlorophyll[0,100,:] )\n",
    "#print(nan_e_m_ds_chlorophyll)\n",
    "e_m_ds.chlorophyll"
   ]
  },
  {
   "cell_type": "markdown",
   "metadata": {},
   "source": [
    "\n",
    "##  Compute the Lake Erie August 2009 monthly mean of chlorophyll\n",
    "\n",
    "In this exercise, we will compute the August, 2009 monthly mean of daily chlorophyll values from the daily chlorophyll values of our dataset."
   ]
  },
  {
   "cell_type": "code",
   "execution_count": 24,
   "metadata": {
    "ExecuteTime": {
     "end_time": "2023-08-23T22:44:56.794450Z",
     "start_time": "2023-08-23T22:44:56.778178Z"
    }
   },
   "outputs": [],
   "source": [
    "# Create list of string contains 'year month day hours minutes seconds' \n",
    "d_list = []\n",
    "[ d_list.append(dt.strftime(\"%Y %m %d %H %M %S\")) for dt in e_m_dates]\n",
    "\n",
    "mn, yr = '08' , '2009'\n",
    "i_list = []\n",
    "\n",
    "for n, d in enumerate(d_list):\n",
    "    d_t = d.split()\n",
    "    if d_t[0] == yr and d_t[1] == mn:\n",
    "        # print( n, d_t)\n",
    "        i_list.append(n)  # get all index of data for yr and mn\n",
    "    \n",
    "    #print(n, d)\n",
    "#print(i_list)\n",
    "\n",
    "# axis=0 is time line\n",
    "chl_avg_img = nan_e_m_ds_chlorophyll.values[i_list[0]:i_list[-1]].mean(axis=0)\n",
    "#print(chl_avg_img.shape)"
   ]
  },
  {
   "cell_type": "markdown",
   "metadata": {},
   "source": [
    "## Plot Lake Erie August 2009 monthly mean of chlorophyll\n",
    "\n",
    "First, we will set parameters needed for plotting and creating color map.  Then we will create a plot of monthly mean chlorophyll values."
   ]
  },
  {
   "cell_type": "code",
   "execution_count": 16,
   "metadata": {},
   "outputs": [],
   "source": [
    "# Compute number of colors \n",
    "levs = np.arange(np.nanmin(chl_avg_img), np.nanmax(chl_avg_img), 0.3)\n",
    "\n",
    "# Examine number of colors needed for the plot \n",
    "len(levs)\n",
    "\n",
    "# Set parameters for color map\n",
    "jet=[\"blue\", \"#007FFF\", \"cyan\",\"#7FFF7F\", \"yellow\", \"#FF7F00\", \"red\", \"#7F0000\"]\n",
    "\n",
    "# Set Colormap segments\n",
    "cm = LinearSegmentedColormap.from_list('my_jet', jet, N=len(levs))"
   ]
  },
  {
   "cell_type": "code",
   "execution_count": 17,
   "metadata": {
    "scrolled": true
   },
   "outputs": [
    {
     "data": {
      "image/png": "[encoded data removed]",
      "text/plain": [
       "<Figure size 1000x500 with 2 Axes>"
      ]
     },
     "metadata": {},
     "output_type": "display_data"
    }
   ],
   "source": [
    "# Set plot size\n",
    "plt.subplots(figsize=(10, 5))\n",
    "\n",
    "# Plot monthly chlorophyll with longitudes and latitudes\n",
    "plt.contourf(e_m_ds.longitude, e_m_ds.latitude, chl_avg_img, levs,cmap=cm)\n",
    "\n",
    "# Print colorbar with color scale\n",
    "plt.colorbar()\n",
    "\n",
    "# Set plot title\n",
    "plt.title(\"Lake Erie Average CHL - \" + yr + '-' + mn)\n",
    "plt.show()"
   ]
  },
  {
   "cell_type": "markdown",
   "metadata": {},
   "source": [
    "## Compute chlorophyll monthly mean from 2002 to 2017\n",
    "\n",
    "In the next exercise, we will compute montly means from 2002 to 2017 to examine the time series of monthly values of multiple years.  \n",
    "\n",
    "The previous exercise involves computing mean values of chlorophyll for each grid cell.  For this exercise, we will compute temporal mean (averaging daily values to get monthly), but also compute sptail mean (averaging over grid cells).  This results in a value for each month at Lake Erie."
   ]
  },
  {
   "cell_type": "code",
   "execution_count": 18,
   "metadata": {},
   "outputs": [
    {
     "name": "stdout",
     "output_type": "stream",
     "text": [
      "['2002', '2003', '2004', '2005', '2006', '2007', '2008', '2009', '2010', '2011', '2012', '2013', '2014', '2015', '2016', '2017']\n",
      "16\n",
      "192\n",
      "[nan, nan, nan, nan, nan, nan, nan, 5.435731696799938, 5.390267233342085, 8.081265781572409, nan, nan, nan, nan, nan, nan, nan, 6.781491128619841, 6.109469974086832, 4.314376310517935, 6.79798886383254, 7.093404713878546, nan, nan, nan, nan, nan, nan, nan, nan, nan, 5.368433526104296, 7.64127887019175, 10.885647119544341, nan, nan, nan, nan, nan, nan, nan, 5.840624163588643, 5.249259500793706, 4.616988228955723, 7.096526864254263, 4.819230418185895, nan, nan, nan, nan, nan, nan, nan, 4.510100122676393, 4.086877241390418, 8.282441959350821, nan, nan, nan, nan, nan, nan, nan, nan, nan, 6.047208513833891, 4.158334577045406, 5.306521407370655, 4.870477621191157, nan, nan, nan, nan, nan, nan, nan, nan, 4.399793136125678, 4.948825492811119, 6.928067277764852, 7.537945121660116, 10.463871652015316, nan, nan, nan, nan, nan, nan, nan, 5.468607769352359, 4.331433124523354, 4.19491169121446, 5.51911800736798, nan, nan, nan, nan, nan, nan, nan, 7.118216527176936, 5.497184958386398, 6.816787462061543, 7.384876000467598, 8.352871379209835, 17.20921945662595, nan, nan, nan, nan, nan, nan, 8.273948811094096, 9.504673836426932, 6.30459248163054, 8.498188201950223, 4.757683522841076, 7.789956015198095, nan, nan, nan, nan, nan, nan, 5.350309186444175, 5.087124626496798, 5.466797826682114, 6.545372806489798, 10.046555535267995, nan, nan, nan, nan, nan, nan, nan, nan, 5.419905113305022, 6.579744183612031, 6.078049791451018, 12.294146096066456, 12.653713855241293, nan, nan, nan, nan, nan, nan, 5.380835510589356, 6.1975559710383115, 4.153931307969729, 4.164349087430823, 7.613671326357655, 11.032704445403692, nan, nan, nan, nan, nan, nan, 6.1890473994776, 9.137474061305161, 12.006564368910517, 13.846336174760882, 12.386790262293644, nan, nan, nan, nan, nan, nan, 10.048730617740274, 7.629785864421565, 5.541983322992535, 3.1488706872830643, 5.253753071859053, nan, nan, nan, nan, nan, nan, nan, 12.166465731425616, 11.707058952935256, 6.139350735676277, 5.360138504826018, 5.020559277856057, 7.541953126812535, 13.605299324152273, nan, nan]\n"
     ]
    }
   ],
   "source": [
    "d_list = []\n",
    "[ d_list.append(dt.strftime(\"%Y %m %d %H %M %S\")) for dt in e_m_dates]\n",
    "\n",
    "#print(min(d_list))\n",
    "#print(max(d_list))\n",
    "m_yr_list = []\n",
    "[ m_yr_list.append(str(dt.year)) for dt in e_m_dates if str(dt.year) not in m_yr_list ]\n",
    "\n",
    "print(m_yr_list)\n",
    "print(len(m_yr_list))\n",
    "\n",
    "mn_list = ['01','02','03','04','05','06','07','08','09','10','11','12']\n",
    "m_chl_avg_list = []\n",
    "for yr in m_yr_list:\n",
    "    for mn in mn_list:\n",
    "        \n",
    "        i_list = []\n",
    "        for n, d in enumerate(d_list):\n",
    "            d_t = d.split()\n",
    "            #print(type(yr), type(mn), d_t)\n",
    "            if d_t[0] == yr and d_t[1] == mn:\n",
    "                #print( n, d_t)\n",
    "                i_list.append(n)  # get all index of data for yr and mn\n",
    "    \n",
    "        #print(i_list, 'aaa')\n",
    "\n",
    "        if i_list:\n",
    "            #print('bbb')\n",
    "            # axis=0 is time line\n",
    "            m_chl_avg = np.nanmean(nan_e_m_ds_chlorophyll.values[i_list[0]:i_list[-1]],axis=(0,1,2))\n",
    "            #print(i_list)\n",
    "            #print('ccc', chl_avg)\n",
    "        else:\n",
    "            m_chl_avg = np.NAN\n",
    "        #print(yr, mn, chl_avg)\n",
    "        \n",
    "        m_chl_avg_list.append(m_chl_avg)  # add each month mean data into list\n",
    "print(len(m_chl_avg_list))\n",
    "print(m_chl_avg_list)"
   ]
  },
  {
   "cell_type": "markdown",
   "metadata": {},
   "source": [
    "## Plot montly mean chlorophyll values from 2002 to 2017\n",
    "\n",
    "The time series plot shows Lake Erie's average monthly chlorophyll values for each month between 2002 and 2017."
   ]
  },
  {
   "cell_type": "code",
   "execution_count": 2,
   "metadata": {
    "ExecuteTime": {
     "end_time": "2023-08-24T18:23:41.259271Z",
     "start_time": "2023-08-24T18:23:41.236363Z"
    }
   },
   "outputs": [
    {
     "ename": "NameError",
     "evalue": "name 'np' is not defined",
     "output_type": "error",
     "traceback": [
      "\u001b[0;31m---------------------------------------------------------------------------\u001b[0m",
      "\u001b[0;31mNameError\u001b[0m                                 Traceback (most recent call last)",
      "Cell \u001b[0;32mIn[2], line 1\u001b[0m\n\u001b[0;32m----> 1\u001b[0m x \u001b[38;5;241m=\u001b[39m np\u001b[38;5;241m.\u001b[39mlinspace(\u001b[38;5;241m2002\u001b[39m, \u001b[38;5;241m2018\u001b[39m,num\u001b[38;5;241m=\u001b[39m\u001b[38;5;241m192\u001b[39m)   \u001b[38;5;66;03m# contains data from 2002 to 2017 (not 2018)\u001b[39;00m\n\u001b[1;32m      3\u001b[0m \u001b[38;5;66;03m#units = e_m_ds.chlorophyll.attrs['units']\u001b[39;00m\n\u001b[1;32m      5\u001b[0m plt\u001b[38;5;241m.\u001b[39mfigure(figsize\u001b[38;5;241m=\u001b[39m(\u001b[38;5;241m12\u001b[39m,\u001b[38;5;241m5\u001b[39m)) \n",
      "\u001b[0;31mNameError\u001b[0m: name 'np' is not defined"
     ]
    }
   ],
   "source": [
    "x = np.linspace(2002, 2018,num=192)   # contains data from 2002 to 2017 (not 2018)\n",
    "\n",
    "#units = e_m_ds.chlorophyll.attrs['units']\n",
    "\n",
    "plt.figure(figsize=(12,5)) \n",
    "plt.plot(x,m_chl_avg_list,label='MODIS CHL',c='red',marker='.',linestyle='-')\n",
    "plt.ylabel('Chl-a (mg/m^3)')\n",
    "plt.legend()"
   ]
  },
  {
   "cell_type": "markdown",
   "metadata": {},
   "source": [
    "## Get Lake Erie monthly chlorophyll data from different sensor, VIIRS\n",
    "\n",
    "The VIIRS satellite dataset includes monthly chlorophyll values from 2018 to present. We will download and reformat the data to compare with the previously computed monthly chlorophyll data of the Lake Erie.\n"
   ]
  },
  {
   "cell_type": "code",
   "execution_count": 3,
   "metadata": {
    "ExecuteTime": {
     "end_time": "2023-08-24T18:29:41.285422Z",
     "start_time": "2023-08-24T18:29:41.263603Z"
    }
   },
   "outputs": [
    {
     "ename": "NameError",
     "evalue": "name 'urllib' is not defined",
     "output_type": "error",
     "traceback": [
      "\u001b[0;31m---------------------------------------------------------------------------\u001b[0m",
      "\u001b[0;31mNameError\u001b[0m                                 Traceback (most recent call last)",
      "Cell \u001b[0;32mIn[3], line 2\u001b[0m\n\u001b[1;32m      1\u001b[0m url2\u001b[38;5;241m=\u001b[39m\u001b[38;5;124m'\u001b[39m\u001b[38;5;124mhttps://coastwatch.glerl.noaa.gov/erddap/griddap/LE_CHL_VIIRS_Monthly_Avg.nc?Chlorophyll\u001b[39m\u001b[38;5;124m%\u001b[39m\u001b[38;5;124m5B(2018-05-15T12:00:00Z):1:(2022-09-15T12:00:00Z)\u001b[39m\u001b[38;5;124m%\u001b[39m\u001b[38;5;124m5D\u001b[39m\u001b[38;5;124m%\u001b[39m\u001b[38;5;124m5B(41.2690208353804):1:(43.017997272827)\u001b[39m\u001b[38;5;124m%\u001b[39m\u001b[38;5;124m5D\u001b[39m\u001b[38;5;124m%\u001b[39m\u001b[38;5;124m5B(-83.6574899492178):1:(-78.4429490894234)\u001b[39m\u001b[38;5;124m%\u001b[39m\u001b[38;5;124m5D\u001b[39m\u001b[38;5;124m'\u001b[39m\n\u001b[0;32m----> 2\u001b[0m urllib\u001b[38;5;241m.\u001b[39mrequest\u001b[38;5;241m.\u001b[39murlretrieve(url2, \u001b[38;5;124m\"\u001b[39m\u001b[38;5;124me_viirs_chl.nc\u001b[39m\u001b[38;5;124m\"\u001b[39m)\n",
      "\u001b[0;31mNameError\u001b[0m: name 'urllib' is not defined"
     ]
    }
   ],
   "source": [
    "url2='https://coastwatch.glerl.noaa.gov/erddap/griddap/LE_CHL_VIIRS_Monthly_Avg.nc?Chlorophyll%5B(2018-05-15T12:00:00Z):1:(2022-09-15T12:00:00Z)%5D%5B(41.2690208353804):1:(43.017997272827)%5D%5B(-83.6574899492178):1:(-78.4429490894234)%5D'\n",
    "urllib.request.urlretrieve(url2, \"e_viirs_chl.nc\")"
   ]
  },
  {
   "cell_type": "code",
   "execution_count": 21,
   "metadata": {},
   "outputs": [],
   "source": [
    "# Open the dataset using xarray\n",
    "e_v_ds = xr.open_dataset('e_viirs_chl.nc',decode_cf=False)"
   ]
  },
  {
   "cell_type": "code",
   "execution_count": 22,
   "metadata": {},
   "outputs": [
    {
     "name": "stdout",
     "output_type": "stream",
     "text": [
      "<xarray.Dataset>\n",
      "Dimensions:      (time: 53, latitude: 271, longitude: 806)\n",
      "Coordinates:\n",
      "  * time         (time) float64 1.526e+09 1.529e+09 ... 1.661e+09 1.663e+09\n",
      "  * latitude     (latitude) float64 41.27 41.28 41.28 ... 43.01 43.01 43.02\n",
      "  * longitude    (longitude) float64 -83.66 -83.65 -83.64 ... -78.45 -78.44\n",
      "Data variables:\n",
      "    Chlorophyll  (time, latitude, longitude) float32 ...\n",
      "Attributes: (12/35)\n",
      "    cdm_data_type:                  Grid\n",
      "    colorBarMaximum:                30.0\n",
      "    colorBarMinimum:                1.0\n",
      "    colorBarScale:                  Log\n",
      "    Conventions:                    CF-1.6, COARDS, ACDD-1.3\n",
      "    Easternmost_Easting:            -78.4429490894234\n",
      "    ...                             ...\n",
      "    summary:                        Color Producing Agent (CPA) Chlorophyll, ...\n",
      "    testOutOfDate:                  now-58days\n",
      "    time_coverage_end:              2022-09-15T12:00:00Z\n",
      "    time_coverage_start:            2018-05-15T12:00:00Z\n",
      "    title:                          Color Producing Agent (CPA) Monthly Avera...\n",
      "    Westernmost_Easting:            -83.6574899492178\n"
     ]
    }
   ],
   "source": [
    "# Examine metadata of the data set\n",
    "print(e_v_ds)"
   ]
  },
  {
   "cell_type": "code",
   "execution_count": 23,
   "metadata": {},
   "outputs": [
    {
     "name": "stdout",
     "output_type": "stream",
     "text": [
      "[ 7.387662   7.130833   6.8531957  7.067971  10.981218   9.158773\n",
      " 13.29338    9.700653  13.87522   37.8129    17.29175   14.630282\n",
      " 10.530294   8.1118765  6.0679684  7.7413135  8.563966  18.578035\n",
      " 13.02914    9.297082  13.149483  14.124588  12.059988  12.409704\n",
      "  8.531175   6.5784163  4.954806   6.5634985  7.719488  11.749591\n",
      " 14.757857  16.201027  10.846249  11.817226  15.175478   9.953331\n",
      "  9.3959055  5.0962305  4.7101736  6.511713  10.5009165  8.693387\n",
      " 10.755935  25.140661  14.031336  17.865644  16.326204   8.967016\n",
      "  8.982615   4.526909   4.958596   6.2696676  6.026227 ]\n",
      "53\n"
     ]
    }
   ],
   "source": [
    "nan_e_v_ds_chlorophyll = e_v_ds.Chlorophyll.where(e_v_ds.Chlorophyll.values != e_v_ds.Chlorophyll.attrs['_FillValue'])\n",
    "\n",
    "v_chl_avg = np.nanmean(nan_e_v_ds_chlorophyll,axis=(1,2))\n",
    "print(v_chl_avg)\n",
    "print(len(v_chl_avg))"
   ]
  },
  {
   "cell_type": "code",
   "execution_count": 24,
   "metadata": {
    "scrolled": true
   },
   "outputs": [
    {
     "data": {
      "text/plain": [
       "array([real_datetime(2018, 5, 15, 12, 0),\n",
       "       real_datetime(2018, 6, 15, 12, 0),\n",
       "       real_datetime(2018, 7, 15, 12, 0),\n",
       "       real_datetime(2018, 8, 15, 12, 0),\n",
       "       real_datetime(2018, 9, 15, 12, 0),\n",
       "       real_datetime(2018, 10, 15, 12, 0),\n",
       "       real_datetime(2018, 11, 15, 12, 0),\n",
       "       real_datetime(2018, 12, 15, 12, 0),\n",
       "       real_datetime(2019, 1, 15, 12, 0),\n",
       "       real_datetime(2019, 2, 15, 12, 0),\n",
       "       real_datetime(2019, 3, 15, 12, 0),\n",
       "       real_datetime(2019, 4, 15, 12, 0),\n",
       "       real_datetime(2019, 5, 15, 12, 0),\n",
       "       real_datetime(2019, 6, 15, 12, 0),\n",
       "       real_datetime(2019, 7, 15, 12, 0),\n",
       "       real_datetime(2019, 8, 15, 12, 0),\n",
       "       real_datetime(2019, 9, 15, 12, 0),\n",
       "       real_datetime(2019, 10, 15, 12, 0),\n",
       "       real_datetime(2019, 11, 15, 12, 0),\n",
       "       real_datetime(2019, 12, 15, 12, 0),\n",
       "       real_datetime(2020, 1, 15, 12, 0),\n",
       "       real_datetime(2020, 2, 15, 12, 0),\n",
       "       real_datetime(2020, 3, 15, 12, 0),\n",
       "       real_datetime(2020, 4, 15, 12, 0),\n",
       "       real_datetime(2020, 5, 15, 12, 0),\n",
       "       real_datetime(2020, 6, 15, 12, 0),\n",
       "       real_datetime(2020, 7, 15, 12, 0),\n",
       "       real_datetime(2020, 8, 15, 12, 0),\n",
       "       real_datetime(2020, 9, 15, 12, 0),\n",
       "       real_datetime(2020, 10, 15, 12, 0),\n",
       "       real_datetime(2020, 11, 15, 12, 0),\n",
       "       real_datetime(2020, 12, 15, 12, 0),\n",
       "       real_datetime(2021, 1, 15, 12, 0),\n",
       "       real_datetime(2021, 2, 15, 12, 0),\n",
       "       real_datetime(2021, 3, 15, 12, 0),\n",
       "       real_datetime(2021, 4, 15, 12, 0),\n",
       "       real_datetime(2021, 5, 15, 12, 0),\n",
       "       real_datetime(2021, 6, 15, 12, 0),\n",
       "       real_datetime(2021, 7, 15, 12, 0),\n",
       "       real_datetime(2021, 8, 15, 12, 0),\n",
       "       real_datetime(2021, 9, 15, 12, 0),\n",
       "       real_datetime(2021, 10, 15, 12, 0),\n",
       "       real_datetime(2021, 11, 15, 12, 0),\n",
       "       real_datetime(2021, 12, 15, 12, 0),\n",
       "       real_datetime(2022, 1, 15, 12, 0),\n",
       "       real_datetime(2022, 2, 15, 12, 0),\n",
       "       real_datetime(2022, 3, 15, 12, 0),\n",
       "       real_datetime(2022, 4, 15, 12, 0),\n",
       "       real_datetime(2022, 5, 15, 12, 0),\n",
       "       real_datetime(2022, 6, 15, 12, 0),\n",
       "       real_datetime(2022, 7, 15, 12, 0),\n",
       "       real_datetime(2022, 8, 15, 12, 0),\n",
       "       real_datetime(2022, 9, 15, 12, 0)], dtype=object)"
      ]
     },
     "execution_count": 24,
     "metadata": {},
     "output_type": "execute_result"
    }
   ],
   "source": [
    "# Reformat the data \n",
    "e_v_dates=nc.num2date(e_v_ds.time,e_v_ds.time.units, only_use_cftime_datetimes=False, \n",
    "                        only_use_python_datetimes=True )\n",
    "e_v_dates \n"
   ]
  },
  {
   "cell_type": "code",
   "execution_count": 25,
   "metadata": {},
   "outputs": [
    {
     "data": {
      "text/plain": [
       "array([ 7.387662 ,  7.130833 ,  6.8531957,  7.067971 , 10.981218 ,\n",
       "        9.158773 , 13.29338  ,  9.700653 , 13.87522  , 37.8129   ,\n",
       "       17.29175  , 14.630282 , 10.530294 ,  8.1118765,  6.0679684,\n",
       "        7.7413135,  8.563966 , 18.578035 , 13.02914  ,  9.297082 ,\n",
       "       13.149483 , 14.124588 , 12.059988 , 12.409704 ,  8.531175 ,\n",
       "        6.5784163,  4.954806 ,  6.5634985,  7.719488 , 11.749591 ,\n",
       "       14.757857 , 16.201027 , 10.846249 , 11.817226 , 15.175478 ,\n",
       "        9.953331 ,  9.3959055,  5.0962305,  4.7101736,  6.511713 ,\n",
       "       10.5009165,  8.693387 , 10.755935 , 25.140661 , 14.031336 ,\n",
       "       17.865644 , 16.326204 ,  8.967016 ,  8.982615 ,  4.526909 ,\n",
       "        4.958596 ,  6.2696676,  6.026227 ], dtype=float32)"
      ]
     },
     "execution_count": 25,
     "metadata": {},
     "output_type": "execute_result"
    }
   ],
   "source": [
    "v_chl_avg = np.nanmean(nan_e_v_ds_chlorophyll.values,axis=(1,2))\n",
    "v_chl_avg"
   ]
  },
  {
   "cell_type": "code",
   "execution_count": 26,
   "metadata": {},
   "outputs": [
    {
     "data": {
      "text/plain": [
       "<matplotlib.legend.Legend at 0x1b8573c50d0>"
      ]
     },
     "execution_count": 26,
     "metadata": {},
     "output_type": "execute_result"
    },
    {
     "data": {
      "image/png": "[encoded data removed]",
      "text/plain": [
       "<Figure size 1200x500 with 1 Axes>"
      ]
     },
     "metadata": {},
     "output_type": "display_data"
    }
   ],
   "source": [
    "plt.figure(figsize=(12,5)) \n",
    "plt.plot(e_v_dates,v_chl_avg,label='VIIRS CHL',c='red',marker='.',linestyle='-')\n",
    "plt.ylabel('Chl-a (mg/m^3)')\n",
    "plt.legend()"
   ]
  },
  {
   "cell_type": "code",
   "execution_count": 27,
   "metadata": {},
   "outputs": [
    {
     "name": "stderr",
     "output_type": "stream",
     "text": [
      "[NbConvertApp] Converting notebook GL_python_tutorial2.ipynb to html\n",
      "[NbConvertApp] Writing 819692 bytes to GL_python_tutorial2.html\n"
     ]
    }
   ],
   "source": [
    "#e_v_ds.close()\n",
    "!jupyter nbconvert --to html GL_python_tutorial2.ipynb"
   ]
  },
  {
   "cell_type": "code",
   "execution_count": null,
   "metadata": {},
   "outputs": [],
   "source": []
  }
 ],
 "metadata": {
  "kernelspec": {
   "display_name": "Python 3 (ipykernel)",
   "language": "python",
   "name": "python3"
  },
  "language_info": {
   "codemirror_mode": {
    "name": "ipython",
    "version": 3
   },
   "file_extension": ".py",
   "mimetype": "text/x-python",
   "name": "python",
   "nbconvert_exporter": "python",
   "pygments_lexer": "ipython3",
   "version": "3.11.3"
  }
 },
 "nbformat": 4,
 "nbformat_minor": 2
}
