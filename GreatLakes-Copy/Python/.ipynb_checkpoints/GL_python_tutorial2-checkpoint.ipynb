{
 "cells": [
  {
   "cell_type": "markdown",
   "metadata": {},
   "source": [
    "# Comparison of chlorophyll data from different sensors"
   ]
  },
  {
   "cell_type": "markdown",
   "metadata": {},
   "source": [
    "Different ocean color sensors have been launched since 1997 to provide continuous global ocean color data. Unfortunately, because of differences in sensor design and calibration, chlorophyll-a concentration values don’t match during their periods of overlap, making it challenging to study long-term trends.\n",
    "\n",
    "As an example, we are going to plot time-series of mean chlorophyll a concentration from various sensors from 1997 to 2019 to look at the periods of overlap. \n",
    "We are going to download data MODIS (2002-2017) and VIIRS (2018-2020) and combines 2 sensors into a homogeneous time-series.\n",
    "\n",
    "First, let's load all the packages needed:"
   ]
  },
  {
   "cell_type": "code",
   "execution_count": 1,
   "metadata": {},
   "outputs": [],
   "source": [
    "import urllib.request \n",
    "import xarray as xr \n",
    "import netCDF4 as nc\n",
    "\n",
    "import pandas as pd \n",
    "import numpy as np \n",
    "from matplotlib import pyplot as plt \n",
    "from matplotlib.colors import LinearSegmentedColormap \n",
    "\n",
    "import warnings\n",
    "\n",
    "warnings.filterwarnings('ignore')\n",
    " "
   ]
  },
  {
   "cell_type": "markdown",
   "metadata": {},
   "source": [
    "## Get Lake Erie dailly MODIS data, which starts in 2002"
   ]
  },
  {
   "cell_type": "markdown",
   "metadata": {},
   "source": [
    "Go to ERDDAP to find the name of the dataset for dailly MODIS data: LE_CHL_MODIS_Daily\n",
    "\n",
    "You should always examine the dataset in ERDDAP to check the date range, names of the variables and dataset ID, to make sure your griddap calls are correct: \n",
    "https://coastwatch.glerl.noaa.gov/erddap/griddap/LE_CHL_MODIS_Daily.html\n",
    "\n",
    "- let's download data for Lake Erie:"
   ]
  },
  {
   "cell_type": "code",
   "execution_count": 2,
   "metadata": {},
   "outputs": [],
   "source": [
    "url='https://coastwatch.glerl.noaa.gov/erddap/griddap/LE_CHL_MODIS_Daily.nc?chlorophyll[(2002-08-07T19:05:00Z):1:(2017-10-22T18:00:00Z)][(41.0051550293714):1:(42.9950003885447)][(-83.4950003885448):1:(-78.505388156246)]'"
   ]
  },
  {
   "cell_type": "code",
   "execution_count": 3,
   "metadata": {},
   "outputs": [
    {
     "data": {
      "text/plain": [
       "'https://coastwatch.glerl.noaa.gov/erddap/griddap/LE_CHL_MODIS_Daily.nc?chlorophyll[(2002-08-07T19:05:00Z):1:(2017-10-22T18:00:00Z)][(41.0051550293714):1:(42.9950003885447)][(-83.4950003885448):1:(-78.505388156246)]'"
      ]
     },
     "execution_count": 3,
     "metadata": {},
     "output_type": "execute_result"
    }
   ],
   "source": [
    "url"
   ]
  },
  {
   "cell_type": "code",
   "execution_count": 4,
   "metadata": {
    "scrolled": true
   },
   "outputs": [
    {
     "ename": "HTTPError",
     "evalue": "HTTP Error 400: ",
     "output_type": "error",
     "traceback": [
      "\u001b[1;31m---------------------------------------------------------------------------\u001b[0m",
      "\u001b[1;31mHTTPError\u001b[0m                                 Traceback (most recent call last)",
      "Cell \u001b[1;32mIn[4], line 1\u001b[0m\n\u001b[1;32m----> 1\u001b[0m urllib\u001b[38;5;241m.\u001b[39mrequest\u001b[38;5;241m.\u001b[39murlretrieve(url, \u001b[38;5;124m\"\u001b[39m\u001b[38;5;124me_chl_modis.nc\u001b[39m\u001b[38;5;124m\"\u001b[39m)\n",
      "File \u001b[1;32m~\\.conda\\envs\\cw_training\\Lib\\urllib\\request.py:241\u001b[0m, in \u001b[0;36murlretrieve\u001b[1;34m(url, filename, reporthook, data)\u001b[0m\n\u001b[0;32m    224\u001b[0m \u001b[38;5;250m\u001b[39m\u001b[38;5;124;03m\"\"\"\u001b[39;00m\n\u001b[0;32m    225\u001b[0m \u001b[38;5;124;03mRetrieve a URL into a temporary location on disk.\u001b[39;00m\n\u001b[0;32m    226\u001b[0m \n\u001b[1;32m   (...)\u001b[0m\n\u001b[0;32m    237\u001b[0m \u001b[38;5;124;03mdata file as well as the resulting HTTPMessage object.\u001b[39;00m\n\u001b[0;32m    238\u001b[0m \u001b[38;5;124;03m\"\"\"\u001b[39;00m\n\u001b[0;32m    239\u001b[0m url_type, path \u001b[38;5;241m=\u001b[39m _splittype(url)\n\u001b[1;32m--> 241\u001b[0m \u001b[38;5;28;01mwith\u001b[39;00m contextlib\u001b[38;5;241m.\u001b[39mclosing(urlopen(url, data)) \u001b[38;5;28;01mas\u001b[39;00m fp:\n\u001b[0;32m    242\u001b[0m     headers \u001b[38;5;241m=\u001b[39m fp\u001b[38;5;241m.\u001b[39minfo()\n\u001b[0;32m    244\u001b[0m     \u001b[38;5;66;03m# Just return the local path and the \"headers\" for file://\u001b[39;00m\n\u001b[0;32m    245\u001b[0m     \u001b[38;5;66;03m# URLs. No sense in performing a copy unless requested.\u001b[39;00m\n",
      "File \u001b[1;32m~\\.conda\\envs\\cw_training\\Lib\\urllib\\request.py:216\u001b[0m, in \u001b[0;36murlopen\u001b[1;34m(url, data, timeout, cafile, capath, cadefault, context)\u001b[0m\n\u001b[0;32m    214\u001b[0m \u001b[38;5;28;01melse\u001b[39;00m:\n\u001b[0;32m    215\u001b[0m     opener \u001b[38;5;241m=\u001b[39m _opener\n\u001b[1;32m--> 216\u001b[0m \u001b[38;5;28;01mreturn\u001b[39;00m opener\u001b[38;5;241m.\u001b[39mopen(url, data, timeout)\n",
      "File \u001b[1;32m~\\.conda\\envs\\cw_training\\Lib\\urllib\\request.py:525\u001b[0m, in \u001b[0;36mOpenerDirector.open\u001b[1;34m(self, fullurl, data, timeout)\u001b[0m\n\u001b[0;32m    523\u001b[0m \u001b[38;5;28;01mfor\u001b[39;00m processor \u001b[38;5;129;01min\u001b[39;00m \u001b[38;5;28mself\u001b[39m\u001b[38;5;241m.\u001b[39mprocess_response\u001b[38;5;241m.\u001b[39mget(protocol, []):\n\u001b[0;32m    524\u001b[0m     meth \u001b[38;5;241m=\u001b[39m \u001b[38;5;28mgetattr\u001b[39m(processor, meth_name)\n\u001b[1;32m--> 525\u001b[0m     response \u001b[38;5;241m=\u001b[39m meth(req, response)\n\u001b[0;32m    527\u001b[0m \u001b[38;5;28;01mreturn\u001b[39;00m response\n",
      "File \u001b[1;32m~\\.conda\\envs\\cw_training\\Lib\\urllib\\request.py:634\u001b[0m, in \u001b[0;36mHTTPErrorProcessor.http_response\u001b[1;34m(self, request, response)\u001b[0m\n\u001b[0;32m    631\u001b[0m \u001b[38;5;66;03m# According to RFC 2616, \"2xx\" code indicates that the client's\u001b[39;00m\n\u001b[0;32m    632\u001b[0m \u001b[38;5;66;03m# request was successfully received, understood, and accepted.\u001b[39;00m\n\u001b[0;32m    633\u001b[0m \u001b[38;5;28;01mif\u001b[39;00m \u001b[38;5;129;01mnot\u001b[39;00m (\u001b[38;5;241m200\u001b[39m \u001b[38;5;241m<\u001b[39m\u001b[38;5;241m=\u001b[39m code \u001b[38;5;241m<\u001b[39m \u001b[38;5;241m300\u001b[39m):\n\u001b[1;32m--> 634\u001b[0m     response \u001b[38;5;241m=\u001b[39m \u001b[38;5;28mself\u001b[39m\u001b[38;5;241m.\u001b[39mparent\u001b[38;5;241m.\u001b[39merror(\n\u001b[0;32m    635\u001b[0m         \u001b[38;5;124m'\u001b[39m\u001b[38;5;124mhttp\u001b[39m\u001b[38;5;124m'\u001b[39m, request, response, code, msg, hdrs)\n\u001b[0;32m    637\u001b[0m \u001b[38;5;28;01mreturn\u001b[39;00m response\n",
      "File \u001b[1;32m~\\.conda\\envs\\cw_training\\Lib\\urllib\\request.py:563\u001b[0m, in \u001b[0;36mOpenerDirector.error\u001b[1;34m(self, proto, *args)\u001b[0m\n\u001b[0;32m    561\u001b[0m \u001b[38;5;28;01mif\u001b[39;00m http_err:\n\u001b[0;32m    562\u001b[0m     args \u001b[38;5;241m=\u001b[39m (\u001b[38;5;28mdict\u001b[39m, \u001b[38;5;124m'\u001b[39m\u001b[38;5;124mdefault\u001b[39m\u001b[38;5;124m'\u001b[39m, \u001b[38;5;124m'\u001b[39m\u001b[38;5;124mhttp_error_default\u001b[39m\u001b[38;5;124m'\u001b[39m) \u001b[38;5;241m+\u001b[39m orig_args\n\u001b[1;32m--> 563\u001b[0m     \u001b[38;5;28;01mreturn\u001b[39;00m \u001b[38;5;28mself\u001b[39m\u001b[38;5;241m.\u001b[39m_call_chain(\u001b[38;5;241m*\u001b[39margs)\n",
      "File \u001b[1;32m~\\.conda\\envs\\cw_training\\Lib\\urllib\\request.py:496\u001b[0m, in \u001b[0;36mOpenerDirector._call_chain\u001b[1;34m(self, chain, kind, meth_name, *args)\u001b[0m\n\u001b[0;32m    494\u001b[0m \u001b[38;5;28;01mfor\u001b[39;00m handler \u001b[38;5;129;01min\u001b[39;00m handlers:\n\u001b[0;32m    495\u001b[0m     func \u001b[38;5;241m=\u001b[39m \u001b[38;5;28mgetattr\u001b[39m(handler, meth_name)\n\u001b[1;32m--> 496\u001b[0m     result \u001b[38;5;241m=\u001b[39m func(\u001b[38;5;241m*\u001b[39margs)\n\u001b[0;32m    497\u001b[0m     \u001b[38;5;28;01mif\u001b[39;00m result \u001b[38;5;129;01mis\u001b[39;00m \u001b[38;5;129;01mnot\u001b[39;00m \u001b[38;5;28;01mNone\u001b[39;00m:\n\u001b[0;32m    498\u001b[0m         \u001b[38;5;28;01mreturn\u001b[39;00m result\n",
      "File \u001b[1;32m~\\.conda\\envs\\cw_training\\Lib\\urllib\\request.py:643\u001b[0m, in \u001b[0;36mHTTPDefaultErrorHandler.http_error_default\u001b[1;34m(self, req, fp, code, msg, hdrs)\u001b[0m\n\u001b[0;32m    642\u001b[0m \u001b[38;5;28;01mdef\u001b[39;00m \u001b[38;5;21mhttp_error_default\u001b[39m(\u001b[38;5;28mself\u001b[39m, req, fp, code, msg, hdrs):\n\u001b[1;32m--> 643\u001b[0m     \u001b[38;5;28;01mraise\u001b[39;00m HTTPError(req\u001b[38;5;241m.\u001b[39mfull_url, code, msg, hdrs, fp)\n",
      "\u001b[1;31mHTTPError\u001b[0m: HTTP Error 400: "
     ]
    }
   ],
   "source": [
    "urllib.request.urlretrieve(url, \"e_chl_modis.nc\")"
   ]
  },
  {
   "cell_type": "markdown",
   "metadata": {},
   "source": [
    "#### - let's use xarray to extract the data from the downloaded file:"
   ]
  },
  {
   "cell_type": "code",
   "execution_count": 5,
   "metadata": {},
   "outputs": [],
   "source": [
    "e_m_ds = xr.open_dataset('e_chl_modis.nc',decode_cf=False)"
   ]
  },
  {
   "cell_type": "code",
   "execution_count": 6,
   "metadata": {},
   "outputs": [
    {
     "data": {
      "text/plain": [
       "Coordinates:\n",
       "  * time       (time) float64 1.029e+09 1.029e+09 ... 1.509e+09 1.509e+09\n",
       "  * latitude   (latitude) float64 41.01 41.02 41.03 41.04 ... 42.98 42.99 43.0\n",
       "  * longitude  (longitude) float64 -83.5 -83.49 -83.48 ... -78.53 -78.52 -78.51"
      ]
     },
     "execution_count": 6,
     "metadata": {},
     "output_type": "execute_result"
    }
   ],
   "source": [
    "e_m_ds.coords"
   ]
  },
  {
   "cell_type": "code",
   "execution_count": 7,
   "metadata": {},
   "outputs": [
    {
     "data": {
      "text/plain": [
       "array([1.02874710e+09, 1.02883020e+09, 1.02891930e+09, 1.02900240e+09,\n",
       "       1.02960750e+09, 1.02986850e+09, 1.03030170e+09, 1.03047360e+09,\n",
       "       1.03064580e+09, 1.03081770e+09, 1.03090680e+09, 1.03125090e+09,\n",
       "       1.03142310e+09, 1.03151190e+09, 1.03159500e+09, 1.03220010e+09,\n",
       "       1.03228920e+09, 1.03263330e+09, 1.03323840e+09, 1.03341060e+09,\n",
       "       1.03392660e+09, 1.03462080e+09, 1.05457950e+09, 1.05613410e+09,\n",
       "       1.05673920e+09, 1.05708330e+09, 1.05717240e+09, 1.05812160e+09,\n",
       "       1.05820470e+09, 1.05838260e+09, 1.05855480e+09, 1.05863790e+09,\n",
       "       1.05907080e+09, 1.05950400e+09, 1.05958710e+09, 1.06028130e+09,\n",
       "       1.06079730e+09, 1.06088640e+09, 1.06123050e+09, 1.06157460e+09,\n",
       "       1.06166370e+09, 1.06200780e+09, 1.06226880e+09, 1.06278510e+09,\n",
       "       1.06287390e+09, 1.06304610e+09, 1.06321800e+09, 1.06373430e+09,\n",
       "       1.06382340e+09, 1.06408440e+09, 1.06416750e+09, 1.06554990e+09,\n",
       "       1.06563870e+09, 1.06581090e+09, 1.06589400e+09, 1.09138230e+09,\n",
       "       1.09147140e+09, 1.09173240e+09, 1.09181550e+09, 1.09319790e+09,\n",
       "       1.09397520e+09, 1.09406400e+09, 1.09414710e+09, 1.09484130e+09,\n",
       "       1.09501350e+09, 1.09510230e+09, 1.09527450e+09, 1.09561860e+09,\n",
       "       1.09587960e+09, 1.09700100e+09, 1.09717290e+09, 1.11816990e+09,\n",
       "       1.11920820e+09, 1.11946350e+09, 1.12032960e+09, 1.12076280e+09,\n",
       "       1.12084590e+09, 1.12093470e+09, 1.12179510e+09, 1.12275030e+09,\n",
       "       1.12292220e+09, 1.12343850e+09, 1.12352760e+09, 1.12421580e+09,\n",
       "       1.12491000e+09, 1.12525410e+09, 1.12559820e+09, 1.12568700e+09,\n",
       "       1.12585920e+09, 1.12594230e+09, 1.12603110e+09, 1.12629240e+09,\n",
       "       1.12637550e+09, 1.12724160e+09, 1.12732470e+09, 1.12758570e+09,\n",
       "       1.12784670e+09, 1.12819080e+09, 1.12853490e+09, 1.12940130e+09,\n",
       "       1.14953220e+09, 1.14979320e+09, 1.15039830e+09, 1.15281330e+09,\n",
       "       1.15411260e+09, 1.15445670e+09, 1.15471770e+09, 1.15532280e+09,\n",
       "       1.15540590e+09, 1.15549500e+09, 1.15566690e+09, 1.15575000e+09,\n",
       "       1.15627230e+09, 1.18037820e+09, 1.18115550e+09, 1.18141650e+09,\n",
       "       1.18158840e+09, 1.18176060e+09, 1.18236570e+09, 1.18244880e+09,\n",
       "       1.18374810e+09, 1.18383120e+09, 1.18513050e+09, 1.18573560e+09,\n",
       "       1.18590780e+09, 1.18616880e+09, 1.18694610e+09, 1.18702920e+09,\n",
       "       1.18823940e+09, 1.18841160e+09, 1.18850040e+09, 1.18858350e+09,\n",
       "       1.18867260e+09, 1.18875570e+09, 1.18884450e+09, 1.18927770e+09,\n",
       "       1.19022690e+09, 1.19066010e+09, 1.19100420e+09, 1.21303380e+09,\n",
       "       1.21398900e+09, 1.21416090e+09, 1.21493820e+09, 1.21528230e+09,\n",
       "       1.21537140e+09, 1.21571550e+09, 1.21632060e+09, 1.21709790e+09,\n",
       "       1.21770300e+09, 1.21778610e+09, 1.21804710e+09, 1.21848030e+09,\n",
       "       1.21882440e+09, 1.21891350e+09, 1.21908540e+09, 1.21925760e+09,\n",
       "       1.21977360e+09, 1.22012370e+09, 1.22020680e+09, 1.22029590e+09,\n",
       "       1.22037900e+09, 1.22046780e+09, 1.22158920e+09, 1.22167830e+09,\n",
       "       1.22219430e+09, 1.22306070e+09, 1.22323260e+09, 1.22357670e+09,\n",
       "       1.22366580e+09, 1.24578420e+09, 1.24603950e+09, 1.24681680e+09,\n",
       "       1.24751070e+09, 1.24811610e+09, 1.24906530e+09, 1.25010360e+09,\n",
       "       1.25018670e+09, 1.25027550e+09, 1.25122500e+09, 1.25183010e+09,\n",
       "       1.25209110e+09, 1.25217420e+09, 1.25304030e+09, 1.25338440e+09,\n",
       "       1.27472550e+09, 1.27481460e+09, 1.27524180e+09, 1.27680210e+09,\n",
       "       1.27697430e+09, 1.27809540e+09, 1.27818450e+09, 1.27930590e+09,\n",
       "       1.28008320e+09, 1.28025510e+09, 1.28103240e+09, 1.28163750e+09,\n",
       "       1.28189850e+09, 1.28198160e+09, 1.28284800e+09, 1.28301990e+09,\n",
       "       1.28310900e+09, 1.28319210e+09, 1.28328090e+09, 1.28336400e+09,\n",
       "       1.28440230e+09, 1.28578470e+09, 1.28647890e+09, 1.28656200e+09,\n",
       "       1.30678170e+09, 1.30686480e+09, 1.30703700e+09, 1.30704270e+09,\n",
       "       1.30738680e+09, 1.30876920e+09, 1.30911330e+09, 1.30937430e+09,\n",
       "       1.30945740e+09, 1.30954650e+09, 1.30971870e+09, 1.30980750e+09,\n",
       "       1.31015160e+09, 1.31023470e+09, 1.31049570e+09, 1.31057880e+09,\n",
       "       1.31058480e+09, 1.31075670e+09, 1.31083980e+09, 1.31092890e+09,\n",
       "       1.31170620e+09, 1.31205030e+09, 1.31213910e+09, 1.31256660e+09,\n",
       "       1.31291640e+09, 1.31308860e+09, 1.31326050e+09, 1.31352150e+09,\n",
       "       1.31369370e+09, 1.31377680e+09, 1.31395470e+09, 1.31403780e+09,\n",
       "       1.31438190e+09, 1.31447100e+09, 1.31464290e+09, 1.31507610e+09,\n",
       "       1.31576430e+09, 1.31585340e+09, 1.31775180e+09, 1.31784090e+09,\n",
       "       1.31792400e+09, 1.31801310e+09, 1.31809620e+09, 1.31818500e+09,\n",
       "       1.33710570e+09, 1.33719450e+09, 1.33727760e+09, 1.33736670e+09,\n",
       "       1.33744980e+09, 1.33762770e+09, 1.33779960e+09, 1.33797180e+09,\n",
       "       1.33918200e+09, 1.33926510e+09, 1.33935420e+09, 1.33952610e+09,\n",
       "       1.34013150e+09, 1.34021460e+09, 1.34030340e+09, 1.34039250e+09,\n",
       "       1.34073660e+09, 1.34090850e+09, 1.34125290e+09, 1.34142480e+09,\n",
       "       1.34159700e+09, 1.34185800e+09, 1.34194680e+09, 1.34202990e+09,\n",
       "       1.34211900e+09, 1.34220210e+09, 1.34229090e+09, 1.34238000e+09,\n",
       "       1.34255220e+09, 1.34289630e+09, 1.34315730e+09, 1.34341230e+09,\n",
       "       1.34350140e+09, 1.34358450e+09, 1.34367330e+09, 1.34427870e+09,\n",
       "       1.34436180e+09, 1.34505570e+09, 1.34522790e+09, 1.34548890e+09,\n",
       "       1.34557200e+09, 1.34566110e+09, 1.34574420e+09, 1.34583300e+09,\n",
       "       1.34592210e+09, 1.34617710e+09, 1.34626620e+09, 1.34634930e+09,\n",
       "       1.34643810e+09, 1.34721540e+09, 1.34730450e+09, 1.34738760e+09,\n",
       "       1.34755950e+09, 1.34764860e+09, 1.34773170e+09, 1.34782050e+09,\n",
       "       1.37037210e+09, 1.37123250e+09, 1.37149350e+09, 1.37175450e+09,\n",
       "       1.37235960e+09, 1.37357010e+09, 1.37374200e+09, 1.37391420e+09,\n",
       "       1.37477460e+09, 1.37486340e+09, 1.37520750e+09, 1.37537970e+09,\n",
       "       1.37555160e+09, 1.37607390e+09, 1.37624580e+09, 1.37658990e+09,\n",
       "       1.37667900e+09, 1.37685090e+09, 1.37693400e+09, 1.37702310e+09,\n",
       "       1.37711220e+09, 1.37728410e+09, 1.37736720e+09, 1.37745630e+09,\n",
       "       1.37780040e+09, 1.37840550e+09, 1.37883870e+09, 1.37901060e+09,\n",
       "       1.37918280e+09, 1.37944380e+09, 1.37996010e+09, 1.38004890e+09,\n",
       "       1.38022110e+09, 1.38030420e+09, 1.38039300e+09, 1.38065400e+09,\n",
       "       1.38073710e+09, 1.38125940e+09, 1.38134250e+09, 1.38143130e+09,\n",
       "       1.38151440e+09, 1.38160350e+09, 1.38177540e+09, 1.40095710e+09,\n",
       "       1.40104020e+09, 1.40147310e+09, 1.40156220e+09, 1.40182320e+09,\n",
       "       1.40199540e+09, 1.40216730e+09, 1.40277240e+09, 1.40294460e+09,\n",
       "       1.40337780e+09, 1.40398290e+09, 1.40432700e+09, 1.40449890e+09,\n",
       "       1.40458200e+09, 1.40458230e+09, 1.40476020e+09, 1.40493210e+09,\n",
       "       1.40510430e+09, 1.40536530e+09, 1.40562030e+09, 1.40683080e+09,\n",
       "       1.40709180e+09, 1.40743590e+09, 1.40760810e+09, 1.40769690e+09,\n",
       "       1.40795220e+09, 1.40830200e+09, 1.40838510e+09, 1.40899050e+09,\n",
       "       1.40907930e+09, 1.40916240e+09, 1.40925150e+09, 1.40976750e+09,\n",
       "       1.40985660e+09, 1.41011160e+09, 1.41020070e+09, 1.41088890e+09,\n",
       "       1.41089490e+09, 1.41097800e+09, 1.41106680e+09, 1.41114990e+09,\n",
       "       1.41123900e+09, 1.41149400e+09, 1.41150000e+09, 1.41158310e+09,\n",
       "       1.41167220e+09, 1.41175530e+09, 1.41184410e+09, 1.41201630e+09,\n",
       "       1.41313710e+09, 1.41313740e+09, 1.41313770e+09, 1.41408690e+09,\n",
       "       1.41434790e+09, 1.41573030e+09, 1.43050326e+09, 1.43050350e+09,\n",
       "       1.43050380e+09, 1.43059260e+09, 1.43067570e+09, 1.43102580e+09,\n",
       "       1.43136990e+09, 1.43240820e+09, 1.43335740e+09, 1.43396250e+09,\n",
       "       1.43741550e+09, 1.43750460e+09, 1.43767650e+09, 1.43801436e+09,\n",
       "       1.43802060e+09, 1.43802090e+09, 1.43810970e+09, 1.43854290e+09,\n",
       "       1.43949210e+09, 1.44026940e+09, 1.44156270e+09, 1.44225690e+09,\n",
       "       1.44251220e+09, 1.44251790e+09, 1.44286200e+09, 1.44294510e+09,\n",
       "       1.44303420e+09, 1.44311730e+09, 1.46083320e+09, 1.46143860e+09,\n",
       "       1.46255760e+09, 1.46359800e+09, 1.46402520e+09, 1.46575770e+09,\n",
       "       1.46619090e+09, 1.46636280e+09, 1.46653500e+09, 1.46679000e+09,\n",
       "       1.46731230e+09, 1.46774520e+09, 1.46835030e+09, 1.47007710e+09,\n",
       "       1.47059310e+09, 1.47085410e+09, 1.47163140e+09, 1.47500130e+09,\n",
       "       1.47672780e+09, 1.49167320e+09, 1.49202330e+09, 1.49219550e+09,\n",
       "       1.49297250e+09, 1.49418300e+09, 1.49426610e+09, 1.49487120e+09,\n",
       "       1.49496030e+09, 1.49634270e+09, 1.49651460e+09, 1.49694780e+09,\n",
       "       1.49720280e+09, 1.49720880e+09, 1.49798610e+09, 1.49833020e+09,\n",
       "       1.49901840e+09, 1.49919060e+09, 1.49962350e+09, 1.50014550e+09,\n",
       "       1.50031770e+09, 1.50040080e+09, 1.50048990e+09, 1.50100590e+09,\n",
       "       1.50135600e+09, 1.50152790e+09, 1.50170010e+09, 1.50291030e+09,\n",
       "       1.50325470e+09, 1.50368760e+09, 1.50385980e+09, 1.50412080e+09,\n",
       "       1.50463710e+09, 1.50498120e+09, 1.50550320e+09, 1.50558630e+09,\n",
       "       1.50567510e+09, 1.50593040e+09, 1.50601950e+09, 1.50610830e+09,\n",
       "       1.50619140e+09, 1.50628050e+09, 1.50645240e+09, 1.50687960e+09,\n",
       "       1.50696870e+09, 1.50705750e+09, 1.50722970e+09, 1.50757380e+09,\n",
       "       1.50817890e+09, 1.50826200e+09, 1.50835110e+09, 1.50843990e+09,\n",
       "       1.50852300e+09, 1.50869520e+09])"
      ]
     },
     "execution_count": 7,
     "metadata": {},
     "output_type": "execute_result"
    }
   ],
   "source": [
    "e_m_ds.time.values"
   ]
  },
  {
   "cell_type": "code",
   "execution_count": 8,
   "metadata": {},
   "outputs": [
    {
     "data": {
      "text/plain": [
       "Data variables:\n",
       "    chlorophyll  (time, latitude, longitude) float64 ..."
      ]
     },
     "execution_count": 8,
     "metadata": {},
     "output_type": "execute_result"
    }
   ],
   "source": [
    "e_m_ds.data_vars"
   ]
  },
  {
   "cell_type": "code",
   "execution_count": 9,
   "metadata": {},
   "outputs": [
    {
     "data": {
      "text/plain": [
       "(506, 200, 500)"
      ]
     },
     "execution_count": 9,
     "metadata": {},
     "output_type": "execute_result"
    }
   ],
   "source": [
    "e_m_ds.chlorophyll.shape"
   ]
  },
  {
   "cell_type": "markdown",
   "metadata": {},
   "source": [
    "The downloaded data contains only one variable: chlorophyll.\n",
    "\n",
    "#### - Extract the dates corresponding to the data of each day:"
   ]
  },
  {
   "cell_type": "code",
   "execution_count": 10,
   "metadata": {},
   "outputs": [
    {
     "data": {
      "text/plain": [
       "array([datetime.datetime(2002, 8, 7, 19, 5),\n",
       "       datetime.datetime(2002, 8, 8, 18, 10),\n",
       "       datetime.datetime(2002, 8, 9, 18, 55),\n",
       "       datetime.datetime(2002, 8, 10, 18, 0),\n",
       "       datetime.datetime(2002, 8, 17, 18, 5),\n",
       "       datetime.datetime(2002, 8, 20, 18, 35),\n",
       "       datetime.datetime(2002, 8, 25, 18, 55),\n",
       "       datetime.datetime(2002, 8, 27, 18, 40),\n",
       "       datetime.datetime(2002, 8, 29, 18, 30),\n",
       "       datetime.datetime(2002, 8, 31, 18, 15),\n",
       "       datetime.datetime(2002, 9, 1, 19, 0),\n",
       "       datetime.datetime(2002, 9, 5, 18, 35),\n",
       "       datetime.datetime(2002, 9, 7, 18, 25),\n",
       "       datetime.datetime(2002, 9, 8, 19, 5),\n",
       "       datetime.datetime(2002, 9, 9, 18, 10),\n",
       "       datetime.datetime(2002, 9, 16, 18, 15),\n",
       "       datetime.datetime(2002, 9, 17, 19, 0),\n",
       "       datetime.datetime(2002, 9, 21, 18, 35),\n",
       "       datetime.datetime(2002, 9, 28, 18, 40),\n",
       "       datetime.datetime(2002, 9, 30, 18, 30),\n",
       "       datetime.datetime(2002, 10, 6, 17, 50),\n",
       "       datetime.datetime(2002, 10, 14, 18, 40),\n",
       "       datetime.datetime(2003, 6, 2, 18, 45),\n",
       "       datetime.datetime(2003, 6, 20, 18, 35),\n",
       "       datetime.datetime(2003, 6, 27, 18, 40),\n",
       "       datetime.datetime(2003, 7, 1, 18, 15),\n",
       "       datetime.datetime(2003, 7, 2, 19, 0),\n",
       "       datetime.datetime(2003, 7, 13, 18, 40),\n",
       "       datetime.datetime(2003, 7, 14, 17, 45),\n",
       "       datetime.datetime(2003, 7, 16, 19, 10),\n",
       "       datetime.datetime(2003, 7, 18, 19, 0),\n",
       "       datetime.datetime(2003, 7, 19, 18, 5),\n",
       "       datetime.datetime(2003, 7, 24, 18, 20),\n",
       "       datetime.datetime(2003, 7, 29, 18, 40),\n",
       "       datetime.datetime(2003, 7, 30, 17, 45),\n",
       "       datetime.datetime(2003, 8, 7, 18, 35),\n",
       "       datetime.datetime(2003, 8, 13, 17, 55),\n",
       "       datetime.datetime(2003, 8, 14, 18, 40),\n",
       "       datetime.datetime(2003, 8, 18, 18, 15),\n",
       "       datetime.datetime(2003, 8, 22, 17, 50),\n",
       "       datetime.datetime(2003, 8, 23, 18, 35),\n",
       "       datetime.datetime(2003, 8, 27, 18, 10),\n",
       "       datetime.datetime(2003, 8, 30, 18, 40),\n",
       "       datetime.datetime(2003, 9, 5, 18, 5),\n",
       "       datetime.datetime(2003, 9, 6, 18, 45),\n",
       "       datetime.datetime(2003, 9, 8, 18, 35),\n",
       "       datetime.datetime(2003, 9, 10, 18, 20),\n",
       "       datetime.datetime(2003, 9, 16, 17, 45),\n",
       "       datetime.datetime(2003, 9, 17, 18, 30),\n",
       "       datetime.datetime(2003, 9, 20, 19, 0),\n",
       "       datetime.datetime(2003, 9, 21, 18, 5),\n",
       "       datetime.datetime(2003, 10, 7, 18, 5),\n",
       "       datetime.datetime(2003, 10, 8, 18, 45),\n",
       "       datetime.datetime(2003, 10, 10, 18, 35),\n",
       "       datetime.datetime(2003, 10, 11, 17, 40),\n",
       "       datetime.datetime(2004, 8, 1, 17, 45),\n",
       "       datetime.datetime(2004, 8, 2, 18, 30),\n",
       "       datetime.datetime(2004, 8, 5, 19, 0),\n",
       "       datetime.datetime(2004, 8, 6, 18, 5),\n",
       "       datetime.datetime(2004, 8, 22, 18, 5),\n",
       "       datetime.datetime(2004, 8, 31, 18, 0),\n",
       "       datetime.datetime(2004, 9, 1, 18, 40),\n",
       "       datetime.datetime(2004, 9, 2, 17, 45),\n",
       "       datetime.datetime(2004, 9, 10, 18, 35),\n",
       "       datetime.datetime(2004, 9, 12, 18, 25),\n",
       "       datetime.datetime(2004, 9, 13, 19, 5),\n",
       "       datetime.datetime(2004, 9, 15, 18, 55),\n",
       "       datetime.datetime(2004, 9, 19, 18, 30),\n",
       "       datetime.datetime(2004, 9, 22, 19, 0),\n",
       "       datetime.datetime(2004, 10, 5, 18, 30),\n",
       "       datetime.datetime(2004, 10, 7, 18, 15),\n",
       "       datetime.datetime(2005, 6, 7, 18, 45),\n",
       "       datetime.datetime(2005, 6, 19, 19, 10),\n",
       "       datetime.datetime(2005, 6, 22, 18, 5),\n",
       "       datetime.datetime(2005, 7, 2, 18, 40),\n",
       "       datetime.datetime(2005, 7, 7, 19, 0),\n",
       "       datetime.datetime(2005, 7, 8, 18, 5),\n",
       "       datetime.datetime(2005, 7, 9, 18, 45),\n",
       "       datetime.datetime(2005, 7, 19, 17, 45),\n",
       "       datetime.datetime(2005, 7, 30, 19, 5),\n",
       "       datetime.datetime(2005, 8, 1, 18, 50),\n",
       "       datetime.datetime(2005, 8, 7, 18, 15),\n",
       "       datetime.datetime(2005, 8, 8, 19, 0),\n",
       "       datetime.datetime(2005, 8, 16, 18, 10),\n",
       "       datetime.datetime(2005, 8, 24, 19, 0),\n",
       "       datetime.datetime(2005, 8, 28, 18, 35),\n",
       "       datetime.datetime(2005, 9, 1, 18, 10),\n",
       "       datetime.datetime(2005, 9, 2, 18, 50),\n",
       "       datetime.datetime(2005, 9, 4, 18, 40),\n",
       "       datetime.datetime(2005, 9, 5, 17, 45),\n",
       "       datetime.datetime(2005, 9, 6, 18, 25),\n",
       "       datetime.datetime(2005, 9, 9, 19, 0),\n",
       "       datetime.datetime(2005, 9, 10, 18, 5),\n",
       "       datetime.datetime(2005, 9, 20, 18, 40),\n",
       "       datetime.datetime(2005, 9, 21, 17, 45),\n",
       "       datetime.datetime(2005, 9, 24, 18, 15),\n",
       "       datetime.datetime(2005, 9, 27, 18, 45),\n",
       "       datetime.datetime(2005, 10, 1, 18, 20),\n",
       "       datetime.datetime(2005, 10, 5, 17, 55),\n",
       "       datetime.datetime(2005, 10, 15, 18, 35),\n",
       "       datetime.datetime(2006, 6, 5, 18, 30),\n",
       "       datetime.datetime(2006, 6, 8, 19, 0),\n",
       "       datetime.datetime(2006, 6, 15, 19, 5),\n",
       "       datetime.datetime(2006, 7, 13, 17, 55),\n",
       "       datetime.datetime(2006, 7, 28, 18, 50),\n",
       "       datetime.datetime(2006, 8, 1, 18, 25),\n",
       "       datetime.datetime(2006, 8, 4, 18, 55),\n",
       "       datetime.datetime(2006, 8, 11, 19, 0),\n",
       "       datetime.datetime(2006, 8, 12, 18, 5),\n",
       "       datetime.datetime(2006, 8, 13, 18, 50),\n",
       "       datetime.datetime(2006, 8, 15, 18, 35),\n",
       "       datetime.datetime(2006, 8, 16, 17, 40),\n",
       "       datetime.datetime(2006, 8, 22, 18, 45),\n",
       "       datetime.datetime(2007, 5, 28, 18, 50),\n",
       "       datetime.datetime(2007, 6, 6, 18, 45),\n",
       "       datetime.datetime(2007, 6, 9, 19, 15),\n",
       "       datetime.datetime(2007, 6, 11, 19, 0),\n",
       "       datetime.datetime(2007, 6, 13, 18, 50),\n",
       "       datetime.datetime(2007, 6, 20, 18, 55),\n",
       "       datetime.datetime(2007, 6, 21, 18, 0),\n",
       "       datetime.datetime(2007, 7, 6, 18, 55),\n",
       "       datetime.datetime(2007, 7, 7, 18, 0),\n",
       "       datetime.datetime(2007, 7, 22, 18, 55),\n",
       "       datetime.datetime(2007, 7, 29, 19, 0),\n",
       "       datetime.datetime(2007, 7, 31, 18, 50),\n",
       "       datetime.datetime(2007, 8, 3, 19, 20),\n",
       "       datetime.datetime(2007, 8, 12, 19, 15),\n",
       "       datetime.datetime(2007, 8, 13, 18, 20),\n",
       "       datetime.datetime(2007, 8, 27, 18, 30),\n",
       "       datetime.datetime(2007, 8, 29, 18, 20),\n",
       "       datetime.datetime(2007, 8, 30, 19, 0),\n",
       "       datetime.datetime(2007, 8, 31, 18, 5),\n",
       "       datetime.datetime(2007, 9, 1, 18, 50),\n",
       "       datetime.datetime(2007, 9, 2, 17, 55),\n",
       "       datetime.datetime(2007, 9, 3, 18, 35),\n",
       "       datetime.datetime(2007, 9, 8, 18, 55),\n",
       "       datetime.datetime(2007, 9, 19, 18, 35),\n",
       "       datetime.datetime(2007, 9, 24, 18, 55),\n",
       "       datetime.datetime(2007, 9, 28, 18, 30),\n",
       "       datetime.datetime(2008, 6, 9, 17, 50),\n",
       "       datetime.datetime(2008, 6, 20, 19, 10),\n",
       "       datetime.datetime(2008, 6, 22, 18, 55),\n",
       "       datetime.datetime(2008, 7, 1, 18, 50),\n",
       "       datetime.datetime(2008, 7, 5, 18, 25),\n",
       "       datetime.datetime(2008, 7, 6, 19, 10),\n",
       "       datetime.datetime(2008, 7, 10, 18, 45),\n",
       "       datetime.datetime(2008, 7, 17, 18, 50),\n",
       "       datetime.datetime(2008, 7, 26, 18, 45),\n",
       "       datetime.datetime(2008, 8, 2, 18, 50),\n",
       "       datetime.datetime(2008, 8, 3, 17, 55),\n",
       "       datetime.datetime(2008, 8, 6, 18, 25),\n",
       "       datetime.datetime(2008, 8, 11, 18, 45),\n",
       "       datetime.datetime(2008, 8, 15, 18, 20),\n",
       "       datetime.datetime(2008, 8, 16, 19, 5),\n",
       "       datetime.datetime(2008, 8, 18, 18, 50),\n",
       "       datetime.datetime(2008, 8, 20, 18, 40),\n",
       "       datetime.datetime(2008, 8, 26, 18, 0),\n",
       "       datetime.datetime(2008, 8, 30, 19, 15),\n",
       "       datetime.datetime(2008, 8, 31, 18, 20),\n",
       "       datetime.datetime(2008, 9, 1, 19, 5),\n",
       "       datetime.datetime(2008, 9, 2, 18, 10),\n",
       "       datetime.datetime(2008, 9, 3, 18, 50),\n",
       "       datetime.datetime(2008, 9, 16, 18, 20),\n",
       "       datetime.datetime(2008, 9, 17, 19, 5),\n",
       "       datetime.datetime(2008, 9, 23, 18, 25),\n",
       "       datetime.datetime(2008, 10, 3, 19, 5),\n",
       "       datetime.datetime(2008, 10, 5, 18, 50),\n",
       "       datetime.datetime(2008, 10, 9, 18, 25),\n",
       "       datetime.datetime(2008, 10, 10, 19, 10),\n",
       "       datetime.datetime(2009, 6, 23, 19, 10),\n",
       "       datetime.datetime(2009, 6, 26, 18, 5),\n",
       "       datetime.datetime(2009, 7, 5, 18, 0),\n",
       "       datetime.datetime(2009, 7, 13, 18, 45),\n",
       "       datetime.datetime(2009, 7, 20, 18, 55),\n",
       "       datetime.datetime(2009, 7, 31, 18, 35),\n",
       "       datetime.datetime(2009, 8, 12, 19, 0),\n",
       "       datetime.datetime(2009, 8, 13, 18, 5),\n",
       "       datetime.datetime(2009, 8, 14, 18, 45),\n",
       "       datetime.datetime(2009, 8, 25, 18, 30),\n",
       "       datetime.datetime(2009, 9, 1, 18, 35),\n",
       "       datetime.datetime(2009, 9, 4, 19, 5),\n",
       "       datetime.datetime(2009, 9, 5, 18, 10),\n",
       "       datetime.datetime(2009, 9, 15, 18, 45),\n",
       "       datetime.datetime(2009, 9, 19, 18, 20),\n",
       "       datetime.datetime(2010, 5, 24, 18, 25),\n",
       "       datetime.datetime(2010, 5, 25, 19, 10),\n",
       "       datetime.datetime(2010, 5, 30, 17, 50),\n",
       "       datetime.datetime(2010, 6, 17, 19, 15),\n",
       "       datetime.datetime(2010, 6, 19, 19, 5),\n",
       "       datetime.datetime(2010, 7, 2, 18, 30),\n",
       "       datetime.datetime(2010, 7, 3, 19, 15),\n",
       "       datetime.datetime(2010, 7, 16, 18, 45),\n",
       "       datetime.datetime(2010, 7, 25, 18, 40),\n",
       "       datetime.datetime(2010, 7, 27, 18, 25),\n",
       "       datetime.datetime(2010, 8, 5, 18, 20),\n",
       "       datetime.datetime(2010, 8, 12, 18, 25),\n",
       "       datetime.datetime(2010, 8, 15, 18, 55),\n",
       "       datetime.datetime(2010, 8, 16, 18, 0),\n",
       "       datetime.datetime(2010, 8, 26, 18, 40),\n",
       "       datetime.datetime(2010, 8, 28, 18, 25),\n",
       "       datetime.datetime(2010, 8, 29, 19, 10),\n",
       "       datetime.datetime(2010, 8, 30, 18, 15),\n",
       "       datetime.datetime(2010, 8, 31, 18, 55),\n",
       "       datetime.datetime(2010, 9, 1, 18, 0),\n",
       "       datetime.datetime(2010, 9, 13, 18, 25),\n",
       "       datetime.datetime(2010, 9, 29, 18, 25),\n",
       "       datetime.datetime(2010, 10, 7, 19, 15),\n",
       "       datetime.datetime(2010, 10, 8, 18, 20),\n",
       "       datetime.datetime(2011, 5, 30, 18, 55),\n",
       "       datetime.datetime(2011, 5, 31, 18, 0),\n",
       "       datetime.datetime(2011, 6, 2, 17, 50),\n",
       "       datetime.datetime(2011, 6, 2, 19, 25),\n",
       "       datetime.datetime(2011, 6, 6, 19, 0),\n",
       "       datetime.datetime(2011, 6, 22, 19, 0),\n",
       "       datetime.datetime(2011, 6, 26, 18, 35),\n",
       "       datetime.datetime(2011, 6, 29, 19, 5),\n",
       "       datetime.datetime(2011, 6, 30, 18, 10),\n",
       "       datetime.datetime(2011, 7, 1, 18, 55),\n",
       "       datetime.datetime(2011, 7, 3, 18, 45),\n",
       "       datetime.datetime(2011, 7, 4, 19, 25),\n",
       "       datetime.datetime(2011, 7, 8, 19, 0),\n",
       "       datetime.datetime(2011, 7, 9, 18, 5),\n",
       "       datetime.datetime(2011, 7, 12, 18, 35),\n",
       "       datetime.datetime(2011, 7, 13, 17, 40),\n",
       "       datetime.datetime(2011, 7, 13, 19, 20),\n",
       "       datetime.datetime(2011, 7, 15, 19, 5),\n",
       "       datetime.datetime(2011, 7, 16, 18, 10),\n",
       "       datetime.datetime(2011, 7, 17, 18, 55),\n",
       "       datetime.datetime(2011, 7, 26, 18, 50),\n",
       "       datetime.datetime(2011, 7, 30, 18, 25),\n",
       "       datetime.datetime(2011, 7, 31, 19, 5),\n",
       "       datetime.datetime(2011, 8, 5, 17, 50),\n",
       "       datetime.datetime(2011, 8, 9, 19, 0),\n",
       "       datetime.datetime(2011, 8, 11, 18, 50),\n",
       "       datetime.datetime(2011, 8, 13, 18, 35),\n",
       "       datetime.datetime(2011, 8, 16, 19, 5),\n",
       "       datetime.datetime(2011, 8, 18, 18, 55),\n",
       "       datetime.datetime(2011, 8, 19, 18, 0),\n",
       "       datetime.datetime(2011, 8, 21, 19, 25),\n",
       "       datetime.datetime(2011, 8, 22, 18, 30),\n",
       "       datetime.datetime(2011, 8, 26, 18, 5),\n",
       "       datetime.datetime(2011, 8, 27, 18, 50),\n",
       "       datetime.datetime(2011, 8, 29, 18, 35),\n",
       "       datetime.datetime(2011, 9, 3, 18, 55),\n",
       "       datetime.datetime(2011, 9, 11, 18, 5),\n",
       "       datetime.datetime(2011, 9, 12, 18, 50),\n",
       "       datetime.datetime(2011, 10, 4, 18, 10),\n",
       "       datetime.datetime(2011, 10, 5, 18, 55),\n",
       "       datetime.datetime(2011, 10, 6, 18, 0),\n",
       "       datetime.datetime(2011, 10, 7, 18, 45),\n",
       "       datetime.datetime(2011, 10, 8, 17, 50),\n",
       "       datetime.datetime(2011, 10, 9, 18, 30),\n",
       "       datetime.datetime(2012, 5, 15, 18, 15),\n",
       "       datetime.datetime(2012, 5, 16, 18, 55),\n",
       "       datetime.datetime(2012, 5, 17, 18, 0),\n",
       "       datetime.datetime(2012, 5, 18, 18, 45),\n",
       "       datetime.datetime(2012, 5, 19, 17, 50),\n",
       "       datetime.datetime(2012, 5, 21, 19, 15),\n",
       "       datetime.datetime(2012, 5, 23, 19, 0),\n",
       "       datetime.datetime(2012, 5, 25, 18, 50),\n",
       "       datetime.datetime(2012, 6, 8, 19, 0),\n",
       "       datetime.datetime(2012, 6, 9, 18, 5),\n",
       "       datetime.datetime(2012, 6, 10, 18, 50),\n",
       "       datetime.datetime(2012, 6, 12, 18, 35),\n",
       "       datetime.datetime(2012, 6, 19, 18, 45),\n",
       "       datetime.datetime(2012, 6, 20, 17, 50),\n",
       "       datetime.datetime(2012, 6, 21, 18, 30),\n",
       "       datetime.datetime(2012, 6, 22, 19, 15),\n",
       "       datetime.datetime(2012, 6, 26, 18, 50),\n",
       "       datetime.datetime(2012, 6, 28, 18, 35),\n",
       "       datetime.datetime(2012, 7, 2, 18, 15),\n",
       "       datetime.datetime(2012, 7, 4, 18, 0),\n",
       "       datetime.datetime(2012, 7, 6, 17, 50),\n",
       "       datetime.datetime(2012, 7, 9, 18, 20),\n",
       "       datetime.datetime(2012, 7, 10, 19, 0),\n",
       "       datetime.datetime(2012, 7, 11, 18, 5),\n",
       "       datetime.datetime(2012, 7, 12, 18, 50),\n",
       "       datetime.datetime(2012, 7, 13, 17, 55),\n",
       "       datetime.datetime(2012, 7, 14, 18, 35),\n",
       "       datetime.datetime(2012, 7, 15, 19, 20),\n",
       "       datetime.datetime(2012, 7, 17, 19, 10),\n",
       "       datetime.datetime(2012, 7, 21, 18, 45),\n",
       "       datetime.datetime(2012, 7, 24, 19, 15),\n",
       "       datetime.datetime(2012, 7, 27, 18, 5),\n",
       "       datetime.datetime(2012, 7, 28, 18, 50),\n",
       "       datetime.datetime(2012, 7, 29, 17, 55),\n",
       "       datetime.datetime(2012, 7, 30, 18, 35),\n",
       "       datetime.datetime(2012, 8, 6, 18, 45),\n",
       "       datetime.datetime(2012, 8, 7, 17, 50),\n",
       "       datetime.datetime(2012, 8, 15, 18, 35),\n",
       "       datetime.datetime(2012, 8, 17, 18, 25),\n",
       "       datetime.datetime(2012, 8, 20, 18, 55),\n",
       "       datetime.datetime(2012, 8, 21, 18, 0),\n",
       "       datetime.datetime(2012, 8, 22, 18, 45),\n",
       "       datetime.datetime(2012, 8, 23, 17, 50),\n",
       "       datetime.datetime(2012, 8, 24, 18, 30),\n",
       "       datetime.datetime(2012, 8, 25, 19, 15),\n",
       "       datetime.datetime(2012, 8, 28, 18, 5),\n",
       "       datetime.datetime(2012, 8, 29, 18, 50),\n",
       "       datetime.datetime(2012, 8, 30, 17, 55),\n",
       "       datetime.datetime(2012, 8, 31, 18, 35),\n",
       "       datetime.datetime(2012, 9, 9, 18, 30),\n",
       "       datetime.datetime(2012, 9, 10, 19, 15),\n",
       "       datetime.datetime(2012, 9, 11, 18, 20),\n",
       "       datetime.datetime(2012, 9, 13, 18, 5),\n",
       "       datetime.datetime(2012, 9, 14, 18, 50),\n",
       "       datetime.datetime(2012, 9, 15, 17, 55),\n",
       "       datetime.datetime(2012, 9, 16, 18, 35),\n",
       "       datetime.datetime(2013, 6, 4, 18, 55),\n",
       "       datetime.datetime(2013, 6, 14, 17, 55),\n",
       "       datetime.datetime(2013, 6, 17, 18, 25),\n",
       "       datetime.datetime(2013, 6, 20, 18, 55),\n",
       "       datetime.datetime(2013, 6, 27, 19, 0),\n",
       "       datetime.datetime(2013, 7, 11, 19, 15),\n",
       "       datetime.datetime(2013, 7, 13, 19, 0),\n",
       "       datetime.datetime(2013, 7, 15, 18, 50),\n",
       "       datetime.datetime(2013, 7, 25, 17, 50),\n",
       "       datetime.datetime(2013, 7, 26, 18, 30),\n",
       "       datetime.datetime(2013, 7, 30, 18, 5),\n",
       "       datetime.datetime(2013, 8, 1, 17, 55),\n",
       "       datetime.datetime(2013, 8, 3, 17, 40),\n",
       "       datetime.datetime(2013, 8, 9, 18, 45),\n",
       "       datetime.datetime(2013, 8, 11, 18, 30),\n",
       "       datetime.datetime(2013, 8, 15, 18, 5),\n",
       "       datetime.datetime(2013, 8, 16, 18, 50),\n",
       "       datetime.datetime(2013, 8, 18, 18, 35),\n",
       "       datetime.datetime(2013, 8, 19, 17, 40),\n",
       "       datetime.datetime(2013, 8, 20, 18, 25),\n",
       "       datetime.datetime(2013, 8, 21, 19, 10),\n",
       "       datetime.datetime(2013, 8, 23, 18, 55),\n",
       "       datetime.datetime(2013, 8, 24, 18, 0),\n",
       "       datetime.datetime(2013, 8, 25, 18, 45),\n",
       "       datetime.datetime(2013, 8, 29, 18, 20),\n",
       "       datetime.datetime(2013, 9, 5, 18, 25),\n",
       "       datetime.datetime(2013, 9, 10, 18, 45),\n",
       "       datetime.datetime(2013, 9, 12, 18, 30),\n",
       "       datetime.datetime(2013, 9, 14, 18, 20),\n",
       "       datetime.datetime(2013, 9, 17, 18, 50),\n",
       "       datetime.datetime(2013, 9, 23, 18, 15),\n",
       "       datetime.datetime(2013, 9, 24, 18, 55),\n",
       "       datetime.datetime(2013, 9, 26, 18, 45),\n",
       "       datetime.datetime(2013, 9, 27, 17, 50),\n",
       "       datetime.datetime(2013, 9, 28, 18, 30),\n",
       "       datetime.datetime(2013, 10, 1, 19, 0),\n",
       "       datetime.datetime(2013, 10, 2, 18, 5),\n",
       "       datetime.datetime(2013, 10, 8, 19, 10),\n",
       "       datetime.datetime(2013, 10, 9, 18, 15),\n",
       "       datetime.datetime(2013, 10, 10, 18, 55),\n",
       "       datetime.datetime(2013, 10, 11, 18, 0),\n",
       "       datetime.datetime(2013, 10, 12, 18, 45),\n",
       "       datetime.datetime(2013, 10, 14, 18, 30),\n",
       "       datetime.datetime(2014, 5, 24, 18, 45),\n",
       "       datetime.datetime(2014, 5, 25, 17, 50),\n",
       "       datetime.datetime(2014, 5, 30, 18, 5),\n",
       "       datetime.datetime(2014, 5, 31, 18, 50),\n",
       "       datetime.datetime(2014, 6, 3, 19, 20),\n",
       "       datetime.datetime(2014, 6, 5, 19, 10),\n",
       "       datetime.datetime(2014, 6, 7, 18, 55),\n",
       "       datetime.datetime(2014, 6, 14, 19, 0),\n",
       "       datetime.datetime(2014, 6, 16, 18, 50),\n",
       "       datetime.datetime(2014, 6, 21, 19, 10),\n",
       "       datetime.datetime(2014, 6, 28, 19, 15),\n",
       "       datetime.datetime(2014, 7, 2, 18, 50),\n",
       "       datetime.datetime(2014, 7, 4, 18, 35),\n",
       "       datetime.datetime(2014, 7, 5, 17, 40),\n",
       "       datetime.datetime(2014, 7, 5, 17, 45),\n",
       "       datetime.datetime(2014, 7, 7, 19, 10),\n",
       "       datetime.datetime(2014, 7, 9, 18, 55),\n",
       "       datetime.datetime(2014, 7, 11, 18, 45),\n",
       "       datetime.datetime(2014, 7, 14, 19, 15),\n",
       "       datetime.datetime(2014, 7, 17, 18, 5),\n",
       "       datetime.datetime(2014, 7, 31, 18, 20),\n",
       "       datetime.datetime(2014, 8, 3, 18, 50),\n",
       "       datetime.datetime(2014, 8, 7, 18, 25),\n",
       "       datetime.datetime(2014, 8, 9, 18, 15),\n",
       "       datetime.datetime(2014, 8, 10, 18, 55),\n",
       "       datetime.datetime(2014, 8, 13, 17, 50),\n",
       "       datetime.datetime(2014, 8, 17, 19, 0),\n",
       "       datetime.datetime(2014, 8, 18, 18, 5),\n",
       "       datetime.datetime(2014, 8, 25, 18, 15),\n",
       "       datetime.datetime(2014, 8, 26, 18, 55),\n",
       "       datetime.datetime(2014, 8, 27, 18, 0),\n",
       "       datetime.datetime(2014, 8, 28, 18, 45),\n",
       "       datetime.datetime(2014, 9, 3, 18, 5),\n",
       "       datetime.datetime(2014, 9, 4, 18, 50),\n",
       "       datetime.datetime(2014, 9, 7, 17, 40),\n",
       "       datetime.datetime(2014, 9, 8, 18, 25),\n",
       "       datetime.datetime(2014, 9, 16, 17, 35),\n",
       "       datetime.datetime(2014, 9, 16, 19, 15),\n",
       "       datetime.datetime(2014, 9, 17, 18, 20),\n",
       "       datetime.datetime(2014, 9, 18, 19, 0),\n",
       "       datetime.datetime(2014, 9, 19, 18, 5),\n",
       "       datetime.datetime(2014, 9, 20, 18, 50),\n",
       "       datetime.datetime(2014, 9, 23, 17, 40),\n",
       "       datetime.datetime(2014, 9, 23, 19, 20),\n",
       "       datetime.datetime(2014, 9, 24, 18, 25),\n",
       "       datetime.datetime(2014, 9, 25, 19, 10),\n",
       "       datetime.datetime(2014, 9, 26, 18, 15),\n",
       "       datetime.datetime(2014, 9, 27, 18, 55),\n",
       "       datetime.datetime(2014, 9, 29, 18, 45),\n",
       "       datetime.datetime(2014, 10, 12, 18, 5),\n",
       "       datetime.datetime(2014, 10, 12, 18, 10),\n",
       "       datetime.datetime(2014, 10, 12, 18, 15),\n",
       "       datetime.datetime(2014, 10, 23, 17, 55),\n",
       "       datetime.datetime(2014, 10, 26, 18, 25),\n",
       "       datetime.datetime(2014, 11, 11, 18, 25),\n",
       "       datetime.datetime(2015, 5, 1, 18, 1),\n",
       "       datetime.datetime(2015, 5, 1, 18, 5),\n",
       "       datetime.datetime(2015, 5, 1, 18, 10),\n",
       "       datetime.datetime(2015, 5, 2, 18, 50),\n",
       "       datetime.datetime(2015, 5, 3, 17, 55),\n",
       "       datetime.datetime(2015, 5, 7, 19, 10),\n",
       "       datetime.datetime(2015, 5, 11, 18, 45),\n",
       "       datetime.datetime(2015, 5, 23, 19, 10),\n",
       "       datetime.datetime(2015, 6, 3, 18, 50),\n",
       "       datetime.datetime(2015, 6, 10, 18, 55),\n",
       "       datetime.datetime(2015, 7, 20, 18, 5),\n",
       "       datetime.datetime(2015, 7, 21, 18, 50),\n",
       "       datetime.datetime(2015, 7, 23, 18, 35),\n",
       "       datetime.datetime(2015, 7, 27, 16, 26),\n",
       "       datetime.datetime(2015, 7, 27, 18, 10),\n",
       "       datetime.datetime(2015, 7, 27, 18, 15),\n",
       "       datetime.datetime(2015, 7, 28, 18, 55),\n",
       "       datetime.datetime(2015, 8, 2, 19, 15),\n",
       "       datetime.datetime(2015, 8, 13, 18, 55),\n",
       "       datetime.datetime(2015, 8, 22, 18, 50),\n",
       "       datetime.datetime(2015, 9, 6, 18, 5),\n",
       "       datetime.datetime(2015, 9, 14, 18, 55),\n",
       "       datetime.datetime(2015, 9, 17, 17, 50),\n",
       "       datetime.datetime(2015, 9, 17, 19, 25),\n",
       "       datetime.datetime(2015, 9, 21, 19, 0),\n",
       "       datetime.datetime(2015, 9, 22, 18, 5),\n",
       "       datetime.datetime(2015, 9, 23, 18, 50),\n",
       "       datetime.datetime(2015, 9, 24, 17, 55),\n",
       "       datetime.datetime(2016, 4, 16, 19, 0),\n",
       "       datetime.datetime(2016, 4, 23, 19, 10),\n",
       "       datetime.datetime(2016, 5, 6, 18, 0),\n",
       "       datetime.datetime(2016, 5, 18, 19, 0),\n",
       "       datetime.datetime(2016, 5, 23, 17, 40),\n",
       "       datetime.datetime(2016, 6, 12, 18, 55),\n",
       "       datetime.datetime(2016, 6, 17, 19, 15),\n",
       "       datetime.datetime(2016, 6, 19, 19, 0),\n",
       "       datetime.datetime(2016, 6, 21, 18, 50),\n",
       "       datetime.datetime(2016, 6, 24, 17, 40),\n",
       "       datetime.datetime(2016, 6, 30, 18, 45),\n",
       "       datetime.datetime(2016, 7, 5, 19, 0),\n",
       "       datetime.datetime(2016, 7, 12, 19, 5),\n",
       "       datetime.datetime(2016, 8, 1, 18, 45),\n",
       "       datetime.datetime(2016, 8, 7, 18, 5),\n",
       "       datetime.datetime(2016, 8, 10, 18, 35),\n",
       "       datetime.datetime(2016, 8, 19, 18, 30),\n",
       "       datetime.datetime(2016, 9, 27, 18, 35),\n",
       "       datetime.datetime(2016, 10, 17, 18, 10),\n",
       "       datetime.datetime(2017, 4, 8, 17, 40),\n",
       "       datetime.datetime(2017, 4, 12, 18, 55),\n",
       "       datetime.datetime(2017, 4, 14, 18, 45),\n",
       "       datetime.datetime(2017, 4, 23, 18, 35),\n",
       "       datetime.datetime(2017, 5, 7, 18, 50),\n",
       "       datetime.datetime(2017, 5, 8, 17, 55),\n",
       "       datetime.datetime(2017, 5, 15, 18, 0),\n",
       "       datetime.datetime(2017, 5, 16, 18, 45),\n",
       "       datetime.datetime(2017, 6, 1, 18, 45),\n",
       "       datetime.datetime(2017, 6, 3, 18, 30),\n",
       "       datetime.datetime(2017, 6, 8, 18, 50),\n",
       "       datetime.datetime(2017, 6, 11, 17, 40),\n",
       "       datetime.datetime(2017, 6, 11, 19, 20),\n",
       "       datetime.datetime(2017, 6, 20, 19, 15),\n",
       "       datetime.datetime(2017, 6, 24, 18, 50),\n",
       "       datetime.datetime(2017, 7, 2, 18, 0),\n",
       "       datetime.datetime(2017, 7, 4, 17, 50),\n",
       "       datetime.datetime(2017, 7, 9, 18, 5),\n",
       "       datetime.datetime(2017, 7, 15, 19, 5),\n",
       "       datetime.datetime(2017, 7, 17, 18, 55),\n",
       "       datetime.datetime(2017, 7, 18, 18, 0),\n",
       "       datetime.datetime(2017, 7, 19, 18, 45),\n",
       "       datetime.datetime(2017, 7, 25, 18, 5),\n",
       "       datetime.datetime(2017, 7, 29, 19, 20),\n",
       "       datetime.datetime(2017, 7, 31, 19, 5),\n",
       "       datetime.datetime(2017, 8, 2, 18, 55),\n",
       "       datetime.datetime(2017, 8, 16, 19, 5),\n",
       "       datetime.datetime(2017, 8, 20, 18, 45),\n",
       "       datetime.datetime(2017, 8, 25, 19, 0),\n",
       "       datetime.datetime(2017, 8, 27, 18, 50),\n",
       "       datetime.datetime(2017, 8, 30, 19, 20),\n",
       "       datetime.datetime(2017, 9, 5, 18, 45),\n",
       "       datetime.datetime(2017, 9, 9, 18, 20),\n",
       "       datetime.datetime(2017, 9, 15, 19, 20),\n",
       "       datetime.datetime(2017, 9, 16, 18, 25),\n",
       "       datetime.datetime(2017, 9, 17, 19, 5),\n",
       "       datetime.datetime(2017, 9, 20, 18, 0),\n",
       "       datetime.datetime(2017, 9, 21, 18, 45),\n",
       "       datetime.datetime(2017, 9, 22, 19, 25),\n",
       "       datetime.datetime(2017, 9, 23, 18, 30),\n",
       "       datetime.datetime(2017, 9, 24, 19, 15),\n",
       "       datetime.datetime(2017, 9, 26, 19, 0),\n",
       "       datetime.datetime(2017, 10, 1, 17, 40),\n",
       "       datetime.datetime(2017, 10, 2, 18, 25),\n",
       "       datetime.datetime(2017, 10, 3, 19, 5),\n",
       "       datetime.datetime(2017, 10, 5, 18, 55),\n",
       "       datetime.datetime(2017, 10, 9, 18, 30),\n",
       "       datetime.datetime(2017, 10, 16, 18, 35),\n",
       "       datetime.datetime(2017, 10, 17, 17, 40),\n",
       "       datetime.datetime(2017, 10, 18, 18, 25),\n",
       "       datetime.datetime(2017, 10, 19, 19, 5),\n",
       "       datetime.datetime(2017, 10, 20, 18, 10),\n",
       "       datetime.datetime(2017, 10, 22, 18, 0)], dtype=object)"
      ]
     },
     "execution_count": 10,
     "metadata": {},
     "output_type": "execute_result"
    }
   ],
   "source": [
    "e_m_dates=nc.num2date(e_m_ds.time,e_m_ds.time.units, only_use_cftime_datetimes=False, \n",
    "                        only_use_python_datetimes=True )\n",
    "e_m_dates\n",
    "#e_m_ds.time"
   ]
  },
  {
   "cell_type": "code",
   "execution_count": 11,
   "metadata": {},
   "outputs": [
    {
     "data": {
      "text/plain": [
       "-999.0"
      ]
     },
     "execution_count": 11,
     "metadata": {},
     "output_type": "execute_result"
    }
   ],
   "source": [
    "e_m_ds.chlorophyll.attrs['_FillValue']"
   ]
  },
  {
   "cell_type": "code",
   "execution_count": 12,
   "metadata": {
    "scrolled": true
   },
   "outputs": [
    {
     "name": "stdout",
     "output_type": "stream",
     "text": [
      "<xarray.DataArray 'chlorophyll' (time: 506, latitude: 200, longitude: 500)>\n",
      "array([[[nan, nan, nan, ..., nan, nan, nan],\n",
      "        [nan, nan, nan, ..., nan, nan, nan],\n",
      "        [nan, nan, nan, ..., nan, nan, nan],\n",
      "        ...,\n",
      "        [nan, nan, nan, ..., nan, nan, nan],\n",
      "        [nan, nan, nan, ..., nan, nan, nan],\n",
      "        [nan, nan, nan, ..., nan, nan, nan]],\n",
      "\n",
      "       [[nan, nan, nan, ..., nan, nan, nan],\n",
      "        [nan, nan, nan, ..., nan, nan, nan],\n",
      "        [nan, nan, nan, ..., nan, nan, nan],\n",
      "        ...,\n",
      "        [nan, nan, nan, ..., nan, nan, nan],\n",
      "        [nan, nan, nan, ..., nan, nan, nan],\n",
      "        [nan, nan, nan, ..., nan, nan, nan]],\n",
      "\n",
      "       [[nan, nan, nan, ..., nan, nan, nan],\n",
      "        [nan, nan, nan, ..., nan, nan, nan],\n",
      "        [nan, nan, nan, ..., nan, nan, nan],\n",
      "        ...,\n",
      "...\n",
      "        ...,\n",
      "        [nan, nan, nan, ..., nan, nan, nan],\n",
      "        [nan, nan, nan, ..., nan, nan, nan],\n",
      "        [nan, nan, nan, ..., nan, nan, nan]],\n",
      "\n",
      "       [[nan, nan, nan, ..., nan, nan, nan],\n",
      "        [nan, nan, nan, ..., nan, nan, nan],\n",
      "        [nan, nan, nan, ..., nan, nan, nan],\n",
      "        ...,\n",
      "        [nan, nan, nan, ..., nan, nan, nan],\n",
      "        [nan, nan, nan, ..., nan, nan, nan],\n",
      "        [nan, nan, nan, ..., nan, nan, nan]],\n",
      "\n",
      "       [[nan, nan, nan, ..., nan, nan, nan],\n",
      "        [nan, nan, nan, ..., nan, nan, nan],\n",
      "        [nan, nan, nan, ..., nan, nan, nan],\n",
      "        ...,\n",
      "        [nan, nan, nan, ..., nan, nan, nan],\n",
      "        [nan, nan, nan, ..., nan, nan, nan],\n",
      "        [nan, nan, nan, ..., nan, nan, nan]]])\n",
      "Coordinates:\n",
      "  * time       (time) float64 1.029e+09 1.029e+09 ... 1.509e+09 1.509e+09\n",
      "  * latitude   (latitude) float64 41.01 41.02 41.03 41.04 ... 42.98 42.99 43.0\n",
      "  * longitude  (longitude) float64 -83.5 -83.49 -83.48 ... -78.53 -78.52 -78.51\n",
      "Attributes:\n",
      "    _FillValue:       -999.0\n",
      "    colorBarMaximum:  30.0\n",
      "    colorBarMinimum:  1.0\n",
      "    grid_mapping:     crs\n",
      "    ioos_category:    Ocean Color\n",
      "    long_name:        Chlorophyll-a, Aqua MODIS, EXPERIMENTAL\n",
      "    standard_name:    concentration_of_chlorophyll_in_sea_water\n",
      "    units:            ug/L\n"
     ]
    }
   ],
   "source": [
    "# In chlorophyll array, replace -999 with nan\n",
    "nan_e_m_ds_chlorophyll = e_m_ds.chlorophyll.where(e_m_ds.chlorophyll.values != e_m_ds.chlorophyll.attrs['_FillValue'])\n",
    "\n",
    "#print(nan_e_m_ds_chlorophyll[0,100,:] )\n",
    "print(nan_e_m_ds_chlorophyll)\n"
   ]
  },
  {
   "cell_type": "markdown",
   "metadata": {},
   "source": [
    "\n",
    "#### - Compute the monthly mean over the region data :"
   ]
  },
  {
   "cell_type": "code",
   "execution_count": 13,
   "metadata": {},
   "outputs": [
    {
     "name": "stdout",
     "output_type": "stream",
     "text": [
      "(200, 500)\n"
     ]
    }
   ],
   "source": [
    "# Create list of string contains 'year month day hours minutes seconds'\n",
    "d_list = []\n",
    "[ d_list.append(dt.strftime(\"%Y %m %d %H %M %S\")) for dt in e_m_dates]\n",
    "\n",
    "#print(min(d_list))\n",
    "#print(max(d_list))\n",
    "\n",
    "mn = '08'\n",
    "yr = '2009'\n",
    "\n",
    "i_list = []\n",
    "for n, d in enumerate(d_list):\n",
    "    d_t = d.split()\n",
    "    if d_t[0] == yr and d_t[1] == mn:\n",
    "        # print( n, d_t)\n",
    "        i_list.append(n)  # get all index of data for yr and mn\n",
    "    \n",
    "    #print(n, d)\n",
    "#print(i_list)\n",
    "\n",
    "# axis=0 is time line\n",
    "chl_avg_img = nan_e_m_ds_chlorophyll.values[i_list[0]:i_list[-1]].mean(axis=0)\n",
    "print(chl_avg_img.shape)"
   ]
  },
  {
   "cell_type": "code",
   "execution_count": 14,
   "metadata": {},
   "outputs": [
    {
     "name": "stdout",
     "output_type": "stream",
     "text": [
      "0.4942583243052167\n",
      "100.5\n"
     ]
    }
   ],
   "source": [
    "# find max and min value in man_sst\n",
    "print(np.nanmin(chl_avg_img))\n",
    "print(np.nanmax(chl_avg_img))"
   ]
  },
  {
   "cell_type": "code",
   "execution_count": 15,
   "metadata": {},
   "outputs": [
    {
     "data": {
      "text/plain": [
       "334"
      ]
     },
     "execution_count": 15,
     "metadata": {},
     "output_type": "execute_result"
    }
   ],
   "source": [
    "# number of colors\n",
    "levs = np.arange(np.nanmin(chl_avg_img), np.nanmax(chl_avg_img), 0.3)\n",
    "len(levs)"
   ]
  },
  {
   "cell_type": "code",
   "execution_count": 16,
   "metadata": {},
   "outputs": [],
   "source": [
    "# init a color list\n",
    "jet=[\"blue\", \"#007FFF\", \"cyan\",\"#7FFF7F\", \"yellow\", \"#FF7F00\", \"red\", \"#7F0000\"]\n",
    "\n",
    "cm = LinearSegmentedColormap.from_list('my_jet', jet, N=len(levs))\n"
   ]
  },
  {
   "cell_type": "markdown",
   "metadata": {},
   "source": [
    "#### -Draw the image of monthly mean"
   ]
  },
  {
   "cell_type": "code",
   "execution_count": 17,
   "metadata": {
    "scrolled": true
   },
   "outputs": [
    {
     "data": {
      "image/png": "[encoded data removed]",
      "text/plain": [
       "<Figure size 720x360 with 2 Axes>"
      ]
     },
     "metadata": {
      "needs_background": "light"
     },
     "output_type": "display_data"
    }
   ],
   "source": [
    "plt.subplots(figsize=(10, 5))\n",
    "\n",
    "#plot image chl_avg_img\n",
    "plt.contourf(e_m_ds.longitude, e_m_ds.latitude, chl_avg_img, levs,cmap=cm)\n",
    "\n",
    "#plot the color scale\n",
    "plt.colorbar()\n",
    "\n",
    "#example of how to add points to the map\n",
    "#plt.scatter(np.linspace(-82,-80.5,num=4),np.repeat(42,4),c='black')\n",
    "\n",
    "#example of how to add a contour line\n",
    "#step = np.arange(1,100, 10)\n",
    "#plt.contour(e_m_ds.longitude, e_m_ds.latitude, chl_avg_img,levels=step,linewidths=1)\n",
    "\n",
    "#plot title\n",
    "plt.title(\"Lake Erie Average CHL - \" + yr + '-' + mn)\n",
    "plt.show()"
   ]
  },
  {
   "cell_type": "markdown",
   "metadata": {},
   "source": [
    "#### -  Compute the Lake Erie chlorophyll monthly mean from 2002 to 2017"
   ]
  },
  {
   "cell_type": "code",
   "execution_count": 18,
   "metadata": {},
   "outputs": [
    {
     "name": "stdout",
     "output_type": "stream",
     "text": [
      "['2002', '2003', '2004', '2005', '2006', '2007', '2008', '2009', '2010', '2011', '2012', '2013', '2014', '2015', '2016', '2017']\n",
      "16\n",
      "192\n",
      "[nan, nan, nan, nan, nan, nan, nan, 5.435731696799938, 5.390267233342085, 8.081265781572409, nan, nan, nan, nan, nan, nan, nan, 6.781491128619841, 6.109469974086832, 4.314376310517935, 6.79798886383254, 7.093404713878546, nan, nan, nan, nan, nan, nan, nan, nan, nan, 5.368433526104296, 7.64127887019175, 10.885647119544341, nan, nan, nan, nan, nan, nan, nan, 5.840624163588643, 5.249259500793706, 4.616988228955723, 7.096526864254263, 4.819230418185895, nan, nan, nan, nan, nan, nan, nan, 4.510100122676393, 4.086877241390418, 8.282441959350821, nan, nan, nan, nan, nan, nan, nan, nan, nan, 6.047208513833891, 4.158334577045406, 5.306521407370655, 4.870477621191157, nan, nan, nan, nan, nan, nan, nan, nan, 4.399793136125678, 4.948825492811119, 6.928067277764852, 7.537945121660116, 10.463871652015316, nan, nan, nan, nan, nan, nan, nan, 5.468607769352359, 4.331433124523354, 4.19491169121446, 5.51911800736798, nan, nan, nan, nan, nan, nan, nan, 7.118216527176936, 5.497184958386398, 6.816787462061543, 7.384876000467598, 8.352871379209835, 17.20921945662595, nan, nan, nan, nan, nan, nan, 8.273948811094096, 9.504673836426932, 6.30459248163054, 8.498188201950223, 4.757683522841076, 7.789956015198095, nan, nan, nan, nan, nan, nan, 5.350309186444175, 5.087124626496798, 5.466797826682114, 6.545372806489798, 10.046555535267995, nan, nan, nan, nan, nan, nan, nan, nan, 5.419905113305022, 6.579744183612031, 6.078049791451018, 12.294146096066456, 12.653713855241293, nan, nan, nan, nan, nan, nan, 5.380835510589356, 6.1975559710383115, 4.153931307969729, 4.164349087430823, 7.613671326357655, 11.032704445403692, nan, nan, nan, nan, nan, nan, 6.1890473994776, 9.137474061305161, 12.006564368910517, 13.846336174760882, 12.386790262293644, nan, nan, nan, nan, nan, nan, 10.048730617740274, 7.629785864421565, 5.541983322992535, 3.1488706872830643, 5.253753071859053, nan, nan, nan, nan, nan, nan, nan, 12.166465731425616, 11.707058952935256, 6.139350735676277, 5.360138504826018, 5.020559277856057, 7.541953126812535, 13.605299324152273, nan, nan]\n"
     ]
    }
   ],
   "source": [
    "d_list = []\n",
    "[ d_list.append(dt.strftime(\"%Y %m %d %H %M %S\")) for dt in e_m_dates]\n",
    "\n",
    "#print(min(d_list))\n",
    "#print(max(d_list))\n",
    "m_yr_list = []\n",
    "[ m_yr_list.append(str(dt.year)) for dt in e_m_dates if str(dt.year) not in m_yr_list ]\n",
    "\n",
    "print(m_yr_list)\n",
    "print(len(m_yr_list))\n",
    "\n",
    "mn_list = ['01','02','03','04','05','06','07','08','09','10','11','12']\n",
    "m_chl_avg_list = []\n",
    "for yr in m_yr_list:\n",
    "    for mn in mn_list:\n",
    "        \n",
    "        i_list = []\n",
    "        for n, d in enumerate(d_list):\n",
    "            d_t = d.split()\n",
    "            #print(type(yr), type(mn), d_t)\n",
    "            if d_t[0] == yr and d_t[1] == mn:\n",
    "                #print( n, d_t)\n",
    "                i_list.append(n)  # get all index of data for yr and mn\n",
    "    \n",
    "        #print(i_list, 'aaa')\n",
    "\n",
    "        if i_list:\n",
    "            #print('bbb')\n",
    "            # axis=0 is time line\n",
    "            m_chl_avg = np.nanmean(nan_e_m_ds_chlorophyll.values[i_list[0]:i_list[-1]],axis=(0,1,2))\n",
    "            #print(i_list)\n",
    "            #print('ccc', chl_avg)\n",
    "        else:\n",
    "            m_chl_avg = np.NAN\n",
    "        #print(yr, mn, chl_avg)\n",
    "        \n",
    "        m_chl_avg_list.append(m_chl_avg)  # add each month mean data into list\n",
    "print(len(m_chl_avg_list))\n",
    "print(m_chl_avg_list)"
   ]
  },
  {
   "cell_type": "code",
   "execution_count": 19,
   "metadata": {},
   "outputs": [
    {
     "data": {
      "text/plain": [
       "<matplotlib.legend.Legend at 0x236822c2808>"
      ]
     },
     "execution_count": 19,
     "metadata": {},
     "output_type": "execute_result"
    },
    {
     "data": {
      "image/png": "[encoded data removed]",
      "text/plain": [
       "<Figure size 864x360 with 1 Axes>"
      ]
     },
     "metadata": {
      "needs_background": "light"
     },
     "output_type": "display_data"
    }
   ],
   "source": [
    "x = np.linspace(2002, 2018,num=192)   # contains data from 2002 to 2017 (not 2018)\n",
    "\n",
    "#units = e_m_ds.chlorophyll.attrs['units']\n",
    "\n",
    "plt.figure(figsize=(12,5)) \n",
    "plt.plot(x,m_chl_avg_list,label='MODIS CHL',c='red',marker='.',linestyle='-')\n",
    "plt.ylabel('Chl-a (mg/m^3)')\n",
    "plt.legend()"
   ]
  },
  {
   "cell_type": "markdown",
   "metadata": {},
   "source": [
    "## Get monthly VIIRS data, which starts in 2018"
   ]
  },
  {
   "cell_type": "code",
   "execution_count": 20,
   "metadata": {},
   "outputs": [
    {
     "data": {
      "text/plain": [
       "('e_viirs_chl.nc', <http.client.HTTPMessage at 0x23682325ac8>)"
      ]
     },
     "execution_count": 20,
     "metadata": {},
     "output_type": "execute_result"
    }
   ],
   "source": [
    "url2='https://coastwatch.glerl.noaa.gov/erddap/griddap/LE_CHL_VIIRS_Monthly_Avg.nc?Chlorophyll[(2018-05-15T12:00:00Z):1:(2021-06-15T12:00:00Z)][(41.2690208353804):1:(43.017997272827)][(-83.6574899492178):1:(-78.4429490894234)]'\n",
    "urllib.request.urlretrieve(url2, \"e_viirs_chl.nc\")"
   ]
  },
  {
   "cell_type": "code",
   "execution_count": 21,
   "metadata": {},
   "outputs": [],
   "source": [
    "e_v_ds = xr.open_dataset('e_viirs_chl.nc',decode_cf=False)"
   ]
  },
  {
   "cell_type": "code",
   "execution_count": 22,
   "metadata": {},
   "outputs": [
    {
     "name": "stdout",
     "output_type": "stream",
     "text": [
      "<xarray.Dataset>\n",
      "Dimensions:      (latitude: 271, longitude: 806, time: 38)\n",
      "Coordinates:\n",
      "  * time         (time) float64 1.526e+09 1.529e+09 ... 1.621e+09 1.624e+09\n",
      "  * latitude     (latitude) float64 41.27 41.28 41.28 ... 43.01 43.01 43.02\n",
      "  * longitude    (longitude) float64 -83.66 -83.65 -83.64 ... -78.45 -78.44\n",
      "Data variables:\n",
      "    Chlorophyll  (time, latitude, longitude) float32 ...\n",
      "Attributes: (12/34)\n",
      "    cdm_data_type:                  Grid\n",
      "    colorBarMaximum:                30.0\n",
      "    colorBarMinimum:                1.0\n",
      "    colorBarScale:                  Log\n",
      "    Conventions:                    CF-1.6, COARDS, ACDD-1.3\n",
      "    Easternmost_Easting:            -78.4429490894234\n",
      "    ...                             ...\n",
      "    summary:                        Color Producing Agent (CPA) Chlorophyll, ...\n",
      "    testOutOfDate:                  now-58days\n",
      "    time_coverage_end:              2021-06-15T12:00:00Z\n",
      "    time_coverage_start:            2018-05-15T12:00:00Z\n",
      "    title:                          Color Producing Agent (CPA) Monthly Avera...\n",
      "    Westernmost_Easting:            -83.6574899492178\n"
     ]
    }
   ],
   "source": [
    "print(e_v_ds)"
   ]
  },
  {
   "cell_type": "code",
   "execution_count": 27,
   "metadata": {},
   "outputs": [
    {
     "name": "stdout",
     "output_type": "stream",
     "text": [
      "[ 7.387662   7.130833   6.8531957  7.067971  10.981218   9.158773\n",
      " 13.29338    9.700653  13.87522   37.8129    17.29175   14.630282\n",
      " 10.530294   8.1118765  6.0679684  7.7413135  8.563966  18.578035\n",
      " 13.02914    9.297082  13.149483  14.124588  12.059988  12.409704\n",
      "  8.531175   6.5784163  4.954806   6.5634985  7.719488  11.749591\n",
      " 14.757857  16.201027  10.846249  11.817226  15.175478   9.953331\n",
      "  9.3959055  5.0962305]\n",
      "38\n"
     ]
    }
   ],
   "source": [
    "nan_e_v_ds_chlorophyll = e_v_ds.Chlorophyll.where(e_v_ds.Chlorophyll.values != e_v_ds.Chlorophyll.attrs['_FillValue'])\n",
    "\n",
    "v_chl_avg = np.nanmean(nan_e_v_ds_chlorophyll,axis=(1,2))\n",
    "print(v_chl_avg)\n",
    "print(len(v_chl_avg))"
   ]
  },
  {
   "cell_type": "code",
   "execution_count": 28,
   "metadata": {
    "scrolled": true
   },
   "outputs": [
    {
     "data": {
      "text/plain": [
       "array([datetime.datetime(2018, 5, 15, 12, 0),\n",
       "       datetime.datetime(2018, 6, 15, 12, 0),\n",
       "       datetime.datetime(2018, 7, 15, 12, 0),\n",
       "       datetime.datetime(2018, 8, 15, 12, 0),\n",
       "       datetime.datetime(2018, 9, 15, 12, 0),\n",
       "       datetime.datetime(2018, 10, 15, 12, 0),\n",
       "       datetime.datetime(2018, 11, 15, 12, 0),\n",
       "       datetime.datetime(2018, 12, 15, 12, 0),\n",
       "       datetime.datetime(2019, 1, 15, 12, 0),\n",
       "       datetime.datetime(2019, 2, 15, 12, 0),\n",
       "       datetime.datetime(2019, 3, 15, 12, 0),\n",
       "       datetime.datetime(2019, 4, 15, 12, 0),\n",
       "       datetime.datetime(2019, 5, 15, 12, 0),\n",
       "       datetime.datetime(2019, 6, 15, 12, 0),\n",
       "       datetime.datetime(2019, 7, 15, 12, 0),\n",
       "       datetime.datetime(2019, 8, 15, 12, 0),\n",
       "       datetime.datetime(2019, 9, 15, 12, 0),\n",
       "       datetime.datetime(2019, 10, 15, 12, 0),\n",
       "       datetime.datetime(2019, 11, 15, 12, 0),\n",
       "       datetime.datetime(2019, 12, 15, 12, 0),\n",
       "       datetime.datetime(2020, 1, 15, 12, 0),\n",
       "       datetime.datetime(2020, 2, 15, 12, 0),\n",
       "       datetime.datetime(2020, 3, 15, 12, 0),\n",
       "       datetime.datetime(2020, 4, 15, 12, 0),\n",
       "       datetime.datetime(2020, 5, 15, 12, 0),\n",
       "       datetime.datetime(2020, 6, 15, 12, 0),\n",
       "       datetime.datetime(2020, 7, 15, 12, 0),\n",
       "       datetime.datetime(2020, 8, 15, 12, 0),\n",
       "       datetime.datetime(2020, 9, 15, 12, 0),\n",
       "       datetime.datetime(2020, 10, 15, 12, 0),\n",
       "       datetime.datetime(2020, 11, 15, 12, 0),\n",
       "       datetime.datetime(2020, 12, 15, 12, 0),\n",
       "       datetime.datetime(2021, 1, 15, 12, 0),\n",
       "       datetime.datetime(2021, 2, 15, 12, 0),\n",
       "       datetime.datetime(2021, 3, 15, 12, 0),\n",
       "       datetime.datetime(2021, 4, 15, 12, 0),\n",
       "       datetime.datetime(2021, 5, 15, 12, 0),\n",
       "       datetime.datetime(2021, 6, 15, 12, 0)], dtype=object)"
      ]
     },
     "execution_count": 28,
     "metadata": {},
     "output_type": "execute_result"
    }
   ],
   "source": [
    "e_v_dates=nc.num2date(e_v_ds.time,e_v_ds.time.units, only_use_cftime_datetimes=False, \n",
    "                        only_use_python_datetimes=True )\n",
    "e_v_dates \n"
   ]
  },
  {
   "cell_type": "code",
   "execution_count": 29,
   "metadata": {},
   "outputs": [
    {
     "data": {
      "text/plain": [
       "array([ 7.387662 ,  7.130833 ,  6.8531957,  7.067971 , 10.981218 ,\n",
       "        9.158773 , 13.29338  ,  9.700653 , 13.87522  , 37.8129   ,\n",
       "       17.29175  , 14.630282 , 10.530294 ,  8.1118765,  6.0679684,\n",
       "        7.7413135,  8.563966 , 18.578035 , 13.02914  ,  9.297082 ,\n",
       "       13.149483 , 14.124588 , 12.059988 , 12.409704 ,  8.531175 ,\n",
       "        6.5784163,  4.954806 ,  6.5634985,  7.719488 , 11.749591 ,\n",
       "       14.757857 , 16.201027 , 10.846249 , 11.817226 , 15.175478 ,\n",
       "        9.953331 ,  9.3959055,  5.0962305], dtype=float32)"
      ]
     },
     "execution_count": 29,
     "metadata": {},
     "output_type": "execute_result"
    }
   ],
   "source": [
    "v_chl_avg = np.nanmean(nan_e_v_ds_chlorophyll.values,axis=(1,2))\n",
    "v_chl_avg"
   ]
  },
  {
   "cell_type": "code",
   "execution_count": 34,
   "metadata": {},
   "outputs": [
    {
     "data": {
      "text/plain": [
       "<matplotlib.legend.Legend at 0x236823e6848>"
      ]
     },
     "execution_count": 34,
     "metadata": {},
     "output_type": "execute_result"
    },
    {
     "data": {
      "image/png": "[encoded data removed]",
      "text/plain": [
       "<Figure size 864x360 with 1 Axes>"
      ]
     },
     "metadata": {
      "needs_background": "light"
     },
     "output_type": "display_data"
    }
   ],
   "source": [
    "plt.figure(figsize=(12,5)) \n",
    "plt.plot(e_v_dates,v_chl_avg,label='VIIRS CHL',c='red',marker='.',linestyle='-')\n",
    "plt.ylabel('Chl-a (mg/m^3)')\n",
    "plt.legend()"
   ]
  },
  {
   "cell_type": "code",
   "execution_count": 35,
   "metadata": {},
   "outputs": [
    {
     "name": "stderr",
     "output_type": "stream",
     "text": [
      "[NbConvertApp] Converting notebook GL_python_tutorial2.ipynb to html\n",
      "[NbConvertApp] Writing 444365 bytes to GL_python_tutorial2.html\n"
     ]
    }
   ],
   "source": [
    "#e_v_ds.close()\n",
    "!jupyter nbconvert --to html GL_python_tutorial2.ipynb"
   ]
  },
  {
   "cell_type": "code",
   "execution_count": null,
   "metadata": {},
   "outputs": [],
   "source": []
  }
 ],
 "metadata": {
  "kernelspec": {
   "display_name": "Python 3 (ipykernel)",
   "language": "python",
   "name": "python3"
  },
  "language_info": {
   "codemirror_mode": {
    "name": "ipython",
    "version": 3
   },
   "file_extension": ".py",
   "mimetype": "text/x-python",
   "name": "python",
   "nbconvert_exporter": "python",
   "pygments_lexer": "ipython3",
   "version": "3.11.4"
  }
 },
 "nbformat": 4,
 "nbformat_minor": 2
}
