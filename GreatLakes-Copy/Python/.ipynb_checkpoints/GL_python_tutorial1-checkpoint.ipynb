{
 "cells": [
  {
   "cell_type": "markdown",
   "metadata": {},
   "source": [
    "# Python Tutorial - How to work with CoastWatch data in Python\n",
    "\n",
    "This tutorial is based on the OceanWatch tutorial meterial edited with Great Lakes data. This tutorial will show the steps to grab data in ERDDAP from Python, how to work with NetCDF files in Python and how to make some maps and time-series water surface temperature (sst) in Lake Erie.\n",
    "\n",
    "## 1. Downlading data from Python\n",
    "\n",
    "Because ERDDAP includes RESTful services, you can download data listed on any ERDDAP platform from Python using the URL structure. For example, the following page allows you to subset daily water surface temperature data from the dataset GLSEA_ACSPO_GCS\n",
    "\n",
    "![](gl_erddap_glsea.png)\n",
    "\n",
    "In this specific example, the URL we generated is :\n",
    "\n",
    "https://coastwatch.glerl.noaa.gov/erddap/griddap/GLSEA_ACSPO_GCS.nc?sst[(2023-06-01T12:00:00Z):1:(2023-06-30T12:00:00Z)][(41):1:(43)][(-83.5):1:(-78.5)]\n",
    "\n",
    "\n",
    "In Python, run the following to download the data using the generated URL :\n"
   ]
  },
  {
   "cell_type": "code",
   "execution_count": 55,
   "metadata": {},
   "outputs": [
    {
     "data": {
      "text/plain": [
       "('e_sst.nc', <http.client.HTTPMessage at 0x1b3eefa8350>)"
      ]
     },
     "execution_count": 55,
     "metadata": {},
     "output_type": "execute_result"
    }
   ],
   "source": [
    "import urllib.request\n",
    "\n",
    "#url=\"https://coastwatch.glerl.noaa.gov/erddap/griddap/GLSEA_ACSPO_GCS.nc?sst[(2023-06-01T12:00:00Z):1:(2023-06-30T12:00:00Z)][(41):1:(43)][(-83.5):1:(-78.5)]\"\n",
    "url=\"https://coastwatch.glerl.noaa.gov/erddap/griddap/GLSEA_ACSPO_GCS.nc?sst%5B(2023-06-01T12:00:00Z):1:(2023-06-30T12:00:00Z)%5D%5B(41):1:(43)%5D%5B(-83.5):1:(-78.5)%5D\"\n",
    "urllib.request.urlretrieve(url, \"e_sst.nc\")"
   ]
  },
  {
   "cell_type": "markdown",
   "metadata": {},
   "source": [
    "# 2. Importing NetCDF4 data in Python\n",
    "\n",
    "Now that we've downloaded the data locally, we can import it and extract our variables of interest.\n",
    "\n",
    "The xarray package makes it very convenient to work with NetCDF files. Documentation is available here:\n",
    "http://xarray.pydata.org/en/stable/why-xarray.html"
   ]
  },
  {
   "cell_type": "code",
   "execution_count": 13,
   "metadata": {},
   "outputs": [],
   "source": [
    "import xarray as xr\n",
    "import netCDF4 as nc"
   ]
  },
  {
   "cell_type": "markdown",
   "metadata": {},
   "source": [
    "#### - Open the file and load it as an xarray dataset:"
   ]
  },
  {
   "cell_type": "code",
   "execution_count": 14,
   "metadata": {},
   "outputs": [],
   "source": [
    "ds = xr.open_dataset('e_sst.nc',decode_cf=False)"
   ]
  },
  {
   "cell_type": "markdown",
   "metadata": {},
   "source": [
    "#### - Examine the data structure:"
   ]
  },
  {
   "cell_type": "code",
   "execution_count": 15,
   "metadata": {},
   "outputs": [
    {
     "data": {
      "text/html": [
       "<div><svg style=\"position: absolute; width: 0; height: 0; overflow: hidden\">\n",
       "<defs>\n",
       "<symbol id=\"icon-database\" viewBox=\"0 0 32 32\">\n",
       "<path d=\"M16 0c-8.837 0-16 2.239-16 5v4c0 2.761 7.163 5 16 5s16-2.239 16-5v-4c0-2.761-7.163-5-16-5z\"></path>\n",
       "<path d=\"M16 17c-8.837 0-16-2.239-16-5v6c0 2.761 7.163 5 16 5s16-2.239 16-5v-6c0 2.761-7.163 5-16 5z\"></path>\n",
       "<path d=\"M16 26c-8.837 0-16-2.239-16-5v6c0 2.761 7.163 5 16 5s16-2.239 16-5v-6c0 2.761-7.163 5-16 5z\"></path>\n",
       "</symbol>\n",
       "<symbol id=\"icon-file-text2\" viewBox=\"0 0 32 32\">\n",
       "<path d=\"M28.681 7.159c-0.694-0.947-1.662-2.053-2.724-3.116s-2.169-2.030-3.116-2.724c-1.612-1.182-2.393-1.319-2.841-1.319h-15.5c-1.378 0-2.5 1.121-2.5 2.5v27c0 1.378 1.122 2.5 2.5 2.5h23c1.378 0 2.5-1.122 2.5-2.5v-19.5c0-0.448-0.137-1.23-1.319-2.841zM24.543 5.457c0.959 0.959 1.712 1.825 2.268 2.543h-4.811v-4.811c0.718 0.556 1.584 1.309 2.543 2.268zM28 29.5c0 0.271-0.229 0.5-0.5 0.5h-23c-0.271 0-0.5-0.229-0.5-0.5v-27c0-0.271 0.229-0.5 0.5-0.5 0 0 15.499-0 15.5 0v7c0 0.552 0.448 1 1 1h7v19.5z\"></path>\n",
       "<path d=\"M23 26h-14c-0.552 0-1-0.448-1-1s0.448-1 1-1h14c0.552 0 1 0.448 1 1s-0.448 1-1 1z\"></path>\n",
       "<path d=\"M23 22h-14c-0.552 0-1-0.448-1-1s0.448-1 1-1h14c0.552 0 1 0.448 1 1s-0.448 1-1 1z\"></path>\n",
       "<path d=\"M23 18h-14c-0.552 0-1-0.448-1-1s0.448-1 1-1h14c0.552 0 1 0.448 1 1s-0.448 1-1 1z\"></path>\n",
       "</symbol>\n",
       "</defs>\n",
       "</svg>\n",
       "<style>/* CSS stylesheet for displaying xarray objects in jupyterlab.\n",
       " *\n",
       " */\n",
       "\n",
       ":root {\n",
       "  --xr-font-color0: var(--jp-content-font-color0, rgba(0, 0, 0, 1));\n",
       "  --xr-font-color2: var(--jp-content-font-color2, rgba(0, 0, 0, 0.54));\n",
       "  --xr-font-color3: var(--jp-content-font-color3, rgba(0, 0, 0, 0.38));\n",
       "  --xr-border-color: var(--jp-border-color2, #e0e0e0);\n",
       "  --xr-disabled-color: var(--jp-layout-color3, #bdbdbd);\n",
       "  --xr-background-color: var(--jp-layout-color0, white);\n",
       "  --xr-background-color-row-even: var(--jp-layout-color1, white);\n",
       "  --xr-background-color-row-odd: var(--jp-layout-color2, #eeeeee);\n",
       "}\n",
       "\n",
       "html[theme=dark],\n",
       "body[data-theme=dark],\n",
       "body.vscode-dark {\n",
       "  --xr-font-color0: rgba(255, 255, 255, 1);\n",
       "  --xr-font-color2: rgba(255, 255, 255, 0.54);\n",
       "  --xr-font-color3: rgba(255, 255, 255, 0.38);\n",
       "  --xr-border-color: #1F1F1F;\n",
       "  --xr-disabled-color: #515151;\n",
       "  --xr-background-color: #111111;\n",
       "  --xr-background-color-row-even: #111111;\n",
       "  --xr-background-color-row-odd: #313131;\n",
       "}\n",
       "\n",
       ".xr-wrap {\n",
       "  display: block !important;\n",
       "  min-width: 300px;\n",
       "  max-width: 700px;\n",
       "}\n",
       "\n",
       ".xr-text-repr-fallback {\n",
       "  /* fallback to plain text repr when CSS is not injected (untrusted notebook) */\n",
       "  display: none;\n",
       "}\n",
       "\n",
       ".xr-header {\n",
       "  padding-top: 6px;\n",
       "  padding-bottom: 6px;\n",
       "  margin-bottom: 4px;\n",
       "  border-bottom: solid 1px var(--xr-border-color);\n",
       "}\n",
       "\n",
       ".xr-header > div,\n",
       ".xr-header > ul {\n",
       "  display: inline;\n",
       "  margin-top: 0;\n",
       "  margin-bottom: 0;\n",
       "}\n",
       "\n",
       ".xr-obj-type,\n",
       ".xr-array-name {\n",
       "  margin-left: 2px;\n",
       "  margin-right: 10px;\n",
       "}\n",
       "\n",
       ".xr-obj-type {\n",
       "  color: var(--xr-font-color2);\n",
       "}\n",
       "\n",
       ".xr-sections {\n",
       "  padding-left: 0 !important;\n",
       "  display: grid;\n",
       "  grid-template-columns: 150px auto auto 1fr 20px 20px;\n",
       "}\n",
       "\n",
       ".xr-section-item {\n",
       "  display: contents;\n",
       "}\n",
       "\n",
       ".xr-section-item input {\n",
       "  display: none;\n",
       "}\n",
       "\n",
       ".xr-section-item input + label {\n",
       "  color: var(--xr-disabled-color);\n",
       "}\n",
       "\n",
       ".xr-section-item input:enabled + label {\n",
       "  cursor: pointer;\n",
       "  color: var(--xr-font-color2);\n",
       "}\n",
       "\n",
       ".xr-section-item input:enabled + label:hover {\n",
       "  color: var(--xr-font-color0);\n",
       "}\n",
       "\n",
       ".xr-section-summary {\n",
       "  grid-column: 1;\n",
       "  color: var(--xr-font-color2);\n",
       "  font-weight: 500;\n",
       "}\n",
       "\n",
       ".xr-section-summary > span {\n",
       "  display: inline-block;\n",
       "  padding-left: 0.5em;\n",
       "}\n",
       "\n",
       ".xr-section-summary-in:disabled + label {\n",
       "  color: var(--xr-font-color2);\n",
       "}\n",
       "\n",
       ".xr-section-summary-in + label:before {\n",
       "  display: inline-block;\n",
       "  content: '►';\n",
       "  font-size: 11px;\n",
       "  width: 15px;\n",
       "  text-align: center;\n",
       "}\n",
       "\n",
       ".xr-section-summary-in:disabled + label:before {\n",
       "  color: var(--xr-disabled-color);\n",
       "}\n",
       "\n",
       ".xr-section-summary-in:checked + label:before {\n",
       "  content: '▼';\n",
       "}\n",
       "\n",
       ".xr-section-summary-in:checked + label > span {\n",
       "  display: none;\n",
       "}\n",
       "\n",
       ".xr-section-summary,\n",
       ".xr-section-inline-details {\n",
       "  padding-top: 4px;\n",
       "  padding-bottom: 4px;\n",
       "}\n",
       "\n",
       ".xr-section-inline-details {\n",
       "  grid-column: 2 / -1;\n",
       "}\n",
       "\n",
       ".xr-section-details {\n",
       "  display: none;\n",
       "  grid-column: 1 / -1;\n",
       "  margin-bottom: 5px;\n",
       "}\n",
       "\n",
       ".xr-section-summary-in:checked ~ .xr-section-details {\n",
       "  display: contents;\n",
       "}\n",
       "\n",
       ".xr-array-wrap {\n",
       "  grid-column: 1 / -1;\n",
       "  display: grid;\n",
       "  grid-template-columns: 20px auto;\n",
       "}\n",
       "\n",
       ".xr-array-wrap > label {\n",
       "  grid-column: 1;\n",
       "  vertical-align: top;\n",
       "}\n",
       "\n",
       ".xr-preview {\n",
       "  color: var(--xr-font-color3);\n",
       "}\n",
       "\n",
       ".xr-array-preview,\n",
       ".xr-array-data {\n",
       "  padding: 0 5px !important;\n",
       "  grid-column: 2;\n",
       "}\n",
       "\n",
       ".xr-array-data,\n",
       ".xr-array-in:checked ~ .xr-array-preview {\n",
       "  display: none;\n",
       "}\n",
       "\n",
       ".xr-array-in:checked ~ .xr-array-data,\n",
       ".xr-array-preview {\n",
       "  display: inline-block;\n",
       "}\n",
       "\n",
       ".xr-dim-list {\n",
       "  display: inline-block !important;\n",
       "  list-style: none;\n",
       "  padding: 0 !important;\n",
       "  margin: 0;\n",
       "}\n",
       "\n",
       ".xr-dim-list li {\n",
       "  display: inline-block;\n",
       "  padding: 0;\n",
       "  margin: 0;\n",
       "}\n",
       "\n",
       ".xr-dim-list:before {\n",
       "  content: '(';\n",
       "}\n",
       "\n",
       ".xr-dim-list:after {\n",
       "  content: ')';\n",
       "}\n",
       "\n",
       ".xr-dim-list li:not(:last-child):after {\n",
       "  content: ',';\n",
       "  padding-right: 5px;\n",
       "}\n",
       "\n",
       ".xr-has-index {\n",
       "  font-weight: bold;\n",
       "}\n",
       "\n",
       ".xr-var-list,\n",
       ".xr-var-item {\n",
       "  display: contents;\n",
       "}\n",
       "\n",
       ".xr-var-item > div,\n",
       ".xr-var-item label,\n",
       ".xr-var-item > .xr-var-name span {\n",
       "  background-color: var(--xr-background-color-row-even);\n",
       "  margin-bottom: 0;\n",
       "}\n",
       "\n",
       ".xr-var-item > .xr-var-name:hover span {\n",
       "  padding-right: 5px;\n",
       "}\n",
       "\n",
       ".xr-var-list > li:nth-child(odd) > div,\n",
       ".xr-var-list > li:nth-child(odd) > label,\n",
       ".xr-var-list > li:nth-child(odd) > .xr-var-name span {\n",
       "  background-color: var(--xr-background-color-row-odd);\n",
       "}\n",
       "\n",
       ".xr-var-name {\n",
       "  grid-column: 1;\n",
       "}\n",
       "\n",
       ".xr-var-dims {\n",
       "  grid-column: 2;\n",
       "}\n",
       "\n",
       ".xr-var-dtype {\n",
       "  grid-column: 3;\n",
       "  text-align: right;\n",
       "  color: var(--xr-font-color2);\n",
       "}\n",
       "\n",
       ".xr-var-preview {\n",
       "  grid-column: 4;\n",
       "}\n",
       "\n",
       ".xr-index-preview {\n",
       "  grid-column: 2 / 5;\n",
       "  color: var(--xr-font-color2);\n",
       "}\n",
       "\n",
       ".xr-var-name,\n",
       ".xr-var-dims,\n",
       ".xr-var-dtype,\n",
       ".xr-preview,\n",
       ".xr-attrs dt {\n",
       "  white-space: nowrap;\n",
       "  overflow: hidden;\n",
       "  text-overflow: ellipsis;\n",
       "  padding-right: 10px;\n",
       "}\n",
       "\n",
       ".xr-var-name:hover,\n",
       ".xr-var-dims:hover,\n",
       ".xr-var-dtype:hover,\n",
       ".xr-attrs dt:hover {\n",
       "  overflow: visible;\n",
       "  width: auto;\n",
       "  z-index: 1;\n",
       "}\n",
       "\n",
       ".xr-var-attrs,\n",
       ".xr-var-data,\n",
       ".xr-index-data {\n",
       "  display: none;\n",
       "  background-color: var(--xr-background-color) !important;\n",
       "  padding-bottom: 5px !important;\n",
       "}\n",
       "\n",
       ".xr-var-attrs-in:checked ~ .xr-var-attrs,\n",
       ".xr-var-data-in:checked ~ .xr-var-data,\n",
       ".xr-index-data-in:checked ~ .xr-index-data {\n",
       "  display: block;\n",
       "}\n",
       "\n",
       ".xr-var-data > table {\n",
       "  float: right;\n",
       "}\n",
       "\n",
       ".xr-var-name span,\n",
       ".xr-var-data,\n",
       ".xr-index-name div,\n",
       ".xr-index-data,\n",
       ".xr-attrs {\n",
       "  padding-left: 25px !important;\n",
       "}\n",
       "\n",
       ".xr-attrs,\n",
       ".xr-var-attrs,\n",
       ".xr-var-data,\n",
       ".xr-index-data {\n",
       "  grid-column: 1 / -1;\n",
       "}\n",
       "\n",
       "dl.xr-attrs {\n",
       "  padding: 0;\n",
       "  margin: 0;\n",
       "  display: grid;\n",
       "  grid-template-columns: 125px auto;\n",
       "}\n",
       "\n",
       ".xr-attrs dt,\n",
       ".xr-attrs dd {\n",
       "  padding: 0;\n",
       "  margin: 0;\n",
       "  float: left;\n",
       "  padding-right: 10px;\n",
       "  width: auto;\n",
       "}\n",
       "\n",
       ".xr-attrs dt {\n",
       "  font-weight: normal;\n",
       "  grid-column: 1;\n",
       "}\n",
       "\n",
       ".xr-attrs dt:hover span {\n",
       "  display: inline-block;\n",
       "  background: var(--xr-background-color);\n",
       "  padding-right: 10px;\n",
       "}\n",
       "\n",
       ".xr-attrs dd {\n",
       "  grid-column: 2;\n",
       "  white-space: pre-wrap;\n",
       "  word-break: break-all;\n",
       "}\n",
       "\n",
       ".xr-icon-database,\n",
       ".xr-icon-file-text2,\n",
       ".xr-no-icon {\n",
       "  display: inline-block;\n",
       "  vertical-align: middle;\n",
       "  width: 1em;\n",
       "  height: 1.5em !important;\n",
       "  stroke-width: 0;\n",
       "  stroke: currentColor;\n",
       "  fill: currentColor;\n",
       "}\n",
       "</style><pre class='xr-text-repr-fallback'>&lt;xarray.Dataset&gt;\n",
       "Dimensions:    (time: 30, latitude: 143, longitude: 358)\n",
       "Coordinates:\n",
       "  * time       (time) float64 1.686e+09 1.686e+09 ... 1.688e+09 1.688e+09\n",
       "  * latitude   (latitude) float64 41.01 41.02 41.03 41.05 ... 42.97 42.98 43.0\n",
       "  * longitude  (longitude) float64 -83.51 -83.49 -83.48 ... -78.53 -78.52 -78.5\n",
       "Data variables:\n",
       "    sst        (time, latitude, longitude) float32 ...\n",
       "Attributes: (12/37)\n",
       "    cdm_data_type:                             Grid\n",
       "    Conventions:                               CF-1.6, COARDS, ACDD-1.3\n",
       "    Easternmost_Easting:                       -78.5025420282563\n",
       "    GDAL:                                      GDAL 2.1.3, released 2017/20/01\n",
       "    geospatial_lat_max:                        42.9955492889388\n",
       "    geospatial_lat_min:                        41.0053458284672\n",
       "    ...                                        ...\n",
       "    summary:                                   Sea Surface Temperature (SST) ...\n",
       "    testOutOfDate:                             now-3days\n",
       "    time_coverage_end:                         2023-06-30T12:00:00Z\n",
       "    time_coverage_start:                       2023-06-01T12:00:00Z\n",
       "    title:                                     Sea Surface Temperature (SST) ...\n",
       "    Westernmost_Easting:                       -83.5060817140899</pre><div class='xr-wrap' style='display:none'><div class='xr-header'><div class='xr-obj-type'>xarray.Dataset</div></div><ul class='xr-sections'><li class='xr-section-item'><input id='section-6eb91e4c-d2df-4093-8a7e-2018f5392040' class='xr-section-summary-in' type='checkbox' disabled ><label for='section-6eb91e4c-d2df-4093-8a7e-2018f5392040' class='xr-section-summary'  title='Expand/collapse section'>Dimensions:</label><div class='xr-section-inline-details'><ul class='xr-dim-list'><li><span class='xr-has-index'>time</span>: 30</li><li><span class='xr-has-index'>latitude</span>: 143</li><li><span class='xr-has-index'>longitude</span>: 358</li></ul></div><div class='xr-section-details'></div></li><li class='xr-section-item'><input id='section-6b2a315d-2ac7-4bff-bc28-1a8da8f40b48' class='xr-section-summary-in' type='checkbox'  checked><label for='section-6b2a315d-2ac7-4bff-bc28-1a8da8f40b48' class='xr-section-summary' >Coordinates: <span>(3)</span></label><div class='xr-section-inline-details'></div><div class='xr-section-details'><ul class='xr-var-list'><li class='xr-var-item'><div class='xr-var-name'><span class='xr-has-index'>time</span></div><div class='xr-var-dims'>(time)</div><div class='xr-var-dtype'>float64</div><div class='xr-var-preview xr-preview'>1.686e+09 1.686e+09 ... 1.688e+09</div><input id='attrs-70171d7f-71c2-439f-a848-002edf1ee63c' class='xr-var-attrs-in' type='checkbox' ><label for='attrs-70171d7f-71c2-439f-a848-002edf1ee63c' title='Show/Hide attributes'><svg class='icon xr-icon-file-text2'><use xlink:href='#icon-file-text2'></use></svg></label><input id='data-28124107-22d5-479d-afad-9ffbf370bd29' class='xr-var-data-in' type='checkbox'><label for='data-28124107-22d5-479d-afad-9ffbf370bd29' title='Show/Hide data repr'><svg class='icon xr-icon-database'><use xlink:href='#icon-database'></use></svg></label><div class='xr-var-attrs'><dl class='xr-attrs'><dt><span>_CoordinateAxisType :</span></dt><dd>Time</dd><dt><span>actual_range :</span></dt><dd>[1.6856208e+09 1.6881264e+09]</dd><dt><span>axis :</span></dt><dd>T</dd><dt><span>calendar :</span></dt><dd>Gregorian</dd><dt><span>ioos_category :</span></dt><dd>Time</dd><dt><span>long_name :</span></dt><dd>Easten Time</dd><dt><span>standard_name :</span></dt><dd>time</dd><dt><span>time_origin :</span></dt><dd>01-JAN-1970 00:00:00</dd><dt><span>units :</span></dt><dd>seconds since 1970-01-01T00:00:00Z</dd></dl></div><div class='xr-var-data'><pre>array([1.685621e+09, 1.685707e+09, 1.685794e+09, 1.685880e+09, 1.685966e+09,\n",
       "       1.686053e+09, 1.686139e+09, 1.686226e+09, 1.686312e+09, 1.686398e+09,\n",
       "       1.686485e+09, 1.686571e+09, 1.686658e+09, 1.686744e+09, 1.686830e+09,\n",
       "       1.686917e+09, 1.687003e+09, 1.687090e+09, 1.687176e+09, 1.687262e+09,\n",
       "       1.687349e+09, 1.687435e+09, 1.687522e+09, 1.687608e+09, 1.687694e+09,\n",
       "       1.687781e+09, 1.687867e+09, 1.687954e+09, 1.688040e+09, 1.688126e+09])</pre></div></li><li class='xr-var-item'><div class='xr-var-name'><span class='xr-has-index'>latitude</span></div><div class='xr-var-dims'>(latitude)</div><div class='xr-var-dtype'>float64</div><div class='xr-var-preview xr-preview'>41.01 41.02 41.03 ... 42.98 43.0</div><input id='attrs-f43d54dd-f72c-4d99-ab51-afff87c86190' class='xr-var-attrs-in' type='checkbox' ><label for='attrs-f43d54dd-f72c-4d99-ab51-afff87c86190' title='Show/Hide attributes'><svg class='icon xr-icon-file-text2'><use xlink:href='#icon-file-text2'></use></svg></label><input id='data-78d672b8-ea40-48a1-a7c1-252d585cb330' class='xr-var-data-in' type='checkbox'><label for='data-78d672b8-ea40-48a1-a7c1-252d585cb330' title='Show/Hide data repr'><svg class='icon xr-icon-database'><use xlink:href='#icon-database'></use></svg></label><div class='xr-var-attrs'><dl class='xr-attrs'><dt><span>_CoordinateAxisType :</span></dt><dd>Lat</dd><dt><span>actual_range :</span></dt><dd>[41.00534583 42.99554929]</dd><dt><span>axis :</span></dt><dd>Y</dd><dt><span>ioos_category :</span></dt><dd>Location</dd><dt><span>long_name :</span></dt><dd>Latitude</dd><dt><span>standard_name :</span></dt><dd>latitude</dd><dt><span>units :</span></dt><dd>degrees_north</dd></dl></div><div class='xr-var-data'><pre>array([41.005346, 41.019361, 41.033377, 41.047392, 41.061408, 41.075423,\n",
       "       41.089439, 41.103454, 41.11747 , 41.131485, 41.145501, 41.159517,\n",
       "       41.173532, 41.187548, 41.201563, 41.215579, 41.229594, 41.24361 ,\n",
       "       41.257625, 41.271641, 41.285656, 41.299672, 41.313687, 41.327703,\n",
       "       41.341718, 41.355734, 41.369749, 41.383765, 41.39778 , 41.411796,\n",
       "       41.425811, 41.439827, 41.453842, 41.467858, 41.481873, 41.495889,\n",
       "       41.509904, 41.52392 , 41.537935, 41.551951, 41.565967, 41.579982,\n",
       "       41.593998, 41.608013, 41.622029, 41.636044, 41.65006 , 41.664075,\n",
       "       41.678091, 41.692106, 41.706122, 41.720137, 41.734153, 41.748168,\n",
       "       41.762184, 41.776199, 41.790215, 41.80423 , 41.818246, 41.832261,\n",
       "       41.846277, 41.860292, 41.874308, 41.888323, 41.902339, 41.916354,\n",
       "       41.93037 , 41.944385, 41.958401, 41.972417, 41.986432, 42.000448,\n",
       "       42.014463, 42.028479, 42.042494, 42.05651 , 42.070525, 42.084541,\n",
       "       42.098556, 42.112572, 42.126587, 42.140603, 42.154618, 42.168634,\n",
       "       42.182649, 42.196665, 42.21068 , 42.224696, 42.238711, 42.252727,\n",
       "       42.266742, 42.280758, 42.294773, 42.308789, 42.322804, 42.33682 ,\n",
       "       42.350835, 42.364851, 42.378867, 42.392882, 42.406898, 42.420913,\n",
       "       42.434929, 42.448944, 42.46296 , 42.476975, 42.490991, 42.505006,\n",
       "       42.519022, 42.533037, 42.547053, 42.561068, 42.575084, 42.589099,\n",
       "       42.603115, 42.61713 , 42.631146, 42.645161, 42.659177, 42.673192,\n",
       "       42.687208, 42.701223, 42.715239, 42.729254, 42.74327 , 42.757285,\n",
       "       42.771301, 42.785317, 42.799332, 42.813348, 42.827363, 42.841379,\n",
       "       42.855394, 42.86941 , 42.883425, 42.897441, 42.911456, 42.925472,\n",
       "       42.939487, 42.953503, 42.967518, 42.981534, 42.995549])</pre></div></li><li class='xr-var-item'><div class='xr-var-name'><span class='xr-has-index'>longitude</span></div><div class='xr-var-dims'>(longitude)</div><div class='xr-var-dtype'>float64</div><div class='xr-var-preview xr-preview'>-83.51 -83.49 ... -78.52 -78.5</div><input id='attrs-4909fa6b-14c8-4014-b16a-69518006329b' class='xr-var-attrs-in' type='checkbox' ><label for='attrs-4909fa6b-14c8-4014-b16a-69518006329b' title='Show/Hide attributes'><svg class='icon xr-icon-file-text2'><use xlink:href='#icon-file-text2'></use></svg></label><input id='data-943542e3-ff47-4f06-ac85-4ee286062ef8' class='xr-var-data-in' type='checkbox'><label for='data-943542e3-ff47-4f06-ac85-4ee286062ef8' title='Show/Hide data repr'><svg class='icon xr-icon-database'><use xlink:href='#icon-database'></use></svg></label><div class='xr-var-attrs'><dl class='xr-attrs'><dt><span>_CoordinateAxisType :</span></dt><dd>Lon</dd><dt><span>actual_range :</span></dt><dd>[-83.50608171 -78.50254203]</dd><dt><span>axis :</span></dt><dd>X</dd><dt><span>ioos_category :</span></dt><dd>Location</dd><dt><span>long_name :</span></dt><dd>Longitude</dd><dt><span>standard_name :</span></dt><dd>longitude</dd><dt><span>units :</span></dt><dd>degrees_east</dd></dl></div><div class='xr-var-data'><pre>array([-83.506082, -83.492066, -83.478051, ..., -78.530573, -78.516558,\n",
       "       -78.502542])</pre></div></li></ul></div></li><li class='xr-section-item'><input id='section-a728c99d-3d72-41df-b3ba-1f8b55dd21c7' class='xr-section-summary-in' type='checkbox'  checked><label for='section-a728c99d-3d72-41df-b3ba-1f8b55dd21c7' class='xr-section-summary' >Data variables: <span>(1)</span></label><div class='xr-section-inline-details'></div><div class='xr-section-details'><ul class='xr-var-list'><li class='xr-var-item'><div class='xr-var-name'><span>sst</span></div><div class='xr-var-dims'>(time, latitude, longitude)</div><div class='xr-var-dtype'>float32</div><div class='xr-var-preview xr-preview'>...</div><input id='attrs-96ea5ef8-8805-4d86-a4b3-de6a61c44935' class='xr-var-attrs-in' type='checkbox' ><label for='attrs-96ea5ef8-8805-4d86-a4b3-de6a61c44935' title='Show/Hide attributes'><svg class='icon xr-icon-file-text2'><use xlink:href='#icon-file-text2'></use></svg></label><input id='data-019dbb63-b112-4a2c-ae0a-34d15621fbb7' class='xr-var-data-in' type='checkbox'><label for='data-019dbb63-b112-4a2c-ae0a-34d15621fbb7' title='Show/Hide data repr'><svg class='icon xr-icon-database'><use xlink:href='#icon-database'></use></svg></label><div class='xr-var-attrs'><dl class='xr-attrs'><dt><span>_FillValue :</span></dt><dd>-99999.0</dd><dt><span>colorBarMaximum :</span></dt><dd>32.0</dd><dt><span>colorBarMinimum :</span></dt><dd>0.0</dd><dt><span>ioos_category :</span></dt><dd>Temperature</dd><dt><span>long_name :</span></dt><dd>Temperature</dd><dt><span>standard_name :</span></dt><dd>sea_water_temperature</dd><dt><span>units :</span></dt><dd>degree_C</dd></dl></div><div class='xr-var-data'><pre>[1535820 values with dtype=float32]</pre></div></li></ul></div></li><li class='xr-section-item'><input id='section-a79d6a02-657f-4290-956c-ef568df5a941' class='xr-section-summary-in' type='checkbox'  ><label for='section-a79d6a02-657f-4290-956c-ef568df5a941' class='xr-section-summary' >Indexes: <span>(3)</span></label><div class='xr-section-inline-details'></div><div class='xr-section-details'><ul class='xr-var-list'><li class='xr-var-item'><div class='xr-index-name'><div>time</div></div><div class='xr-index-preview'>PandasIndex</div><div></div><input id='index-4a622268-15a1-432c-9c67-412083198843' class='xr-index-data-in' type='checkbox'/><label for='index-4a622268-15a1-432c-9c67-412083198843' title='Show/Hide index repr'><svg class='icon xr-icon-database'><use xlink:href='#icon-database'></use></svg></label><div class='xr-index-data'><pre>PandasIndex(Float64Index([1685620800.0, 1685707200.0, 1685793600.0, 1685880000.0,\n",
       "              1685966400.0, 1686052800.0, 1686139200.0, 1686225600.0,\n",
       "              1686312000.0, 1686398400.0, 1686484800.0, 1686571200.0,\n",
       "              1686657600.0, 1686744000.0, 1686830400.0, 1686916800.0,\n",
       "              1687003200.0, 1687089600.0, 1687176000.0, 1687262400.0,\n",
       "              1687348800.0, 1687435200.0, 1687521600.0, 1687608000.0,\n",
       "              1687694400.0, 1687780800.0, 1687867200.0, 1687953600.0,\n",
       "              1688040000.0, 1688126400.0],\n",
       "             dtype=&#x27;float64&#x27;, name=&#x27;time&#x27;))</pre></div></li><li class='xr-var-item'><div class='xr-index-name'><div>latitude</div></div><div class='xr-index-preview'>PandasIndex</div><div></div><input id='index-751b15df-448e-4098-b90d-a07a1b0d938d' class='xr-index-data-in' type='checkbox'/><label for='index-751b15df-448e-4098-b90d-a07a1b0d938d' title='Show/Hide index repr'><svg class='icon xr-icon-database'><use xlink:href='#icon-database'></use></svg></label><div class='xr-index-data'><pre>PandasIndex(Float64Index([41.0053458284672, 41.0193613457945, 41.0333768631217,\n",
       "               41.047392380449, 41.0614078977762, 41.0754234151035,\n",
       "              41.0894389324308,  41.103454449758, 41.1174699670853,\n",
       "              41.1314854844126,\n",
       "              ...\n",
       "              42.8694096329934, 42.8834251503207,  42.897440667648,\n",
       "              42.9114561849752, 42.9254717023025, 42.9394872196298,\n",
       "               42.953502736957, 42.9675182542843, 42.9815337716115,\n",
       "              42.9955492889388],\n",
       "             dtype=&#x27;float64&#x27;, name=&#x27;latitude&#x27;, length=143))</pre></div></li><li class='xr-var-item'><div class='xr-index-name'><div>longitude</div></div><div class='xr-index-preview'>PandasIndex</div><div></div><input id='index-bb17c1e0-452b-40da-911d-56b82b060c3b' class='xr-index-data-in' type='checkbox'/><label for='index-bb17c1e0-452b-40da-911d-56b82b060c3b' title='Show/Hide index repr'><svg class='icon xr-icon-database'><use xlink:href='#icon-database'></use></svg></label><div class='xr-index-data'><pre>PandasIndex(Float64Index([-83.5060817140899, -83.4920661967626, -83.4780506794354,\n",
       "              -83.4640351621081, -83.4500196447808, -83.4360041274536,\n",
       "              -83.4219886101263,  -83.407973092799, -83.3939575754718,\n",
       "              -83.3799420581445,\n",
       "              ...\n",
       "              -78.6286816842017, -78.6146661668744, -78.6006506495471,\n",
       "              -78.5866351322199, -78.5726196148926, -78.5586040975653,\n",
       "              -78.5445885802381, -78.5305730629108, -78.5165575455836,\n",
       "              -78.5025420282563],\n",
       "             dtype=&#x27;float64&#x27;, name=&#x27;longitude&#x27;, length=358))</pre></div></li></ul></div></li><li class='xr-section-item'><input id='section-5ad4ceb1-6495-45f7-bc6f-2f80814629e8' class='xr-section-summary-in' type='checkbox'  ><label for='section-5ad4ceb1-6495-45f7-bc6f-2f80814629e8' class='xr-section-summary' >Attributes: <span>(37)</span></label><div class='xr-section-inline-details'></div><div class='xr-section-details'><dl class='xr-attrs'><dt><span>cdm_data_type :</span></dt><dd>Grid</dd><dt><span>Conventions :</span></dt><dd>CF-1.6, COARDS, ACDD-1.3</dd><dt><span>Easternmost_Easting :</span></dt><dd>-78.5025420282563</dd><dt><span>GDAL :</span></dt><dd>GDAL 2.1.3, released 2017/20/01</dd><dt><span>geospatial_lat_max :</span></dt><dd>42.9955492889388</dd><dt><span>geospatial_lat_min :</span></dt><dd>41.0053458284672</dd><dt><span>geospatial_lat_resolution :</span></dt><dd>0.014015517327264998</dd><dt><span>geospatial_lat_units :</span></dt><dd>degrees_north</dd><dt><span>geospatial_lon_max :</span></dt><dd>-78.5025420282563</dd><dt><span>geospatial_lon_min :</span></dt><dd>-83.5060817140899</dd><dt><span>geospatial_lon_resolution :</span></dt><dd>0.014015517327265001</dd><dt><span>geospatial_lon_units :</span></dt><dd>degrees_east</dd><dt><span>grid_mapping_GeoTransform :</span></dt><dd>-92.42695849289404 0.01401551732726498 0 50.61298295630733 0 -0.01401551732726498</dd><dt><span>grid_mapping_inverse_flattening :</span></dt><dd>298.257223563</dd><dt><span>grid_mapping_long_name :</span></dt><dd>CRS definition</dd><dt><span>grid_mapping_longitude_of_prime_meridian :</span></dt><dd>0.0</dd><dt><span>grid_mapping_name :</span></dt><dd>latitude_longitude</dd><dt><span>grid_mapping_semi_major_axis :</span></dt><dd>6378137.0</dd><dt><span>grid_mapping_spatial_ref :</span></dt><dd>GEOGCS[&quot;WGS 84&quot;,DATUM[&quot;WGS_1984&quot;,SPHEROID[&quot;WGS 84&quot;,6378137,298.257223563,AUTHORITY[&quot;EPSG&quot;,&quot;7030&quot;]],AUTHORITY[&quot;EPSG&quot;,&quot;6326&quot;]],PRIMEM[&quot;Greenwich&quot;,0,AUTHORITY[&quot;EPSG&quot;,&quot;8901&quot;]],UNIT[&quot;degree&quot;,0.0174532925199433,AUTHORITY[&quot;EPSG&quot;,&quot;9122&quot;]],AUTHORITY[&quot;EPSG&quot;,&quot;4326&quot;]]</dd><dt><span>history :</span></dt><dd>Tue Aug  8 02:56:50 2023: ncrename -v Band1,sst /home/cw/opr/glsea3_b/mk_nc/output/2023_209_glsea_sst.nc\n",
       "Tue Aug 08 02:56:49 2023: GDAL Create( /home/cw/opr/glsea3_b/mk_nc/output/2023_209_glsea_sst.nc, ... )\n",
       "2023-08-08T22:58:51Z (local files)\n",
       "2023-08-08T22:58:51Z http://coastwatch.glerl.noaa.gov/erddap/griddap/GLSEA_ACSPO_GCS.nc?sst%5B(2023-06-01T12:00:00Z):1:(2023-06-30T12:00:00Z)%5D%5B(41):1:(43)%5D%5B(-83.5):1:(-78.5)%5D</dd><dt><span>infoUrl :</span></dt><dd>https://coastwatch.glerl.noaa.gov/glsea/glsea.html</dd><dt><span>institution :</span></dt><dd>CoastWatch Great Lakes Node</dd><dt><span>keywords :</span></dt><dd>ACSPO, analysis, data, earth, Earth Science &gt; Oceans &gt; Ocean Temperature &gt; Water Temperature, environmental, glsea, great, great lakes, lakes, ocean, oceans, science, sea, sea_water_temperature, seawater, sst, surface, temperature, time, water</dd><dt><span>keywords_vocabulary :</span></dt><dd>GCMD Science Keywords</dd><dt><span>license :</span></dt><dd>The data may be used and redistributed for free but is not intended\n",
       "for legal use, since it may contain inaccuracies. Neither the data\n",
       "Contributor, ERD, NOAA, nor the United States Government, nor any\n",
       "of their employees or contractors, makes any warranty, express or\n",
       "implied, including warranties of merchantability and fitness for a\n",
       "particular purpose, or assumes any legal liability for the accuracy,\n",
       "completeness, or usefulness, of this information.</dd><dt><span>NCO :</span></dt><dd>netCDF Operators version 4.7.5 (Homepage = http://nco.sf.net, Code = https://github.com/nco/nco)</dd><dt><span>Northernmost_Northing :</span></dt><dd>42.9955492889388</dd><dt><span>source :</span></dt><dd>2023_209_glsea.asc</dd><dt><span>sourceUrl :</span></dt><dd>(local files)</dd><dt><span>Southernmost_Northing :</span></dt><dd>41.0053458284672</dd><dt><span>standard_name_vocabulary :</span></dt><dd>CF Standard Name Table v70</dd><dt><span>summary :</span></dt><dd>Sea Surface Temperature (SST) from Great Lakes Surface Environmental Analysis (GLSEA - ACSPO)</dd><dt><span>testOutOfDate :</span></dt><dd>now-3days</dd><dt><span>time_coverage_end :</span></dt><dd>2023-06-30T12:00:00Z</dd><dt><span>time_coverage_start :</span></dt><dd>2023-06-01T12:00:00Z</dd><dt><span>title :</span></dt><dd>Sea Surface Temperature (SST) from Great Lakes Surface Environmental Analysis (ACSPO GLSEA), The ACSPO GLSEA is the developed product that uses the Advanced Clear-sky Processor for Oceans (ACSPO) L3S-LEO SST as the input data source. The L3S-LEO SST is the level 3 Super Collated data from Low Earth Orbit satellites sensor including NPP, N20, and MetOp A/B/C. Geodetic coordinate system (LAT, LON), 2006-present</dd><dt><span>Westernmost_Easting :</span></dt><dd>-83.5060817140899</dd></dl></div></li></ul></div></div>"
      ],
      "text/plain": [
       "<xarray.Dataset>\n",
       "Dimensions:    (time: 30, latitude: 143, longitude: 358)\n",
       "Coordinates:\n",
       "  * time       (time) float64 1.686e+09 1.686e+09 ... 1.688e+09 1.688e+09\n",
       "  * latitude   (latitude) float64 41.01 41.02 41.03 41.05 ... 42.97 42.98 43.0\n",
       "  * longitude  (longitude) float64 -83.51 -83.49 -83.48 ... -78.53 -78.52 -78.5\n",
       "Data variables:\n",
       "    sst        (time, latitude, longitude) float32 ...\n",
       "Attributes: (12/37)\n",
       "    cdm_data_type:                             Grid\n",
       "    Conventions:                               CF-1.6, COARDS, ACDD-1.3\n",
       "    Easternmost_Easting:                       -78.5025420282563\n",
       "    GDAL:                                      GDAL 2.1.3, released 2017/20/01\n",
       "    geospatial_lat_max:                        42.9955492889388\n",
       "    geospatial_lat_min:                        41.0053458284672\n",
       "    ...                                        ...\n",
       "    summary:                                   Sea Surface Temperature (SST) ...\n",
       "    testOutOfDate:                             now-3days\n",
       "    time_coverage_end:                         2023-06-30T12:00:00Z\n",
       "    time_coverage_start:                       2023-06-01T12:00:00Z\n",
       "    title:                                     Sea Surface Temperature (SST) ...\n",
       "    Westernmost_Easting:                       -83.5060817140899"
      ]
     },
     "execution_count": 15,
     "metadata": {},
     "output_type": "execute_result"
    }
   ],
   "source": [
    "ds"
   ]
  },
  {
   "cell_type": "code",
   "execution_count": 16,
   "metadata": {},
   "outputs": [
    {
     "name": "stdout",
     "output_type": "stream",
     "text": [
      "<xarray.Dataset>\n",
      "Dimensions:    (time: 30, latitude: 143, longitude: 358)\n",
      "Coordinates:\n",
      "  * time       (time) float64 1.686e+09 1.686e+09 ... 1.688e+09 1.688e+09\n",
      "  * latitude   (latitude) float64 41.01 41.02 41.03 41.05 ... 42.97 42.98 43.0\n",
      "  * longitude  (longitude) float64 -83.51 -83.49 -83.48 ... -78.53 -78.52 -78.5\n",
      "Data variables:\n",
      "    sst        (time, latitude, longitude) float32 ...\n",
      "Attributes: (12/37)\n",
      "    cdm_data_type:                             Grid\n",
      "    Conventions:                               CF-1.6, COARDS, ACDD-1.3\n",
      "    Easternmost_Easting:                       -78.5025420282563\n",
      "    GDAL:                                      GDAL 2.1.3, released 2017/20/01\n",
      "    geospatial_lat_max:                        42.9955492889388\n",
      "    geospatial_lat_min:                        41.0053458284672\n",
      "    ...                                        ...\n",
      "    summary:                                   Sea Surface Temperature (SST) ...\n",
      "    testOutOfDate:                             now-3days\n",
      "    time_coverage_end:                         2023-06-30T12:00:00Z\n",
      "    time_coverage_start:                       2023-06-01T12:00:00Z\n",
      "    title:                                     Sea Surface Temperature (SST) ...\n",
      "    Westernmost_Easting:                       -83.5060817140899\n"
     ]
    }
   ],
   "source": [
    "print(ds)"
   ]
  },
  {
   "cell_type": "markdown",
   "metadata": {},
   "source": [
    "#### - Examine which coordinates and variables are included in the dataset:"
   ]
  },
  {
   "cell_type": "code",
   "execution_count": 17,
   "metadata": {},
   "outputs": [],
   "source": [
    "#ds.dims"
   ]
  },
  {
   "cell_type": "code",
   "execution_count": 18,
   "metadata": {},
   "outputs": [
    {
     "data": {
      "text/plain": [
       "Coordinates:\n",
       "  * time       (time) float64 1.686e+09 1.686e+09 ... 1.688e+09 1.688e+09\n",
       "  * latitude   (latitude) float64 41.01 41.02 41.03 41.05 ... 42.97 42.98 43.0\n",
       "  * longitude  (longitude) float64 -83.51 -83.49 -83.48 ... -78.53 -78.52 -78.5"
      ]
     },
     "execution_count": 18,
     "metadata": {},
     "output_type": "execute_result"
    }
   ],
   "source": [
    "ds.coords"
   ]
  },
  {
   "cell_type": "code",
   "execution_count": 19,
   "metadata": {},
   "outputs": [
    {
     "data": {
      "text/plain": [
       "Data variables:\n",
       "    sst      (time, latitude, longitude) float32 ..."
      ]
     },
     "execution_count": 19,
     "metadata": {},
     "output_type": "execute_result"
    }
   ],
   "source": [
    "ds.data_vars"
   ]
  },
  {
   "cell_type": "code",
   "execution_count": 20,
   "metadata": {},
   "outputs": [
    {
     "data": {
      "text/plain": [
       "{'cdm_data_type': 'Grid',\n",
       " 'Conventions': 'CF-1.6, COARDS, ACDD-1.3',\n",
       " 'Easternmost_Easting': -78.5025420282563,\n",
       " 'GDAL': 'GDAL 2.1.3, released 2017/20/01',\n",
       " 'geospatial_lat_max': 42.9955492889388,\n",
       " 'geospatial_lat_min': 41.0053458284672,\n",
       " 'geospatial_lat_resolution': 0.014015517327264998,\n",
       " 'geospatial_lat_units': 'degrees_north',\n",
       " 'geospatial_lon_max': -78.5025420282563,\n",
       " 'geospatial_lon_min': -83.5060817140899,\n",
       " 'geospatial_lon_resolution': 0.014015517327265001,\n",
       " 'geospatial_lon_units': 'degrees_east',\n",
       " 'grid_mapping_GeoTransform': '-92.42695849289404 0.01401551732726498 0 50.61298295630733 0 -0.01401551732726498',\n",
       " 'grid_mapping_inverse_flattening': 298.257223563,\n",
       " 'grid_mapping_long_name': 'CRS definition',\n",
       " 'grid_mapping_longitude_of_prime_meridian': 0.0,\n",
       " 'grid_mapping_name': 'latitude_longitude',\n",
       " 'grid_mapping_semi_major_axis': 6378137.0,\n",
       " 'grid_mapping_spatial_ref': 'GEOGCS[\"WGS 84\",DATUM[\"WGS_1984\",SPHEROID[\"WGS 84\",6378137,298.257223563,AUTHORITY[\"EPSG\",\"7030\"]],AUTHORITY[\"EPSG\",\"6326\"]],PRIMEM[\"Greenwich\",0,AUTHORITY[\"EPSG\",\"8901\"]],UNIT[\"degree\",0.0174532925199433,AUTHORITY[\"EPSG\",\"9122\"]],AUTHORITY[\"EPSG\",\"4326\"]]',\n",
       " 'history': 'Tue Aug  8 02:56:50 2023: ncrename -v Band1,sst /home/cw/opr/glsea3_b/mk_nc/output/2023_209_glsea_sst.nc\\nTue Aug 08 02:56:49 2023: GDAL Create( /home/cw/opr/glsea3_b/mk_nc/output/2023_209_glsea_sst.nc, ... )\\n2023-08-08T22:58:51Z (local files)\\n2023-08-08T22:58:51Z http://coastwatch.glerl.noaa.gov/erddap/griddap/GLSEA_ACSPO_GCS.nc?sst%5B(2023-06-01T12:00:00Z):1:(2023-06-30T12:00:00Z)%5D%5B(41):1:(43)%5D%5B(-83.5):1:(-78.5)%5D',\n",
       " 'infoUrl': 'https://coastwatch.glerl.noaa.gov/glsea/glsea.html',\n",
       " 'institution': 'CoastWatch Great Lakes Node',\n",
       " 'keywords': 'ACSPO, analysis, data, earth, Earth Science > Oceans > Ocean Temperature > Water Temperature, environmental, glsea, great, great lakes, lakes, ocean, oceans, science, sea, sea_water_temperature, seawater, sst, surface, temperature, time, water',\n",
       " 'keywords_vocabulary': 'GCMD Science Keywords',\n",
       " 'license': 'The data may be used and redistributed for free but is not intended\\nfor legal use, since it may contain inaccuracies. Neither the data\\nContributor, ERD, NOAA, nor the United States Government, nor any\\nof their employees or contractors, makes any warranty, express or\\nimplied, including warranties of merchantability and fitness for a\\nparticular purpose, or assumes any legal liability for the accuracy,\\ncompleteness, or usefulness, of this information.',\n",
       " 'NCO': 'netCDF Operators version 4.7.5 (Homepage = http://nco.sf.net, Code = https://github.com/nco/nco)',\n",
       " 'Northernmost_Northing': 42.9955492889388,\n",
       " 'source': '2023_209_glsea.asc',\n",
       " 'sourceUrl': '(local files)',\n",
       " 'Southernmost_Northing': 41.0053458284672,\n",
       " 'standard_name_vocabulary': 'CF Standard Name Table v70',\n",
       " 'summary': 'Sea Surface Temperature (SST) from Great Lakes Surface Environmental Analysis (GLSEA - ACSPO)',\n",
       " 'testOutOfDate': 'now-3days',\n",
       " 'time_coverage_end': '2023-06-30T12:00:00Z',\n",
       " 'time_coverage_start': '2023-06-01T12:00:00Z',\n",
       " 'title': 'Sea Surface Temperature (SST) from Great Lakes Surface Environmental Analysis (ACSPO GLSEA), The ACSPO GLSEA is the developed product that uses the Advanced Clear-sky Processor for Oceans (ACSPO) L3S-LEO SST as the input data source. The L3S-LEO SST is the level 3 Super Collated data from Low Earth Orbit satellites sensor including NPP, N20, and MetOp A/B/C. Geodetic coordinate system (LAT, LON), 2006-present',\n",
       " 'Westernmost_Easting': -83.5060817140899}"
      ]
     },
     "execution_count": 20,
     "metadata": {},
     "output_type": "execute_result"
    }
   ],
   "source": [
    "ds.attrs"
   ]
  },
  {
   "cell_type": "markdown",
   "metadata": {},
   "source": [
    "#### - Examine the structure of sst:"
   ]
  },
  {
   "cell_type": "code",
   "execution_count": 21,
   "metadata": {},
   "outputs": [
    {
     "data": {
      "text/plain": [
       "(30, 143, 358)"
      ]
     },
     "execution_count": 21,
     "metadata": {},
     "output_type": "execute_result"
    }
   ],
   "source": [
    "ds.sst.shape"
   ]
  },
  {
   "cell_type": "markdown",
   "metadata": {},
   "source": [
    "Our dataset is a 3-D array with 143 rows corresponding to latitudes and 358 columns corresponding to longitudes,  for each of the 30 time steps.\n",
    "\n",
    "#### - Get the dates for each time step:"
   ]
  },
  {
   "cell_type": "code",
   "execution_count": 22,
   "metadata": {},
   "outputs": [
    {
     "data": {
      "text/html": [
       "<div><svg style=\"position: absolute; width: 0; height: 0; overflow: hidden\">\n",
       "<defs>\n",
       "<symbol id=\"icon-database\" viewBox=\"0 0 32 32\">\n",
       "<path d=\"M16 0c-8.837 0-16 2.239-16 5v4c0 2.761 7.163 5 16 5s16-2.239 16-5v-4c0-2.761-7.163-5-16-5z\"></path>\n",
       "<path d=\"M16 17c-8.837 0-16-2.239-16-5v6c0 2.761 7.163 5 16 5s16-2.239 16-5v-6c0 2.761-7.163 5-16 5z\"></path>\n",
       "<path d=\"M16 26c-8.837 0-16-2.239-16-5v6c0 2.761 7.163 5 16 5s16-2.239 16-5v-6c0 2.761-7.163 5-16 5z\"></path>\n",
       "</symbol>\n",
       "<symbol id=\"icon-file-text2\" viewBox=\"0 0 32 32\">\n",
       "<path d=\"M28.681 7.159c-0.694-0.947-1.662-2.053-2.724-3.116s-2.169-2.030-3.116-2.724c-1.612-1.182-2.393-1.319-2.841-1.319h-15.5c-1.378 0-2.5 1.121-2.5 2.5v27c0 1.378 1.122 2.5 2.5 2.5h23c1.378 0 2.5-1.122 2.5-2.5v-19.5c0-0.448-0.137-1.23-1.319-2.841zM24.543 5.457c0.959 0.959 1.712 1.825 2.268 2.543h-4.811v-4.811c0.718 0.556 1.584 1.309 2.543 2.268zM28 29.5c0 0.271-0.229 0.5-0.5 0.5h-23c-0.271 0-0.5-0.229-0.5-0.5v-27c0-0.271 0.229-0.5 0.5-0.5 0 0 15.499-0 15.5 0v7c0 0.552 0.448 1 1 1h7v19.5z\"></path>\n",
       "<path d=\"M23 26h-14c-0.552 0-1-0.448-1-1s0.448-1 1-1h14c0.552 0 1 0.448 1 1s-0.448 1-1 1z\"></path>\n",
       "<path d=\"M23 22h-14c-0.552 0-1-0.448-1-1s0.448-1 1-1h14c0.552 0 1 0.448 1 1s-0.448 1-1 1z\"></path>\n",
       "<path d=\"M23 18h-14c-0.552 0-1-0.448-1-1s0.448-1 1-1h14c0.552 0 1 0.448 1 1s-0.448 1-1 1z\"></path>\n",
       "</symbol>\n",
       "</defs>\n",
       "</svg>\n",
       "<style>/* CSS stylesheet for displaying xarray objects in jupyterlab.\n",
       " *\n",
       " */\n",
       "\n",
       ":root {\n",
       "  --xr-font-color0: var(--jp-content-font-color0, rgba(0, 0, 0, 1));\n",
       "  --xr-font-color2: var(--jp-content-font-color2, rgba(0, 0, 0, 0.54));\n",
       "  --xr-font-color3: var(--jp-content-font-color3, rgba(0, 0, 0, 0.38));\n",
       "  --xr-border-color: var(--jp-border-color2, #e0e0e0);\n",
       "  --xr-disabled-color: var(--jp-layout-color3, #bdbdbd);\n",
       "  --xr-background-color: var(--jp-layout-color0, white);\n",
       "  --xr-background-color-row-even: var(--jp-layout-color1, white);\n",
       "  --xr-background-color-row-odd: var(--jp-layout-color2, #eeeeee);\n",
       "}\n",
       "\n",
       "html[theme=dark],\n",
       "body[data-theme=dark],\n",
       "body.vscode-dark {\n",
       "  --xr-font-color0: rgba(255, 255, 255, 1);\n",
       "  --xr-font-color2: rgba(255, 255, 255, 0.54);\n",
       "  --xr-font-color3: rgba(255, 255, 255, 0.38);\n",
       "  --xr-border-color: #1F1F1F;\n",
       "  --xr-disabled-color: #515151;\n",
       "  --xr-background-color: #111111;\n",
       "  --xr-background-color-row-even: #111111;\n",
       "  --xr-background-color-row-odd: #313131;\n",
       "}\n",
       "\n",
       ".xr-wrap {\n",
       "  display: block !important;\n",
       "  min-width: 300px;\n",
       "  max-width: 700px;\n",
       "}\n",
       "\n",
       ".xr-text-repr-fallback {\n",
       "  /* fallback to plain text repr when CSS is not injected (untrusted notebook) */\n",
       "  display: none;\n",
       "}\n",
       "\n",
       ".xr-header {\n",
       "  padding-top: 6px;\n",
       "  padding-bottom: 6px;\n",
       "  margin-bottom: 4px;\n",
       "  border-bottom: solid 1px var(--xr-border-color);\n",
       "}\n",
       "\n",
       ".xr-header > div,\n",
       ".xr-header > ul {\n",
       "  display: inline;\n",
       "  margin-top: 0;\n",
       "  margin-bottom: 0;\n",
       "}\n",
       "\n",
       ".xr-obj-type,\n",
       ".xr-array-name {\n",
       "  margin-left: 2px;\n",
       "  margin-right: 10px;\n",
       "}\n",
       "\n",
       ".xr-obj-type {\n",
       "  color: var(--xr-font-color2);\n",
       "}\n",
       "\n",
       ".xr-sections {\n",
       "  padding-left: 0 !important;\n",
       "  display: grid;\n",
       "  grid-template-columns: 150px auto auto 1fr 20px 20px;\n",
       "}\n",
       "\n",
       ".xr-section-item {\n",
       "  display: contents;\n",
       "}\n",
       "\n",
       ".xr-section-item input {\n",
       "  display: none;\n",
       "}\n",
       "\n",
       ".xr-section-item input + label {\n",
       "  color: var(--xr-disabled-color);\n",
       "}\n",
       "\n",
       ".xr-section-item input:enabled + label {\n",
       "  cursor: pointer;\n",
       "  color: var(--xr-font-color2);\n",
       "}\n",
       "\n",
       ".xr-section-item input:enabled + label:hover {\n",
       "  color: var(--xr-font-color0);\n",
       "}\n",
       "\n",
       ".xr-section-summary {\n",
       "  grid-column: 1;\n",
       "  color: var(--xr-font-color2);\n",
       "  font-weight: 500;\n",
       "}\n",
       "\n",
       ".xr-section-summary > span {\n",
       "  display: inline-block;\n",
       "  padding-left: 0.5em;\n",
       "}\n",
       "\n",
       ".xr-section-summary-in:disabled + label {\n",
       "  color: var(--xr-font-color2);\n",
       "}\n",
       "\n",
       ".xr-section-summary-in + label:before {\n",
       "  display: inline-block;\n",
       "  content: '►';\n",
       "  font-size: 11px;\n",
       "  width: 15px;\n",
       "  text-align: center;\n",
       "}\n",
       "\n",
       ".xr-section-summary-in:disabled + label:before {\n",
       "  color: var(--xr-disabled-color);\n",
       "}\n",
       "\n",
       ".xr-section-summary-in:checked + label:before {\n",
       "  content: '▼';\n",
       "}\n",
       "\n",
       ".xr-section-summary-in:checked + label > span {\n",
       "  display: none;\n",
       "}\n",
       "\n",
       ".xr-section-summary,\n",
       ".xr-section-inline-details {\n",
       "  padding-top: 4px;\n",
       "  padding-bottom: 4px;\n",
       "}\n",
       "\n",
       ".xr-section-inline-details {\n",
       "  grid-column: 2 / -1;\n",
       "}\n",
       "\n",
       ".xr-section-details {\n",
       "  display: none;\n",
       "  grid-column: 1 / -1;\n",
       "  margin-bottom: 5px;\n",
       "}\n",
       "\n",
       ".xr-section-summary-in:checked ~ .xr-section-details {\n",
       "  display: contents;\n",
       "}\n",
       "\n",
       ".xr-array-wrap {\n",
       "  grid-column: 1 / -1;\n",
       "  display: grid;\n",
       "  grid-template-columns: 20px auto;\n",
       "}\n",
       "\n",
       ".xr-array-wrap > label {\n",
       "  grid-column: 1;\n",
       "  vertical-align: top;\n",
       "}\n",
       "\n",
       ".xr-preview {\n",
       "  color: var(--xr-font-color3);\n",
       "}\n",
       "\n",
       ".xr-array-preview,\n",
       ".xr-array-data {\n",
       "  padding: 0 5px !important;\n",
       "  grid-column: 2;\n",
       "}\n",
       "\n",
       ".xr-array-data,\n",
       ".xr-array-in:checked ~ .xr-array-preview {\n",
       "  display: none;\n",
       "}\n",
       "\n",
       ".xr-array-in:checked ~ .xr-array-data,\n",
       ".xr-array-preview {\n",
       "  display: inline-block;\n",
       "}\n",
       "\n",
       ".xr-dim-list {\n",
       "  display: inline-block !important;\n",
       "  list-style: none;\n",
       "  padding: 0 !important;\n",
       "  margin: 0;\n",
       "}\n",
       "\n",
       ".xr-dim-list li {\n",
       "  display: inline-block;\n",
       "  padding: 0;\n",
       "  margin: 0;\n",
       "}\n",
       "\n",
       ".xr-dim-list:before {\n",
       "  content: '(';\n",
       "}\n",
       "\n",
       ".xr-dim-list:after {\n",
       "  content: ')';\n",
       "}\n",
       "\n",
       ".xr-dim-list li:not(:last-child):after {\n",
       "  content: ',';\n",
       "  padding-right: 5px;\n",
       "}\n",
       "\n",
       ".xr-has-index {\n",
       "  font-weight: bold;\n",
       "}\n",
       "\n",
       ".xr-var-list,\n",
       ".xr-var-item {\n",
       "  display: contents;\n",
       "}\n",
       "\n",
       ".xr-var-item > div,\n",
       ".xr-var-item label,\n",
       ".xr-var-item > .xr-var-name span {\n",
       "  background-color: var(--xr-background-color-row-even);\n",
       "  margin-bottom: 0;\n",
       "}\n",
       "\n",
       ".xr-var-item > .xr-var-name:hover span {\n",
       "  padding-right: 5px;\n",
       "}\n",
       "\n",
       ".xr-var-list > li:nth-child(odd) > div,\n",
       ".xr-var-list > li:nth-child(odd) > label,\n",
       ".xr-var-list > li:nth-child(odd) > .xr-var-name span {\n",
       "  background-color: var(--xr-background-color-row-odd);\n",
       "}\n",
       "\n",
       ".xr-var-name {\n",
       "  grid-column: 1;\n",
       "}\n",
       "\n",
       ".xr-var-dims {\n",
       "  grid-column: 2;\n",
       "}\n",
       "\n",
       ".xr-var-dtype {\n",
       "  grid-column: 3;\n",
       "  text-align: right;\n",
       "  color: var(--xr-font-color2);\n",
       "}\n",
       "\n",
       ".xr-var-preview {\n",
       "  grid-column: 4;\n",
       "}\n",
       "\n",
       ".xr-index-preview {\n",
       "  grid-column: 2 / 5;\n",
       "  color: var(--xr-font-color2);\n",
       "}\n",
       "\n",
       ".xr-var-name,\n",
       ".xr-var-dims,\n",
       ".xr-var-dtype,\n",
       ".xr-preview,\n",
       ".xr-attrs dt {\n",
       "  white-space: nowrap;\n",
       "  overflow: hidden;\n",
       "  text-overflow: ellipsis;\n",
       "  padding-right: 10px;\n",
       "}\n",
       "\n",
       ".xr-var-name:hover,\n",
       ".xr-var-dims:hover,\n",
       ".xr-var-dtype:hover,\n",
       ".xr-attrs dt:hover {\n",
       "  overflow: visible;\n",
       "  width: auto;\n",
       "  z-index: 1;\n",
       "}\n",
       "\n",
       ".xr-var-attrs,\n",
       ".xr-var-data,\n",
       ".xr-index-data {\n",
       "  display: none;\n",
       "  background-color: var(--xr-background-color) !important;\n",
       "  padding-bottom: 5px !important;\n",
       "}\n",
       "\n",
       ".xr-var-attrs-in:checked ~ .xr-var-attrs,\n",
       ".xr-var-data-in:checked ~ .xr-var-data,\n",
       ".xr-index-data-in:checked ~ .xr-index-data {\n",
       "  display: block;\n",
       "}\n",
       "\n",
       ".xr-var-data > table {\n",
       "  float: right;\n",
       "}\n",
       "\n",
       ".xr-var-name span,\n",
       ".xr-var-data,\n",
       ".xr-index-name div,\n",
       ".xr-index-data,\n",
       ".xr-attrs {\n",
       "  padding-left: 25px !important;\n",
       "}\n",
       "\n",
       ".xr-attrs,\n",
       ".xr-var-attrs,\n",
       ".xr-var-data,\n",
       ".xr-index-data {\n",
       "  grid-column: 1 / -1;\n",
       "}\n",
       "\n",
       "dl.xr-attrs {\n",
       "  padding: 0;\n",
       "  margin: 0;\n",
       "  display: grid;\n",
       "  grid-template-columns: 125px auto;\n",
       "}\n",
       "\n",
       ".xr-attrs dt,\n",
       ".xr-attrs dd {\n",
       "  padding: 0;\n",
       "  margin: 0;\n",
       "  float: left;\n",
       "  padding-right: 10px;\n",
       "  width: auto;\n",
       "}\n",
       "\n",
       ".xr-attrs dt {\n",
       "  font-weight: normal;\n",
       "  grid-column: 1;\n",
       "}\n",
       "\n",
       ".xr-attrs dt:hover span {\n",
       "  display: inline-block;\n",
       "  background: var(--xr-background-color);\n",
       "  padding-right: 10px;\n",
       "}\n",
       "\n",
       ".xr-attrs dd {\n",
       "  grid-column: 2;\n",
       "  white-space: pre-wrap;\n",
       "  word-break: break-all;\n",
       "}\n",
       "\n",
       ".xr-icon-database,\n",
       ".xr-icon-file-text2,\n",
       ".xr-no-icon {\n",
       "  display: inline-block;\n",
       "  vertical-align: middle;\n",
       "  width: 1em;\n",
       "  height: 1.5em !important;\n",
       "  stroke-width: 0;\n",
       "  stroke: currentColor;\n",
       "  fill: currentColor;\n",
       "}\n",
       "</style><pre class='xr-text-repr-fallback'>&lt;xarray.DataArray &#x27;time&#x27; (time: 30)&gt;\n",
       "array([1.685621e+09, 1.685707e+09, 1.685794e+09, 1.685880e+09, 1.685966e+09,\n",
       "       1.686053e+09, 1.686139e+09, 1.686226e+09, 1.686312e+09, 1.686398e+09,\n",
       "       1.686485e+09, 1.686571e+09, 1.686658e+09, 1.686744e+09, 1.686830e+09,\n",
       "       1.686917e+09, 1.687003e+09, 1.687090e+09, 1.687176e+09, 1.687262e+09,\n",
       "       1.687349e+09, 1.687435e+09, 1.687522e+09, 1.687608e+09, 1.687694e+09,\n",
       "       1.687781e+09, 1.687867e+09, 1.687954e+09, 1.688040e+09, 1.688126e+09])\n",
       "Coordinates:\n",
       "  * time     (time) float64 1.686e+09 1.686e+09 ... 1.688e+09 1.688e+09\n",
       "Attributes:\n",
       "    _CoordinateAxisType:  Time\n",
       "    actual_range:         [1.6856208e+09 1.6881264e+09]\n",
       "    axis:                 T\n",
       "    calendar:             Gregorian\n",
       "    ioos_category:        Time\n",
       "    long_name:            Easten Time\n",
       "    standard_name:        time\n",
       "    time_origin:          01-JAN-1970 00:00:00\n",
       "    units:                seconds since 1970-01-01T00:00:00Z</pre><div class='xr-wrap' style='display:none'><div class='xr-header'><div class='xr-obj-type'>xarray.DataArray</div><div class='xr-array-name'>'time'</div><ul class='xr-dim-list'><li><span class='xr-has-index'>time</span>: 30</li></ul></div><ul class='xr-sections'><li class='xr-section-item'><div class='xr-array-wrap'><input id='section-4e8a68dc-1c59-4bde-82b0-577adaa4cf8f' class='xr-array-in' type='checkbox' checked><label for='section-4e8a68dc-1c59-4bde-82b0-577adaa4cf8f' title='Show/hide data repr'><svg class='icon xr-icon-database'><use xlink:href='#icon-database'></use></svg></label><div class='xr-array-preview xr-preview'><span>1.686e+09 1.686e+09 1.686e+09 ... 1.688e+09 1.688e+09 1.688e+09</span></div><div class='xr-array-data'><pre>array([1.685621e+09, 1.685707e+09, 1.685794e+09, 1.685880e+09, 1.685966e+09,\n",
       "       1.686053e+09, 1.686139e+09, 1.686226e+09, 1.686312e+09, 1.686398e+09,\n",
       "       1.686485e+09, 1.686571e+09, 1.686658e+09, 1.686744e+09, 1.686830e+09,\n",
       "       1.686917e+09, 1.687003e+09, 1.687090e+09, 1.687176e+09, 1.687262e+09,\n",
       "       1.687349e+09, 1.687435e+09, 1.687522e+09, 1.687608e+09, 1.687694e+09,\n",
       "       1.687781e+09, 1.687867e+09, 1.687954e+09, 1.688040e+09, 1.688126e+09])</pre></div></div></li><li class='xr-section-item'><input id='section-79e30046-fe60-4156-be5c-d6e009fe0b66' class='xr-section-summary-in' type='checkbox'  checked><label for='section-79e30046-fe60-4156-be5c-d6e009fe0b66' class='xr-section-summary' >Coordinates: <span>(1)</span></label><div class='xr-section-inline-details'></div><div class='xr-section-details'><ul class='xr-var-list'><li class='xr-var-item'><div class='xr-var-name'><span class='xr-has-index'>time</span></div><div class='xr-var-dims'>(time)</div><div class='xr-var-dtype'>float64</div><div class='xr-var-preview xr-preview'>1.686e+09 1.686e+09 ... 1.688e+09</div><input id='attrs-57d50ef8-4181-4e0e-9c8f-3afd6e7af215' class='xr-var-attrs-in' type='checkbox' ><label for='attrs-57d50ef8-4181-4e0e-9c8f-3afd6e7af215' title='Show/Hide attributes'><svg class='icon xr-icon-file-text2'><use xlink:href='#icon-file-text2'></use></svg></label><input id='data-039e5644-5cea-4cac-9d7e-5c5f94137e8d' class='xr-var-data-in' type='checkbox'><label for='data-039e5644-5cea-4cac-9d7e-5c5f94137e8d' title='Show/Hide data repr'><svg class='icon xr-icon-database'><use xlink:href='#icon-database'></use></svg></label><div class='xr-var-attrs'><dl class='xr-attrs'><dt><span>_CoordinateAxisType :</span></dt><dd>Time</dd><dt><span>actual_range :</span></dt><dd>[1.6856208e+09 1.6881264e+09]</dd><dt><span>axis :</span></dt><dd>T</dd><dt><span>calendar :</span></dt><dd>Gregorian</dd><dt><span>ioos_category :</span></dt><dd>Time</dd><dt><span>long_name :</span></dt><dd>Easten Time</dd><dt><span>standard_name :</span></dt><dd>time</dd><dt><span>time_origin :</span></dt><dd>01-JAN-1970 00:00:00</dd><dt><span>units :</span></dt><dd>seconds since 1970-01-01T00:00:00Z</dd></dl></div><div class='xr-var-data'><pre>array([1.685621e+09, 1.685707e+09, 1.685794e+09, 1.685880e+09, 1.685966e+09,\n",
       "       1.686053e+09, 1.686139e+09, 1.686226e+09, 1.686312e+09, 1.686398e+09,\n",
       "       1.686485e+09, 1.686571e+09, 1.686658e+09, 1.686744e+09, 1.686830e+09,\n",
       "       1.686917e+09, 1.687003e+09, 1.687090e+09, 1.687176e+09, 1.687262e+09,\n",
       "       1.687349e+09, 1.687435e+09, 1.687522e+09, 1.687608e+09, 1.687694e+09,\n",
       "       1.687781e+09, 1.687867e+09, 1.687954e+09, 1.688040e+09, 1.688126e+09])</pre></div></li></ul></div></li><li class='xr-section-item'><input id='section-00938137-e1d5-4026-8050-37598ab87e24' class='xr-section-summary-in' type='checkbox'  ><label for='section-00938137-e1d5-4026-8050-37598ab87e24' class='xr-section-summary' >Indexes: <span>(1)</span></label><div class='xr-section-inline-details'></div><div class='xr-section-details'><ul class='xr-var-list'><li class='xr-var-item'><div class='xr-index-name'><div>time</div></div><div class='xr-index-preview'>PandasIndex</div><div></div><input id='index-63ac22bc-e4f5-479c-81fc-c7a37eb9a5ec' class='xr-index-data-in' type='checkbox'/><label for='index-63ac22bc-e4f5-479c-81fc-c7a37eb9a5ec' title='Show/Hide index repr'><svg class='icon xr-icon-database'><use xlink:href='#icon-database'></use></svg></label><div class='xr-index-data'><pre>PandasIndex(Float64Index([1685620800.0, 1685707200.0, 1685793600.0, 1685880000.0,\n",
       "              1685966400.0, 1686052800.0, 1686139200.0, 1686225600.0,\n",
       "              1686312000.0, 1686398400.0, 1686484800.0, 1686571200.0,\n",
       "              1686657600.0, 1686744000.0, 1686830400.0, 1686916800.0,\n",
       "              1687003200.0, 1687089600.0, 1687176000.0, 1687262400.0,\n",
       "              1687348800.0, 1687435200.0, 1687521600.0, 1687608000.0,\n",
       "              1687694400.0, 1687780800.0, 1687867200.0, 1687953600.0,\n",
       "              1688040000.0, 1688126400.0],\n",
       "             dtype=&#x27;float64&#x27;, name=&#x27;time&#x27;))</pre></div></li></ul></div></li><li class='xr-section-item'><input id='section-4832fd9d-4045-46c7-ae47-12e52ed7ce58' class='xr-section-summary-in' type='checkbox'  checked><label for='section-4832fd9d-4045-46c7-ae47-12e52ed7ce58' class='xr-section-summary' >Attributes: <span>(9)</span></label><div class='xr-section-inline-details'></div><div class='xr-section-details'><dl class='xr-attrs'><dt><span>_CoordinateAxisType :</span></dt><dd>Time</dd><dt><span>actual_range :</span></dt><dd>[1.6856208e+09 1.6881264e+09]</dd><dt><span>axis :</span></dt><dd>T</dd><dt><span>calendar :</span></dt><dd>Gregorian</dd><dt><span>ioos_category :</span></dt><dd>Time</dd><dt><span>long_name :</span></dt><dd>Easten Time</dd><dt><span>standard_name :</span></dt><dd>time</dd><dt><span>time_origin :</span></dt><dd>01-JAN-1970 00:00:00</dd><dt><span>units :</span></dt><dd>seconds since 1970-01-01T00:00:00Z</dd></dl></div></li></ul></div></div>"
      ],
      "text/plain": [
       "<xarray.DataArray 'time' (time: 30)>\n",
       "array([1.685621e+09, 1.685707e+09, 1.685794e+09, 1.685880e+09, 1.685966e+09,\n",
       "       1.686053e+09, 1.686139e+09, 1.686226e+09, 1.686312e+09, 1.686398e+09,\n",
       "       1.686485e+09, 1.686571e+09, 1.686658e+09, 1.686744e+09, 1.686830e+09,\n",
       "       1.686917e+09, 1.687003e+09, 1.687090e+09, 1.687176e+09, 1.687262e+09,\n",
       "       1.687349e+09, 1.687435e+09, 1.687522e+09, 1.687608e+09, 1.687694e+09,\n",
       "       1.687781e+09, 1.687867e+09, 1.687954e+09, 1.688040e+09, 1.688126e+09])\n",
       "Coordinates:\n",
       "  * time     (time) float64 1.686e+09 1.686e+09 ... 1.688e+09 1.688e+09\n",
       "Attributes:\n",
       "    _CoordinateAxisType:  Time\n",
       "    actual_range:         [1.6856208e+09 1.6881264e+09]\n",
       "    axis:                 T\n",
       "    calendar:             Gregorian\n",
       "    ioos_category:        Time\n",
       "    long_name:            Easten Time\n",
       "    standard_name:        time\n",
       "    time_origin:          01-JAN-1970 00:00:00\n",
       "    units:                seconds since 1970-01-01T00:00:00Z"
      ]
     },
     "execution_count": 22,
     "metadata": {},
     "output_type": "execute_result"
    }
   ],
   "source": [
    "ds.time"
   ]
  },
  {
   "cell_type": "code",
   "execution_count": 23,
   "metadata": {},
   "outputs": [
    {
     "data": {
      "text/plain": [
       "{'_CoordinateAxisType': 'Time',\n",
       " 'actual_range': array([1.6856208e+09, 1.6881264e+09]),\n",
       " 'axis': 'T',\n",
       " 'calendar': 'Gregorian',\n",
       " 'ioos_category': 'Time',\n",
       " 'long_name': 'Easten Time',\n",
       " 'standard_name': 'time',\n",
       " 'time_origin': '01-JAN-1970 00:00:00',\n",
       " 'units': 'seconds since 1970-01-01T00:00:00Z'}"
      ]
     },
     "execution_count": 23,
     "metadata": {},
     "output_type": "execute_result"
    }
   ],
   "source": [
    "ds.time.attrs"
   ]
  },
  {
   "cell_type": "markdown",
   "metadata": {},
   "source": [
    "#### the time units is seconds, we need to convert the seconds to dates."
   ]
  },
  {
   "cell_type": "code",
   "execution_count": 24,
   "metadata": {
    "scrolled": true
   },
   "outputs": [
    {
     "data": {
      "text/plain": [
       "array([real_datetime(2023, 6, 1, 12, 0), real_datetime(2023, 6, 2, 12, 0),\n",
       "       real_datetime(2023, 6, 3, 12, 0), real_datetime(2023, 6, 4, 12, 0),\n",
       "       real_datetime(2023, 6, 5, 12, 0), real_datetime(2023, 6, 6, 12, 0),\n",
       "       real_datetime(2023, 6, 7, 12, 0), real_datetime(2023, 6, 8, 12, 0),\n",
       "       real_datetime(2023, 6, 9, 12, 0),\n",
       "       real_datetime(2023, 6, 10, 12, 0),\n",
       "       real_datetime(2023, 6, 11, 12, 0),\n",
       "       real_datetime(2023, 6, 12, 12, 0),\n",
       "       real_datetime(2023, 6, 13, 12, 0),\n",
       "       real_datetime(2023, 6, 14, 12, 0),\n",
       "       real_datetime(2023, 6, 15, 12, 0),\n",
       "       real_datetime(2023, 6, 16, 12, 0),\n",
       "       real_datetime(2023, 6, 17, 12, 0),\n",
       "       real_datetime(2023, 6, 18, 12, 0),\n",
       "       real_datetime(2023, 6, 19, 12, 0),\n",
       "       real_datetime(2023, 6, 20, 12, 0),\n",
       "       real_datetime(2023, 6, 21, 12, 0),\n",
       "       real_datetime(2023, 6, 22, 12, 0),\n",
       "       real_datetime(2023, 6, 23, 12, 0),\n",
       "       real_datetime(2023, 6, 24, 12, 0),\n",
       "       real_datetime(2023, 6, 25, 12, 0),\n",
       "       real_datetime(2023, 6, 26, 12, 0),\n",
       "       real_datetime(2023, 6, 27, 12, 0),\n",
       "       real_datetime(2023, 6, 28, 12, 0),\n",
       "       real_datetime(2023, 6, 29, 12, 0),\n",
       "       real_datetime(2023, 6, 30, 12, 0)], dtype=object)"
      ]
     },
     "execution_count": 24,
     "metadata": {},
     "output_type": "execute_result"
    }
   ],
   "source": [
    "dates=nc.num2date(ds.time,ds.time.units,only_use_cftime_datetimes=False, \n",
    "                        only_use_python_datetimes=True )\n",
    "dates"
   ]
  },
  {
   "cell_type": "markdown",
   "metadata": {},
   "source": [
    "The datetime object includes year, month, hour, minutes, eg. 2021, 6, 12, 0."
   ]
  },
  {
   "cell_type": "markdown",
   "metadata": {},
   "source": [
    "## Working with the extracted data"
   ]
  },
  {
   "cell_type": "markdown",
   "metadata": {},
   "source": [
    "### Creating a map for one time step"
   ]
  },
  {
   "cell_type": "markdown",
   "metadata": {},
   "source": [
    "Let's create a map of SST for June 1, 2021 (our first time step)."
   ]
  },
  {
   "cell_type": "code",
   "execution_count": 26,
   "metadata": {},
   "outputs": [],
   "source": [
    "import pandas as pd\n",
    "import numpy as np\n",
    "from matplotlib import pyplot as plt\n",
    "from matplotlib.colors import LinearSegmentedColormap\n",
    "#np.warnings.filterwarnings('ignore')"
   ]
  },
  {
   "cell_type": "markdown",
   "metadata": {},
   "source": [
    "#### - Examine the values of sst:"
   ]
  },
  {
   "cell_type": "code",
   "execution_count": 27,
   "metadata": {},
   "outputs": [
    {
     "data": {
      "text/plain": [
       "array([[[-99999., -99999., -99999., ..., -99999., -99999., -99999.],\n",
       "        [-99999., -99999., -99999., ..., -99999., -99999., -99999.],\n",
       "        [-99999., -99999., -99999., ..., -99999., -99999., -99999.],\n",
       "        ...,\n",
       "        [-99999., -99999., -99999., ..., -99999., -99999., -99999.],\n",
       "        [-99999., -99999., -99999., ..., -99999., -99999., -99999.],\n",
       "        [-99999., -99999., -99999., ..., -99999., -99999., -99999.]],\n",
       "\n",
       "       [[-99999., -99999., -99999., ..., -99999., -99999., -99999.],\n",
       "        [-99999., -99999., -99999., ..., -99999., -99999., -99999.],\n",
       "        [-99999., -99999., -99999., ..., -99999., -99999., -99999.],\n",
       "        ...,\n",
       "        [-99999., -99999., -99999., ..., -99999., -99999., -99999.],\n",
       "        [-99999., -99999., -99999., ..., -99999., -99999., -99999.],\n",
       "        [-99999., -99999., -99999., ..., -99999., -99999., -99999.]],\n",
       "\n",
       "       [[-99999., -99999., -99999., ..., -99999., -99999., -99999.],\n",
       "        [-99999., -99999., -99999., ..., -99999., -99999., -99999.],\n",
       "        [-99999., -99999., -99999., ..., -99999., -99999., -99999.],\n",
       "        ...,\n",
       "        [-99999., -99999., -99999., ..., -99999., -99999., -99999.],\n",
       "        [-99999., -99999., -99999., ..., -99999., -99999., -99999.],\n",
       "        [-99999., -99999., -99999., ..., -99999., -99999., -99999.]],\n",
       "\n",
       "       ...,\n",
       "\n",
       "       [[-99999., -99999., -99999., ..., -99999., -99999., -99999.],\n",
       "        [-99999., -99999., -99999., ..., -99999., -99999., -99999.],\n",
       "        [-99999., -99999., -99999., ..., -99999., -99999., -99999.],\n",
       "        ...,\n",
       "        [-99999., -99999., -99999., ..., -99999., -99999., -99999.],\n",
       "        [-99999., -99999., -99999., ..., -99999., -99999., -99999.],\n",
       "        [-99999., -99999., -99999., ..., -99999., -99999., -99999.]],\n",
       "\n",
       "       [[-99999., -99999., -99999., ..., -99999., -99999., -99999.],\n",
       "        [-99999., -99999., -99999., ..., -99999., -99999., -99999.],\n",
       "        [-99999., -99999., -99999., ..., -99999., -99999., -99999.],\n",
       "        ...,\n",
       "        [-99999., -99999., -99999., ..., -99999., -99999., -99999.],\n",
       "        [-99999., -99999., -99999., ..., -99999., -99999., -99999.],\n",
       "        [-99999., -99999., -99999., ..., -99999., -99999., -99999.]],\n",
       "\n",
       "       [[-99999., -99999., -99999., ..., -99999., -99999., -99999.],\n",
       "        [-99999., -99999., -99999., ..., -99999., -99999., -99999.],\n",
       "        [-99999., -99999., -99999., ..., -99999., -99999., -99999.],\n",
       "        ...,\n",
       "        [-99999., -99999., -99999., ..., -99999., -99999., -99999.],\n",
       "        [-99999., -99999., -99999., ..., -99999., -99999., -99999.],\n",
       "        [-99999., -99999., -99999., ..., -99999., -99999., -99999.]]],\n",
       "      dtype=float32)"
      ]
     },
     "execution_count": 27,
     "metadata": {},
     "output_type": "execute_result"
    }
   ],
   "source": [
    "ds.sst.values"
   ]
  },
  {
   "cell_type": "code",
   "execution_count": 28,
   "metadata": {},
   "outputs": [
    {
     "data": {
      "text/plain": [
       "{'_FillValue': -99999.0,\n",
       " 'colorBarMaximum': 32.0,\n",
       " 'colorBarMinimum': 0.0,\n",
       " 'ioos_category': 'Temperature',\n",
       " 'long_name': 'Temperature',\n",
       " 'standard_name': 'sea_water_temperature',\n",
       " 'units': 'degree_C'}"
      ]
     },
     "execution_count": 28,
     "metadata": {},
     "output_type": "execute_result"
    }
   ],
   "source": [
    "ds.sst.attrs"
   ]
  },
  {
   "cell_type": "code",
   "execution_count": 29,
   "metadata": {},
   "outputs": [
    {
     "data": {
      "text/plain": [
       "-99999.0"
      ]
     },
     "execution_count": 29,
     "metadata": {},
     "output_type": "execute_result"
    }
   ],
   "source": [
    "ds.sst.attrs['_FillValue']"
   ]
  },
  {
   "cell_type": "code",
   "execution_count": 30,
   "metadata": {},
   "outputs": [],
   "source": [
    "#ds.sst.dims\n",
    "#ds.sst.coords"
   ]
  },
  {
   "cell_type": "markdown",
   "metadata": {},
   "source": [
    "#### - Make a new sst DataArray and replace _fillValue with NaN"
   ]
  },
  {
   "cell_type": "code",
   "execution_count": 31,
   "metadata": {},
   "outputs": [
    {
     "name": "stdout",
     "output_type": "stream",
     "text": [
      "<xarray.DataArray 'sst' (time: 30, latitude: 143, longitude: 358)>\n",
      "array([[[nan, nan, nan, ..., nan, nan, nan],\n",
      "        [nan, nan, nan, ..., nan, nan, nan],\n",
      "        [nan, nan, nan, ..., nan, nan, nan],\n",
      "        ...,\n",
      "        [nan, nan, nan, ..., nan, nan, nan],\n",
      "        [nan, nan, nan, ..., nan, nan, nan],\n",
      "        [nan, nan, nan, ..., nan, nan, nan]],\n",
      "\n",
      "       [[nan, nan, nan, ..., nan, nan, nan],\n",
      "        [nan, nan, nan, ..., nan, nan, nan],\n",
      "        [nan, nan, nan, ..., nan, nan, nan],\n",
      "        ...,\n",
      "        [nan, nan, nan, ..., nan, nan, nan],\n",
      "        [nan, nan, nan, ..., nan, nan, nan],\n",
      "        [nan, nan, nan, ..., nan, nan, nan]],\n",
      "\n",
      "       [[nan, nan, nan, ..., nan, nan, nan],\n",
      "        [nan, nan, nan, ..., nan, nan, nan],\n",
      "        [nan, nan, nan, ..., nan, nan, nan],\n",
      "        ...,\n",
      "...\n",
      "        ...,\n",
      "        [nan, nan, nan, ..., nan, nan, nan],\n",
      "        [nan, nan, nan, ..., nan, nan, nan],\n",
      "        [nan, nan, nan, ..., nan, nan, nan]],\n",
      "\n",
      "       [[nan, nan, nan, ..., nan, nan, nan],\n",
      "        [nan, nan, nan, ..., nan, nan, nan],\n",
      "        [nan, nan, nan, ..., nan, nan, nan],\n",
      "        ...,\n",
      "        [nan, nan, nan, ..., nan, nan, nan],\n",
      "        [nan, nan, nan, ..., nan, nan, nan],\n",
      "        [nan, nan, nan, ..., nan, nan, nan]],\n",
      "\n",
      "       [[nan, nan, nan, ..., nan, nan, nan],\n",
      "        [nan, nan, nan, ..., nan, nan, nan],\n",
      "        [nan, nan, nan, ..., nan, nan, nan],\n",
      "        ...,\n",
      "        [nan, nan, nan, ..., nan, nan, nan],\n",
      "        [nan, nan, nan, ..., nan, nan, nan],\n",
      "        [nan, nan, nan, ..., nan, nan, nan]]], dtype=float32)\n",
      "Coordinates:\n",
      "  * time       (time) float64 1.686e+09 1.686e+09 ... 1.688e+09 1.688e+09\n",
      "  * latitude   (latitude) float64 41.01 41.02 41.03 41.05 ... 42.97 42.98 43.0\n",
      "  * longitude  (longitude) float64 -83.51 -83.49 -83.48 ... -78.53 -78.52 -78.5\n",
      "Attributes:\n",
      "    _FillValue:       -99999.0\n",
      "    colorBarMaximum:  32.0\n",
      "    colorBarMinimum:  0.0\n",
      "    ioos_category:    Temperature\n",
      "    long_name:        Temperature\n",
      "    standard_name:    sea_water_temperature\n",
      "    units:            degree_C\n"
     ]
    }
   ],
   "source": [
    "#nan_sst = ds.sst.where(ds.sst.values != -99999.0)\n",
    "nan_sst = ds.sst.where(ds.sst.values != ds.sst.attrs['_FillValue'])\n",
    "\n",
    "# nan_sst[time][latitude][longitude]\n",
    "#print(nan_sst[10][100][200])\n",
    "\n",
    "print(nan_sst)\n",
    "\n"
   ]
  },
  {
   "cell_type": "markdown",
   "metadata": {},
   "source": [
    "#### - Set some color breaks"
   ]
  },
  {
   "cell_type": "code",
   "execution_count": 32,
   "metadata": {
    "scrolled": false
   },
   "outputs": [
    {
     "data": {
      "text/plain": [
       "-99999.0"
      ]
     },
     "execution_count": 32,
     "metadata": {},
     "output_type": "execute_result"
    }
   ],
   "source": [
    "np.nanmin(ds.sst)\n"
   ]
  },
  {
   "cell_type": "code",
   "execution_count": 33,
   "metadata": {},
   "outputs": [
    {
     "data": {
      "text/plain": [
       "13.25"
      ]
     },
     "execution_count": 33,
     "metadata": {},
     "output_type": "execute_result"
    }
   ],
   "source": [
    "# find min value in man_sst\n",
    "np.nanmin(nan_sst)"
   ]
  },
  {
   "cell_type": "code",
   "execution_count": 34,
   "metadata": {},
   "outputs": [
    {
     "data": {
      "text/plain": [
       "23.35"
      ]
     },
     "execution_count": 34,
     "metadata": {},
     "output_type": "execute_result"
    }
   ],
   "source": [
    "np.nanmax(nan_sst)"
   ]
  },
  {
   "cell_type": "code",
   "execution_count": 35,
   "metadata": {},
   "outputs": [
    {
     "data": {
      "text/plain": [
       "333"
      ]
     },
     "execution_count": 35,
     "metadata": {},
     "output_type": "execute_result"
    }
   ],
   "source": [
    "levs = np.arange(9.78, 26.39, 0.05)\n",
    "len(levs)"
   ]
  },
  {
   "cell_type": "markdown",
   "metadata": {},
   "source": [
    "#### - Define a color palette"
   ]
  },
  {
   "cell_type": "code",
   "execution_count": 36,
   "metadata": {},
   "outputs": [],
   "source": [
    "# init a color list\n",
    "jet=[\"blue\", \"#007FFF\", \"cyan\",\"#7FFF7F\", \"yellow\", \"#FF7F00\", \"red\", \"#7F0000\"]\n"
   ]
  },
  {
   "cell_type": "markdown",
   "metadata": {},
   "source": [
    "#### - Set color scale using the jet palette"
   ]
  },
  {
   "cell_type": "code",
   "execution_count": 37,
   "metadata": {},
   "outputs": [],
   "source": [
    "cm = LinearSegmentedColormap.from_list('my_jet', jet, N=len(levs))\n",
    "\n",
    "#https://www.youtube.com/watch?v=qk0n-YaKIkY"
   ]
  },
  {
   "cell_type": "markdown",
   "metadata": {},
   "source": [
    "#### - plot the SST map"
   ]
  },
  {
   "cell_type": "code",
   "execution_count": 38,
   "metadata": {},
   "outputs": [
    {
     "data": {
      "text/plain": [
       "array([-82.5       , -81.66666667, -80.83333333, -80.        ])"
      ]
     },
     "execution_count": 38,
     "metadata": {},
     "output_type": "execute_result"
    }
   ],
   "source": [
    "np.linspace(-82.5,-80,num=4)\n"
   ]
  },
  {
   "cell_type": "code",
   "execution_count": 39,
   "metadata": {
    "scrolled": false
   },
   "outputs": [
    {
     "data": {
      "image/png": "[encoded data removed]",
      "text/plain": [
       "<Figure size 1000x500 with 2 Axes>"
      ]
     },
     "metadata": {},
     "output_type": "display_data"
    }
   ],
   "source": [
    "plt.subplots(figsize=(10, 5))\n",
    "\n",
    "#plot first sst image: nan_sst[0,:,:]\n",
    "plt.contourf(nan_sst.longitude, nan_sst.latitude, nan_sst[0,:,:], levs,cmap=cm)\n",
    "\n",
    "#plot the color scale\n",
    "plt.colorbar()\n",
    "\n",
    "#example of how to add points to the map\n",
    "plt.scatter(np.linspace(-82,-80.5,num=4),np.repeat(42,4),c='black')\n",
    "\n",
    "#example of how to add a contour line\n",
    "step = np.arange(9,26, 1)\n",
    "\n",
    "plt.contour(ds.longitude, ds.latitude, ds.sst[0,:,:],levels=step,linewidths=1)\n",
    "\n",
    "#plot title\n",
    "plt.title(\"Lake Erie Water Surface Temperature - \" + dates[0].strftime('%b %d, %Y'))\n",
    "plt.show()\n"
   ]
  },
  {
   "cell_type": "markdown",
   "metadata": {},
   "source": [
    "### Plotting a time series"
   ]
  },
  {
   "cell_type": "markdown",
   "metadata": {},
   "source": [
    "Let's pick the following box : 41.75-42.0N, 83.0-83.5W. We are going to generate a time series of mean SST within that box.\n",
    "\n",
    "#### - first, let's subset our data:"
   ]
  },
  {
   "cell_type": "code",
   "execution_count": 40,
   "metadata": {},
   "outputs": [
    {
     "name": "stdout",
     "output_type": "stream",
     "text": [
      "<xarray.DataArray 'sst' (time: 30, latitude: 17, longitude: 36)>\n",
      "array([[[  nan,   nan,   nan, ..., 18.86, 18.84, 18.84],\n",
      "        [  nan,   nan,   nan, ..., 18.82, 18.8 , 18.8 ],\n",
      "        [  nan,   nan,   nan, ..., 18.78, 18.76, 18.76],\n",
      "        ...,\n",
      "        [  nan,   nan,   nan, ..., 18.5 , 18.46, 18.46],\n",
      "        [  nan,   nan,   nan, ..., 18.5 , 18.46, 18.46],\n",
      "        [  nan,   nan,   nan, ..., 18.53, 18.49, 18.49]],\n",
      "\n",
      "       [[  nan,   nan,   nan, ..., 19.45, 19.44, 19.44],\n",
      "        [  nan,   nan,   nan, ..., 19.42, 19.41, 19.41],\n",
      "        [  nan,   nan,   nan, ..., 19.39, 19.38, 19.38],\n",
      "        ...,\n",
      "        [  nan,   nan,   nan, ..., 19.13, 19.1 , 19.1 ],\n",
      "        [  nan,   nan,   nan, ..., 19.07, 19.06, 19.06],\n",
      "        [  nan,   nan,   nan, ..., 19.06, 19.04, 19.04]],\n",
      "\n",
      "       [[  nan,   nan,   nan, ..., 19.63, 19.61, 19.61],\n",
      "        [  nan,   nan,   nan, ..., 19.6 , 19.58, 19.58],\n",
      "        [  nan,   nan,   nan, ..., 19.56, 19.54, 19.54],\n",
      "        ...,\n",
      "...\n",
      "        ...,\n",
      "        [  nan,   nan,   nan, ..., 21.24, 21.31, 21.31],\n",
      "        [  nan,   nan,   nan, ..., 21.24, 21.34, 21.34],\n",
      "        [  nan,   nan,   nan, ..., 21.29, 21.42, 21.42]],\n",
      "\n",
      "       [[  nan,   nan,   nan, ..., 21.8 , 21.75, 21.75],\n",
      "        [  nan,   nan,   nan, ..., 21.7 , 21.67, 21.67],\n",
      "        [  nan,   nan,   nan, ..., 21.6 , 21.59, 21.59],\n",
      "        ...,\n",
      "        [  nan,   nan,   nan, ..., 21.36, 21.41, 21.41],\n",
      "        [  nan,   nan,   nan, ..., 21.36, 21.44, 21.44],\n",
      "        [  nan,   nan,   nan, ..., 21.44, 21.53, 21.53]],\n",
      "\n",
      "       [[  nan,   nan,   nan, ..., 21.93, 21.82, 21.82],\n",
      "        [  nan,   nan,   nan, ..., 21.86, 21.79, 21.79],\n",
      "        [  nan,   nan,   nan, ..., 21.78, 21.75, 21.75],\n",
      "        ...,\n",
      "        [  nan,   nan,   nan, ..., 21.49, 21.52, 21.52],\n",
      "        [  nan,   nan,   nan, ..., 21.51, 21.55, 21.55],\n",
      "        [  nan,   nan,   nan, ..., 21.63, 21.66, 21.66]]], dtype=float32)\n",
      "Coordinates:\n",
      "  * time       (time) float64 1.686e+09 1.686e+09 ... 1.688e+09 1.688e+09\n",
      "  * latitude   (latitude) float64 41.76 41.78 41.79 41.8 ... 41.96 41.97 41.99\n",
      "  * longitude  (longitude) float64 -83.49 -83.48 -83.46 ... -83.03 -83.02 -83.0\n",
      "Attributes:\n",
      "    _FillValue:       -99999.0\n",
      "    colorBarMaximum:  32.0\n",
      "    colorBarMinimum:  0.0\n",
      "    ioos_category:    Temperature\n",
      "    long_name:        Temperature\n",
      "    standard_name:    sea_water_temperature\n",
      "    units:            degree_C\n"
     ]
    }
   ],
   "source": [
    "lat_bnds, lon_bnds = [41.75, 42.0], [-83.5, -83.0]\n",
    "a_sst=nan_sst.sel(latitude=slice(*lat_bnds), longitude=slice(*lon_bnds))\n",
    "print(a_sst)"
   ]
  },
  {
   "cell_type": "markdown",
   "metadata": {},
   "source": [
    "#### - let's plot the subset:"
   ]
  },
  {
   "cell_type": "code",
   "execution_count": 41,
   "metadata": {},
   "outputs": [
    {
     "data": {
      "image/png": "[encoded data removed]",
      "text/plain": [
       "<Figure size 640x480 with 2 Axes>"
      ]
     },
     "metadata": {},
     "output_type": "display_data"
    }
   ],
   "source": [
    "#plot first image of the a_sst array\n",
    "plt.contourf(a_sst.longitude, a_sst.latitude, a_sst[0,:,:], levs,cmap=cm)\n",
    "plt.colorbar()\n",
    "plt.title(\"Monthly Sea Surface Temperature \" + dates[0].strftime('%b %d, %Y'))\n",
    "plt.show()"
   ]
  },
  {
   "cell_type": "markdown",
   "metadata": {},
   "source": [
    "#### - let's compute the daily mean over the bounding region:"
   ]
  },
  {
   "cell_type": "code",
   "execution_count": 42,
   "metadata": {
    "scrolled": true
   },
   "outputs": [
    {
     "data": {
      "text/plain": [
       "array([19.252283, 19.84715 , 20.109388, 20.06981 , 20.01454 , 20.00379 ,\n",
       "       19.958447, 19.921082, 19.963646, 19.956564, 19.885717, 19.525248,\n",
       "       19.253717, 19.179811, 19.149954, 19.190142, 19.41266 , 19.634283,\n",
       "       19.90713 , 20.220236, 20.525293, 20.747812, 21.015364, 21.460989,\n",
       "       21.71833 , 21.710024, 21.643694, 21.593224, 21.749012, 22.0068  ],\n",
       "      dtype=float32)"
      ]
     },
     "execution_count": 42,
     "metadata": {},
     "output_type": "execute_result"
    }
   ],
   "source": [
    "res=np.nanmean(a_sst,axis=(1,2))\n",
    "res\n"
   ]
  },
  {
   "cell_type": "markdown",
   "metadata": {},
   "source": [
    "#### - let's plot the time-series:"
   ]
  },
  {
   "cell_type": "code",
   "execution_count": 43,
   "metadata": {
    "scrolled": true
   },
   "outputs": [
    {
     "data": {
      "text/plain": [
       "([<matplotlib.axis.XTick at 0x1b3f1199410>,\n",
       "  <matplotlib.axis.XTick at 0x1b3f1aabed0>,\n",
       "  <matplotlib.axis.XTick at 0x1b3f12138d0>,\n",
       "  <matplotlib.axis.XTick at 0x1b3f1c3a590>,\n",
       "  <matplotlib.axis.XTick at 0x1b3f1c39f90>,\n",
       "  <matplotlib.axis.XTick at 0x1b3f1abe550>,\n",
       "  <matplotlib.axis.XTick at 0x1b3f1abe810>,\n",
       "  <matplotlib.axis.XTick at 0x1b3f1244250>,\n",
       "  <matplotlib.axis.XTick at 0x1b3f12469d0>,\n",
       "  <matplotlib.axis.XTick at 0x1b3f1245c90>,\n",
       "  <matplotlib.axis.XTick at 0x1b3f127d010>,\n",
       "  <matplotlib.axis.XTick at 0x1b3f1a9f010>,\n",
       "  <matplotlib.axis.XTick at 0x1b3f1a9dcd0>,\n",
       "  <matplotlib.axis.XTick at 0x1b3f1a9eb90>,\n",
       "  <matplotlib.axis.XTick at 0x1b3f1200b90>,\n",
       "  <matplotlib.axis.XTick at 0x1b3f1203850>,\n",
       "  <matplotlib.axis.XTick at 0x1b3f125c950>,\n",
       "  <matplotlib.axis.XTick at 0x1b3f125ccd0>,\n",
       "  <matplotlib.axis.XTick at 0x1b3f1285190>,\n",
       "  <matplotlib.axis.XTick at 0x1b3f1284690>,\n",
       "  <matplotlib.axis.XTick at 0x1b3f1aa1990>,\n",
       "  <matplotlib.axis.XTick at 0x1b3f1aa1710>,\n",
       "  <matplotlib.axis.XTick at 0x1b3f12406d0>,\n",
       "  <matplotlib.axis.XTick at 0x1b3f1242350>,\n",
       "  <matplotlib.axis.XTick at 0x1b3f1245b10>,\n",
       "  <matplotlib.axis.XTick at 0x1b3f1c40e10>,\n",
       "  <matplotlib.axis.XTick at 0x1b3f1c416d0>,\n",
       "  <matplotlib.axis.XTick at 0x1b3f1c51a50>,\n",
       "  <matplotlib.axis.XTick at 0x1b3f121ba10>,\n",
       "  <matplotlib.axis.XTick at 0x1b3f1c422d0>],\n",
       " [Text(19509.5, 0, '2023-06-01'),\n",
       "  Text(19510.5, 0, '2023-06-02'),\n",
       "  Text(19511.5, 0, '2023-06-03'),\n",
       "  Text(19512.5, 0, '2023-06-04'),\n",
       "  Text(19513.5, 0, '2023-06-05'),\n",
       "  Text(19514.5, 0, '2023-06-06'),\n",
       "  Text(19515.5, 0, '2023-06-07'),\n",
       "  Text(19516.5, 0, '2023-06-08'),\n",
       "  Text(19517.5, 0, '2023-06-09'),\n",
       "  Text(19518.5, 0, '2023-06-10'),\n",
       "  Text(19519.5, 0, '2023-06-11'),\n",
       "  Text(19520.5, 0, '2023-06-12'),\n",
       "  Text(19521.5, 0, '2023-06-13'),\n",
       "  Text(19522.5, 0, '2023-06-14'),\n",
       "  Text(19523.5, 0, '2023-06-15'),\n",
       "  Text(19524.5, 0, '2023-06-16'),\n",
       "  Text(19525.5, 0, '2023-06-17'),\n",
       "  Text(19526.5, 0, '2023-06-18'),\n",
       "  Text(19527.5, 0, '2023-06-19'),\n",
       "  Text(19528.5, 0, '2023-06-20'),\n",
       "  Text(19529.5, 0, '2023-06-21'),\n",
       "  Text(19530.5, 0, '2023-06-22'),\n",
       "  Text(19531.5, 0, '2023-06-23'),\n",
       "  Text(19532.5, 0, '2023-06-24'),\n",
       "  Text(19533.5, 0, '2023-06-25'),\n",
       "  Text(19534.5, 0, '2023-06-26'),\n",
       "  Text(19535.5, 0, '2023-06-27'),\n",
       "  Text(19536.5, 0, '2023-06-28'),\n",
       "  Text(19537.5, 0, '2023-06-29'),\n",
       "  Text(19538.5, 0, '2023-06-30')])"
      ]
     },
     "execution_count": 43,
     "metadata": {},
     "output_type": "execute_result"
    },
    {
     "data": {
      "image/png": "[encoded data removed]",
      "text/plain": [
       "<Figure size 800x400 with 1 Axes>"
      ]
     },
     "metadata": {},
     "output_type": "display_data"
    }
   ],
   "source": [
    "plt.figure(figsize=(8,4))\n",
    "\n",
    "plt.scatter(dates,res)\n",
    "\n",
    "degree_sign = u\"\\N{DEGREE SIGN}\"\n",
    "plt.ylabel('SST (' + degree_sign + 'C)')\n",
    "\n",
    "plt.xlim(dates[0], dates[-1])\n",
    "\n",
    "plt.xticks(dates,rotation=70, fontsize=10 )"
   ]
  },
  {
   "cell_type": "markdown",
   "metadata": {},
   "source": [
    "### Creating a map of average SST over a month"
   ]
  },
  {
   "cell_type": "markdown",
   "metadata": {},
   "source": [
    "#### - let's compute the monthly mean for the region:"
   ]
  },
  {
   "cell_type": "code",
   "execution_count": 50,
   "metadata": {},
   "outputs": [],
   "source": [
    "import warnings\n",
    "\n",
    "warnings.filterwarnings('ignore')\n",
    "mean_sst=np.nanmean(nan_sst,axis=0)"
   ]
  },
  {
   "cell_type": "code",
   "execution_count": 51,
   "metadata": {},
   "outputs": [
    {
     "data": {
      "text/plain": [
       "(143, 358)"
      ]
     },
     "execution_count": 51,
     "metadata": {},
     "output_type": "execute_result"
    }
   ],
   "source": [
    "mean_sst.shape"
   ]
  },
  {
   "cell_type": "markdown",
   "metadata": {},
   "source": [
    "#### - let's plot the map of the average SST in the region for 2021 June:"
   ]
  },
  {
   "cell_type": "code",
   "execution_count": 52,
   "metadata": {},
   "outputs": [
    {
     "data": {
      "image/png": "[encoded data removed]",
      "text/plain": [
       "<Figure size 1000x500 with 2 Axes>"
      ]
     },
     "metadata": {},
     "output_type": "display_data"
    }
   ],
   "source": [
    "plt.subplots(figsize=(10, 5))\n",
    "\n",
    "plt.contourf(ds.longitude, ds.latitude, mean_sst, levs,cmap=cm)\n",
    "\n",
    "cbar = plt.colorbar()\n",
    "cbar.set_label('SST')\n",
    "\n",
    "plt.title(\"Mean SST \" + dates[0].strftime('%Y-%m-%d')+' - '+dates[-1].strftime('%Y-%m-%d'))\n",
    "plt.show()"
   ]
  },
  {
   "cell_type": "code",
   "execution_count": 53,
   "metadata": {},
   "outputs": [
    {
     "name": "stderr",
     "output_type": "stream",
     "text": [
      "[NbConvertApp] Converting notebook GL_python_tutorial1.ipynb to html\n",
      "[NbConvertApp] Writing 989986 bytes to GL_python_tutorial1.html\n"
     ]
    }
   ],
   "source": [
    "!jupyter nbconvert --to html GL_python_tutorial1.ipynb"
   ]
  }
 ],
 "metadata": {
  "kernelspec": {
   "display_name": "Python 3 (ipykernel)",
   "language": "python",
   "name": "python3"
  },
  "language_info": {
   "codemirror_mode": {
    "name": "ipython",
    "version": 3
   },
   "file_extension": ".py",
   "mimetype": "text/x-python",
   "name": "python",
   "nbconvert_exporter": "python",
   "pygments_lexer": "ipython3",
   "version": "3.11.4"
  }
 },
 "nbformat": 4,
 "nbformat_minor": 2
}
